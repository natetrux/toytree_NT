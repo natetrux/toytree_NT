{
 "cells": [
  {
   "cell_type": "markdown",
   "metadata": {},
   "source": [
    "## Styling toytree drawings\n",
    "\n",
    "The number of styling available in toytree is enormous and will continue to grow as development on the project continues. If you have a specific styling option that does not appear to be supported please raise a issue on GitHub and we can discuss adding support for it. Below I try to demonstrate the options and usage of each styling option with at least one example. "
   ]
  },
  {
   "cell_type": "code",
   "execution_count": 38,
   "metadata": {},
   "outputs": [],
   "source": [
    "import toytree\n",
    "import toyplot\n",
    "import numpy as np\n",
    "\n",
    "# a tree to use for examples\n",
    "url = \"https://eaton-lab.org/data/Cyathophora.tre\"\n",
    "rtre = toytree.tree(url).root(13) #13th node corresponds to przewalskii outgroup"
   ]
  },
  {
   "cell_type": "markdown",
   "metadata": {},
   "source": [
    "### Tip label styling"
   ]
  },
  {
   "cell_type": "markdown",
   "metadata": {},
   "source": [
    "#### tip_labels\n",
    "\n",
    "**Type:** boolean or list  \n",
    "**Allowed:** True, False, or list (length of ntips)  \n",
    "**Default:** True  \n",
    "**Description:** Shows or hides tip labels (boolean), or replaces tip labels with a user defined list. "
   ]
  },
  {
   "cell_type": "code",
   "execution_count": 39,
   "metadata": {},
   "outputs": [
    {
     "data": {
      "text/html": [
       "<div class=\"toyplot\" id=\"teeeffa740ccd4ed6972b3494060f6a8a\" style=\"text-align:center\"><svg class=\"toyplot-canvas-Canvas\" xmlns:toyplot=\"http://www.sandia.gov/toyplot\" xmlns:xlink=\"http://www.w3.org/1999/xlink\" xmlns=\"http://www.w3.org/2000/svg\" width=\"300.0px\" height=\"275.0px\" viewBox=\"0 0 300.0 275.0\" preserveAspectRatio=\"xMidYMid meet\" style=\"background-color:transparent;border-color:#292724;border-style:none;border-width:1.0;fill:rgb(16.1%,15.3%,14.1%);fill-opacity:1.0;font-family:Helvetica;font-size:12px;opacity:1.0;stroke:rgb(16.1%,15.3%,14.1%);stroke-opacity:1.0;stroke-width:1.0\" id=\"t98a523ec4a05443a88a8ded65db3c903\"><g class=\"toyplot-coordinates-Cartesian\" id=\"t5d55a379add34d81b9d33e9ec4496fd4\"><clipPath id=\"td92e27958dd94aba96c3618b52bdf86c\"><rect x=\"35.0\" y=\"35.0\" width=\"230.0\" height=\"205.0\"></rect></clipPath><g clip-path=\"url(#td92e27958dd94aba96c3618b52bdf86c)\"><g class=\"toytree-mark-Toytree\" id=\"tac0895e1ae764f739258e8dc1745144b\"><g class=\"toytree-Edges\" style=\"stroke:rgb(14.5%,14.5%,14.5%);stroke-opacity:1.0;stroke-linecap:round;stroke-width:2.0;fill:none\"><path d=\"M 158.1 216.8 L 158.1 224.0 L 173.6 224.0\" id=\"13,0\" style=\"\"></path><path d=\"M 158.1 216.8 L 158.1 209.6 L 172.9 209.6\" id=\"13,1\" style=\"\"></path><path d=\"M 190.3 178.5 L 190.3 195.2 L 224.1 195.2\" id=\"19,2\" style=\"\"></path><path d=\"M 196.5 161.8 L 196.5 180.8 L 235.5 180.8\" id=\"18,3\" style=\"\"></path><path d=\"M 214.5 159.1 L 214.5 166.3 L 234.5 166.3\" id=\"14,4\" style=\"\"></path><path d=\"M 214.5 159.1 L 214.5 151.9 L 234.8 151.9\" id=\"14,5\" style=\"\"></path><path d=\"M 205.6 126.7 L 205.6 137.5 L 240.3 137.5\" id=\"16,6\" style=\"\"></path><path d=\"M 242.5 115.9 L 242.5 123.1 L 248.2 123.1\" id=\"15,7\" style=\"\"></path><path d=\"M 242.5 115.9 L 242.5 108.7 L 249.0 108.7\" id=\"15,8\" style=\"\"></path><path d=\"M 190.1 87.0 L 190.1 94.2 L 228.0 94.2\" id=\"20,9\" style=\"\"></path><path d=\"M 190.1 87.0 L 190.1 79.8 L 230.2 79.8\" id=\"20,10\" style=\"\"></path><path d=\"M 232.1 58.2 L 232.1 65.4 L 232.7 65.4\" id=\"21,11\" style=\"\"></path><path d=\"M 232.1 58.2 L 232.1 51.0 L 232.5 51.0\" id=\"21,12\" style=\"\"></path><path d=\"M 51.0 171.2 L 51.0 216.8 L 158.1 216.8\" id=\"24,13\" style=\"\"></path><path d=\"M 201.2 142.9 L 201.2 159.1 L 214.5 159.1\" id=\"17,14\" style=\"\"></path><path d=\"M 205.6 126.7 L 205.6 115.9 L 242.5 115.9\" id=\"16,15\" style=\"\"></path><path d=\"M 201.2 142.9 L 201.2 126.7 L 205.6 126.7\" id=\"17,16\" style=\"\"></path><path d=\"M 196.5 161.8 L 196.5 142.9 L 201.2 142.9\" id=\"18,17\" style=\"\"></path><path d=\"M 190.3 178.5 L 190.3 161.8 L 196.5 161.8\" id=\"19,18\" style=\"\"></path><path d=\"M 158.1 125.6 L 158.1 178.5 L 190.3 178.5\" id=\"23,19\" style=\"\"></path><path d=\"M 175.9 72.6 L 175.9 87.0 L 190.1 87.0\" id=\"22,20\" style=\"\"></path><path d=\"M 175.9 72.6 L 175.9 58.2 L 232.1 58.2\" id=\"22,21\" style=\"\"></path><path d=\"M 158.1 125.6 L 158.1 72.6 L 175.9 72.6\" id=\"23,22\" style=\"\"></path><path d=\"M 51.0 171.2 L 51.0 125.6 L 158.1 125.6\" id=\"24,23\" style=\"\"></path></g><g class=\"toytree-AdmixEdges\" style=\"fill:rgb(0.0%,0.0%,0.0%);fill-opacity:0.0;stroke:rgb(90.6%,54.1%,76.5%);stroke-opacity:0.6;font-size:14px;stroke-linecap:round;stroke-width:5\"></g><g class=\"toytree-Nodes\" style=\"fill:rgb(40.0%,76.1%,64.7%);fill-opacity:1.0;stroke:rgb(14.9%,14.9%,14.9%);stroke-opacity:1.0;stroke-width:1.5\"></g></g></g></g></svg><div class=\"toyplot-behavior\"><script>(function()\n",
       "{\n",
       "var modules={};\n",
       "})();</script></div></div>"
      ]
     },
     "metadata": {},
     "output_type": "display_data"
    }
   ],
   "source": [
    "# hide tip labels\n",
    "rtre.draw(tip_labels=False);"
   ]
  },
  {
   "cell_type": "code",
   "execution_count": 40,
   "metadata": {},
   "outputs": [
    {
     "data": {
      "text/html": [
       "<div class=\"toyplot\" id=\"t30a100e54b454f6197e52f6b2b6b1add\" style=\"text-align:center\"><svg class=\"toyplot-canvas-Canvas\" xmlns:toyplot=\"http://www.sandia.gov/toyplot\" xmlns:xlink=\"http://www.w3.org/1999/xlink\" xmlns=\"http://www.w3.org/2000/svg\" width=\"453.472px\" height=\"315.28px\" viewBox=\"0 0 453.472 315.28\" preserveAspectRatio=\"xMidYMid meet\" style=\"background-color:transparent;border-color:#292724;border-style:none;border-width:1.0;fill:rgb(16.1%,15.3%,14.1%);fill-opacity:1.0;font-family:Helvetica;font-size:12px;opacity:1.0;stroke:rgb(16.1%,15.3%,14.1%);stroke-opacity:1.0;stroke-width:1.0\" id=\"t23cd03a67b7b4316a412cdadf756fd37\"><g class=\"toyplot-coordinates-Cartesian\" id=\"taf5f0533466548f8b4447917dfcfddb3\"><clipPath id=\"tef2e1b33ecdb485d8db84f7fedc79a53\"><rect x=\"35.0\" y=\"35.0\" width=\"383.472\" height=\"245.27999999999997\"></rect></clipPath><g clip-path=\"url(#tef2e1b33ecdb485d8db84f7fedc79a53)\"><g class=\"toytree-mark-Toytree\" id=\"tbc512d33d3984f2d9f33ebf39d6c8105\"><g class=\"toytree-Edges\" style=\"stroke:rgb(14.5%,14.5%,14.5%);stroke-opacity:1.0;stroke-linecap:round;stroke-width:2.0;fill:none\"><path d=\"M 160.9 250.1 L 160.9 258.5 L 176.9 258.5\" id=\"13,0\" style=\"\"></path><path d=\"M 160.9 250.1 L 160.9 241.7 L 176.1 241.7\" id=\"13,1\" style=\"\"></path><path d=\"M 194.0 205.5 L 194.0 224.9 L 228.8 224.9\" id=\"19,2\" style=\"\"></path><path d=\"M 200.4 186.0 L 200.4 208.1 L 240.6 208.1\" id=\"18,3\" style=\"\"></path><path d=\"M 218.9 182.9 L 218.9 191.3 L 239.6 191.3\" id=\"14,4\" style=\"\"></path><path d=\"M 218.9 182.9 L 218.9 174.5 L 239.9 174.5\" id=\"14,5\" style=\"\"></path><path d=\"M 209.8 145.0 L 209.8 157.6 L 245.5 157.6\" id=\"16,6\" style=\"\"></path><path d=\"M 247.8 132.4 L 247.8 140.8 L 253.7 140.8\" id=\"15,7\" style=\"\"></path><path d=\"M 247.8 132.4 L 247.8 124.0 L 254.5 124.0\" id=\"15,8\" style=\"\"></path><path d=\"M 193.9 98.8 L 193.9 107.2 L 232.9 107.2\" id=\"20,9\" style=\"\"></path><path d=\"M 193.9 98.8 L 193.9 90.4 L 235.1 90.4\" id=\"20,10\" style=\"\"></path><path d=\"M 237.1 65.2 L 237.1 73.6 L 237.6 73.6\" id=\"21,11\" style=\"\"></path><path d=\"M 237.1 65.2 L 237.1 56.7 L 237.4 56.7\" id=\"21,12\" style=\"\"></path><path d=\"M 50.6 196.9 L 50.6 250.1 L 160.9 250.1\" id=\"24,13\" style=\"\"></path><path d=\"M 205.2 163.9 L 205.2 182.9 L 218.9 182.9\" id=\"17,14\" style=\"\"></path><path d=\"M 209.8 145.0 L 209.8 132.4 L 247.8 132.4\" id=\"16,15\" style=\"\"></path><path d=\"M 205.2 163.9 L 205.2 145.0 L 209.8 145.0\" id=\"17,16\" style=\"\"></path><path d=\"M 200.4 186.0 L 200.4 163.9 L 205.2 163.9\" id=\"18,17\" style=\"\"></path><path d=\"M 194.0 205.5 L 194.0 186.0 L 200.4 186.0\" id=\"19,18\" style=\"\"></path><path d=\"M 160.9 143.7 L 160.9 205.5 L 194.0 205.5\" id=\"23,19\" style=\"\"></path><path d=\"M 179.2 82.0 L 179.2 98.8 L 193.9 98.8\" id=\"22,20\" style=\"\"></path><path d=\"M 179.2 82.0 L 179.2 65.2 L 237.1 65.2\" id=\"22,21\" style=\"\"></path><path d=\"M 160.9 143.7 L 160.9 82.0 L 179.2 82.0\" id=\"23,22\" style=\"\"></path><path d=\"M 50.6 196.9 L 50.6 143.7 L 160.9 143.7\" id=\"24,23\" style=\"\"></path></g><g class=\"toytree-AdmixEdges\" style=\"fill:rgb(0.0%,0.0%,0.0%);fill-opacity:0.0;stroke:rgb(90.6%,54.1%,76.5%);stroke-opacity:0.6;font-size:14px;stroke-linecap:round;stroke-width:5\"></g><g class=\"toytree-Nodes\" style=\"fill:rgb(40.0%,76.1%,64.7%);fill-opacity:1.0;stroke:rgb(14.9%,14.9%,14.9%);stroke-opacity:1.0;stroke-width:1.5\"></g><g class=\"toytree-TipLabels\" style=\"fill:rgb(14.5%,14.5%,14.5%);fill-opacity:1.0;font-family:Helvetica;font-size:12px;font-weight:300;vertical-align:baseline;white-space:pre;stroke:none\"><g class=\"toytree-TipLabel\" transform=\"translate(176.861,258.531)\"><text x=\"15.0\" y=\"3.066\" style=\"fill:rgb(14.5%,14.5%,14.5%);fill-opacity:1.0\">32082_przewalskii</text></g><g class=\"toytree-TipLabel\" transform=\"translate(176.111,241.716)\"><text x=\"15.0\" y=\"3.066\" style=\"fill:rgb(14.5%,14.5%,14.5%);fill-opacity:1.0\">33588_przewalskii</text></g><g class=\"toytree-TipLabel\" transform=\"translate(228.823,224.901)\"><text x=\"15.0\" y=\"3.066\" style=\"fill:rgb(14.5%,14.5%,14.5%);fill-opacity:1.0\">33413_thamno</text></g><g class=\"toytree-TipLabel\" transform=\"translate(240.587,208.086)\"><text x=\"15.0\" y=\"3.066\" style=\"fill:rgb(14.5%,14.5%,14.5%);fill-opacity:1.0\">30556_thamno</text></g><g class=\"toytree-TipLabel\" transform=\"translate(239.573,191.27)\"><text x=\"15.0\" y=\"3.066\" style=\"fill:rgb(14.5%,14.5%,14.5%);fill-opacity:1.0\">40578_rex</text></g><g class=\"toytree-TipLabel\" transform=\"translate(239.853,174.455)\"><text x=\"15.0\" y=\"3.066\" style=\"fill:rgb(14.5%,14.5%,14.5%);fill-opacity:1.0\">35855_rex</text></g><g class=\"toytree-TipLabel\" transform=\"translate(245.479,157.64)\"><text x=\"15.0\" y=\"3.066\" style=\"fill:rgb(14.5%,14.5%,14.5%);fill-opacity:1.0\">35236_rex</text></g><g class=\"toytree-TipLabel\" transform=\"translate(253.673,140.825)\"><text x=\"15.0\" y=\"3.066\" style=\"fill:rgb(14.5%,14.5%,14.5%);fill-opacity:1.0\">39618_rex</text></g><g class=\"toytree-TipLabel\" transform=\"translate(254.473,124.01)\"><text x=\"15.0\" y=\"3.066\" style=\"fill:rgb(14.5%,14.5%,14.5%);fill-opacity:1.0\">38362_rex</text></g><g class=\"toytree-TipLabel\" transform=\"translate(232.869,107.194)\"><text x=\"15.0\" y=\"3.066\" style=\"fill:rgb(14.5%,14.5%,14.5%);fill-opacity:1.0\">29154_superba</text></g><g class=\"toytree-TipLabel\" transform=\"translate(235.066,90.3791)\"><text x=\"15.0\" y=\"3.066\" style=\"fill:rgb(14.5%,14.5%,14.5%);fill-opacity:1.0\">30686_cyathophylla</text></g><g class=\"toytree-TipLabel\" transform=\"translate(237.647,73.5638)\"><text x=\"15.0\" y=\"3.066\" style=\"fill:rgb(14.5%,14.5%,14.5%);fill-opacity:1.0\">41954_cyathophylloides</text></g><g class=\"toytree-TipLabel\" transform=\"translate(237.425,56.7486)\"><text x=\"15.0\" y=\"3.066\" style=\"fill:rgb(14.5%,14.5%,14.5%);fill-opacity:1.0\">41478_cyathophylloides</text></g></g></g></g></g></svg><div class=\"toyplot-behavior\"><script>(function()\n",
       "{\n",
       "var modules={};\n",
       "})();</script></div></div>"
      ]
     },
     "metadata": {},
     "output_type": "display_data"
    }
   ],
   "source": [
    "# get tip labels from tree\n",
    "tipnames = rtre.get_tip_labels()\n",
    "\n",
    "# modify list so that html italic tags surround text\n",
    "italicnames = [\"<i>{}</i>\".format(i) for i in tipnames]\n",
    "\n",
    "# enter the list of names to tip_labels\n",
    "rtre.draw(tip_labels=italicnames);"
   ]
  },
  {
   "cell_type": "markdown",
   "metadata": {},
   "source": [
    "#### tip_labels_align\n",
    "\n",
    "**Type:** boolean  \n",
    "**Allowed:** True, False  \n",
    "**Default:** False  \n",
    "**Description:** Add lines connecting tips to tip labels. See [edge_align_style](#edge_align_style) for ways to style the extra tip lines (colors, etc.). "
   ]
  },
  {
   "cell_type": "code",
   "execution_count": 41,
   "metadata": {},
   "outputs": [
    {
     "data": {
      "text/html": [
       "<div class=\"toyplot\" id=\"t1540fec859b346fcb8d9d81696f34953\" style=\"text-align:center\"><svg class=\"toyplot-canvas-Canvas\" xmlns:toyplot=\"http://www.sandia.gov/toyplot\" xmlns:xlink=\"http://www.w3.org/1999/xlink\" xmlns=\"http://www.w3.org/2000/svg\" width=\"453.472px\" height=\"315.28px\" viewBox=\"0 0 453.472 315.28\" preserveAspectRatio=\"xMidYMid meet\" style=\"background-color:transparent;border-color:#292724;border-style:none;border-width:1.0;fill:rgb(16.1%,15.3%,14.1%);fill-opacity:1.0;font-family:Helvetica;font-size:12px;opacity:1.0;stroke:rgb(16.1%,15.3%,14.1%);stroke-opacity:1.0;stroke-width:1.0\" id=\"teec8316f4db34b8a9e6fac8e3c19da60\"><g class=\"toyplot-coordinates-Cartesian\" id=\"tb447d799023d49f29732a28729321dbf\"><clipPath id=\"t74b8dc1b48144471bc6e763db207a1ba\"><rect x=\"35.0\" y=\"35.0\" width=\"383.472\" height=\"245.27999999999997\"></rect></clipPath><g clip-path=\"url(#t74b8dc1b48144471bc6e763db207a1ba)\"><g class=\"toytree-mark-Toytree\" id=\"t9e0adaac60d2451ea1596cb8b07a5aee\"><g class=\"toytree-Edges\" style=\"stroke:rgb(14.5%,14.5%,14.5%);stroke-opacity:1.0;stroke-linecap:round;stroke-width:2.0;fill:none\"><path d=\"M 155.9 250.1 L 155.9 258.5 L 171.1 258.5\" id=\"13,0\" style=\"\"></path><path d=\"M 155.9 250.1 L 155.9 241.7 L 170.4 241.7\" id=\"13,1\" style=\"\"></path><path d=\"M 187.5 205.5 L 187.5 224.9 L 220.7 224.9\" id=\"19,2\" style=\"\"></path><path d=\"M 193.6 186.0 L 193.6 208.1 L 231.9 208.1\" id=\"18,3\" style=\"\"></path><path d=\"M 211.3 182.9 L 211.3 191.3 L 231.0 191.3\" id=\"14,4\" style=\"\"></path><path d=\"M 211.3 182.9 L 211.3 174.5 L 231.2 174.5\" id=\"14,5\" style=\"\"></path><path d=\"M 202.5 145.0 L 202.5 157.6 L 236.6 157.6\" id=\"16,6\" style=\"\"></path><path d=\"M 238.8 132.4 L 238.8 140.8 L 244.4 140.8\" id=\"15,7\" style=\"\"></path><path d=\"M 238.8 132.4 L 238.8 124.0 L 245.2 124.0\" id=\"15,8\" style=\"\"></path><path d=\"M 187.3 98.8 L 187.3 107.2 L 224.6 107.2\" id=\"20,9\" style=\"\"></path><path d=\"M 187.3 98.8 L 187.3 90.4 L 226.7 90.4\" id=\"20,10\" style=\"\"></path><path d=\"M 228.6 65.2 L 228.6 73.6 L 229.1 73.6\" id=\"21,11\" style=\"\"></path><path d=\"M 228.6 65.2 L 228.6 56.7 L 228.9 56.7\" id=\"21,12\" style=\"\"></path><path d=\"M 50.6 196.9 L 50.6 250.1 L 155.9 250.1\" id=\"24,13\" style=\"\"></path><path d=\"M 198.2 163.9 L 198.2 182.9 L 211.3 182.9\" id=\"17,14\" style=\"\"></path><path d=\"M 202.5 145.0 L 202.5 132.4 L 238.8 132.4\" id=\"16,15\" style=\"\"></path><path d=\"M 198.2 163.9 L 198.2 145.0 L 202.5 145.0\" id=\"17,16\" style=\"\"></path><path d=\"M 193.6 186.0 L 193.6 163.9 L 198.2 163.9\" id=\"18,17\" style=\"\"></path><path d=\"M 187.5 205.5 L 187.5 186.0 L 193.6 186.0\" id=\"19,18\" style=\"\"></path><path d=\"M 155.9 143.7 L 155.9 205.5 L 187.5 205.5\" id=\"23,19\" style=\"\"></path><path d=\"M 173.3 82.0 L 173.3 98.8 L 187.3 98.8\" id=\"22,20\" style=\"\"></path><path d=\"M 173.3 82.0 L 173.3 65.2 L 228.6 65.2\" id=\"22,21\" style=\"\"></path><path d=\"M 155.9 143.7 L 155.9 82.0 L 173.3 82.0\" id=\"23,22\" style=\"\"></path><path d=\"M 50.6 196.9 L 50.6 143.7 L 155.9 143.7\" id=\"24,23\" style=\"\"></path></g><g class=\"toytree-AlignEdges\" style=\"stroke:rgb(66.0%,66.0%,66.0%);stroke-opacity:0.75;stroke-dasharray:2,4;stroke-linecap:round;stroke-width:2\"><path d=\"M 245.2 258.5 L 171.1 258.5\"></path><path d=\"M 245.2 241.7 L 170.4 241.7\"></path><path d=\"M 245.2 224.9 L 220.7 224.9\"></path><path d=\"M 245.2 208.1 L 231.9 208.1\"></path><path d=\"M 245.2 191.3 L 231.0 191.3\"></path><path d=\"M 245.2 174.5 L 231.2 174.5\"></path><path d=\"M 245.2 157.6 L 236.6 157.6\"></path><path d=\"M 245.2 140.8 L 244.4 140.8\"></path><path d=\"M 245.2 124.0 L 245.2 124.0\"></path><path d=\"M 245.2 107.2 L 224.6 107.2\"></path><path d=\"M 245.2 90.4 L 226.7 90.4\"></path><path d=\"M 245.2 73.6 L 229.1 73.6\"></path><path d=\"M 245.2 56.7 L 228.9 56.7\"></path></g><g class=\"toytree-AdmixEdges\" style=\"fill:rgb(0.0%,0.0%,0.0%);fill-opacity:0.0;stroke:rgb(90.6%,54.1%,76.5%);stroke-opacity:0.6;font-size:14px;stroke-linecap:round;stroke-width:5\"></g><g class=\"toytree-Nodes\" style=\"fill:rgb(40.0%,76.1%,64.7%);fill-opacity:1.0;stroke:rgb(14.9%,14.9%,14.9%);stroke-opacity:1.0;stroke-width:1.5\"></g><g class=\"toytree-TipLabels\" style=\"fill:rgb(14.5%,14.5%,14.5%);fill-opacity:1.0;font-family:Helvetica;font-size:12px;font-weight:300;vertical-align:baseline;white-space:pre;stroke:none\"><g class=\"toytree-TipLabel\" transform=\"translate(245.182,258.531)\"><text x=\"15.0\" y=\"3.066\" style=\"fill:rgb(14.5%,14.5%,14.5%);fill-opacity:1.0\">32082_przewalskii</text></g><g class=\"toytree-TipLabel\" transform=\"translate(245.182,241.716)\"><text x=\"15.0\" y=\"3.066\" style=\"fill:rgb(14.5%,14.5%,14.5%);fill-opacity:1.0\">33588_przewalskii</text></g><g class=\"toytree-TipLabel\" transform=\"translate(245.182,224.901)\"><text x=\"15.0\" y=\"3.066\" style=\"fill:rgb(14.5%,14.5%,14.5%);fill-opacity:1.0\">33413_thamno</text></g><g class=\"toytree-TipLabel\" transform=\"translate(245.182,208.086)\"><text x=\"15.0\" y=\"3.066\" style=\"fill:rgb(14.5%,14.5%,14.5%);fill-opacity:1.0\">30556_thamno</text></g><g class=\"toytree-TipLabel\" transform=\"translate(245.182,191.27)\"><text x=\"15.0\" y=\"3.066\" style=\"fill:rgb(14.5%,14.5%,14.5%);fill-opacity:1.0\">40578_rex</text></g><g class=\"toytree-TipLabel\" transform=\"translate(245.182,174.455)\"><text x=\"15.0\" y=\"3.066\" style=\"fill:rgb(14.5%,14.5%,14.5%);fill-opacity:1.0\">35855_rex</text></g><g class=\"toytree-TipLabel\" transform=\"translate(245.182,157.64)\"><text x=\"15.0\" y=\"3.066\" style=\"fill:rgb(14.5%,14.5%,14.5%);fill-opacity:1.0\">35236_rex</text></g><g class=\"toytree-TipLabel\" transform=\"translate(245.182,140.825)\"><text x=\"15.0\" y=\"3.066\" style=\"fill:rgb(14.5%,14.5%,14.5%);fill-opacity:1.0\">39618_rex</text></g><g class=\"toytree-TipLabel\" transform=\"translate(245.182,124.01)\"><text x=\"15.0\" y=\"3.066\" style=\"fill:rgb(14.5%,14.5%,14.5%);fill-opacity:1.0\">38362_rex</text></g><g class=\"toytree-TipLabel\" transform=\"translate(245.182,107.194)\"><text x=\"15.0\" y=\"3.066\" style=\"fill:rgb(14.5%,14.5%,14.5%);fill-opacity:1.0\">29154_superba</text></g><g class=\"toytree-TipLabel\" transform=\"translate(245.182,90.3791)\"><text x=\"15.0\" y=\"3.066\" style=\"fill:rgb(14.5%,14.5%,14.5%);fill-opacity:1.0\">30686_cyathophylla</text></g><g class=\"toytree-TipLabel\" transform=\"translate(245.182,73.5638)\"><text x=\"15.0\" y=\"3.066\" style=\"fill:rgb(14.5%,14.5%,14.5%);fill-opacity:1.0\">41954_cyathophylloides</text></g><g class=\"toytree-TipLabel\" transform=\"translate(245.182,56.7486)\"><text x=\"15.0\" y=\"3.066\" style=\"fill:rgb(14.5%,14.5%,14.5%);fill-opacity:1.0\">41478_cyathophylloides</text></g></g></g></g></g></svg><div class=\"toyplot-behavior\"><script>(function()\n",
       "{\n",
       "var modules={};\n",
       "})();</script></div></div>"
      ]
     },
     "metadata": {},
     "output_type": "display_data"
    }
   ],
   "source": [
    "rtre.draw(tip_labels_align=True);"
   ]
  },
  {
   "cell_type": "markdown",
   "metadata": {},
   "source": [
    "#### tip_labels_angles\n",
    "\n",
    "**Type:** (int, float)  \n",
    "**Allowed:** Any integer or float.   \n",
    "**Default:** 0&deg;  \n",
    "**Description:** Rotates all tip labels by the amount of degrees given. Positive angles rotate the tips counterclockwise and negative angles rotate the tips clockwise.  "
   ]
  },
  {
   "cell_type": "code",
   "execution_count": 42,
   "metadata": {},
   "outputs": [
    {
     "data": {
      "text/html": [
       "<div class=\"toyplot\" id=\"t05364c30898644c9928f43719bbaa963\" style=\"text-align:center\"><svg class=\"toyplot-canvas-Canvas\" xmlns:toyplot=\"http://www.sandia.gov/toyplot\" xmlns:xlink=\"http://www.w3.org/1999/xlink\" xmlns=\"http://www.w3.org/2000/svg\" width=\"440.46176556464724px\" height=\"738.1487201566862px\" viewBox=\"0 0 440.46176556464724 738.1487201566862\" preserveAspectRatio=\"xMidYMid meet\" style=\"background-color:transparent;border-color:#292724;border-style:none;border-width:1.0;fill:rgb(16.1%,15.3%,14.1%);fill-opacity:1.0;font-family:Helvetica;font-size:12px;opacity:1.0;stroke:rgb(16.1%,15.3%,14.1%);stroke-opacity:1.0;stroke-width:1.0\" id=\"tdcb82fd19f1d4e21a0cc83118638a472\"><g class=\"toyplot-coordinates-Cartesian\" id=\"t981f1de4395544e5802b0fcb2b939ba4\"><clipPath id=\"t8ba426ec71ca42448b4713fe636e5a54\"><rect x=\"35.0\" y=\"35.0\" width=\"370.46176556464724\" height=\"668.1487201566862\"></rect></clipPath><g clip-path=\"url(#t8ba426ec71ca42448b4713fe636e5a54)\"><g class=\"toytree-mark-Toytree\" id=\"t77319c625fa542a99a3d51799b14f4f8\"><g class=\"toytree-Edges\" style=\"stroke:rgb(14.5%,14.5%,14.5%);stroke-opacity:1.0;stroke-linecap:round;stroke-width:2.0;fill:none\"><path d=\"M 157.3 620.3 L 157.3 645.0 L 172.7 645.0\" id=\"13,0\" style=\"\"></path><path d=\"M 157.3 620.3 L 157.3 595.5 L 172.0 595.5\" id=\"13,1\" style=\"\"></path><path d=\"M 189.3 488.9 L 189.3 546.1 L 223.0 546.1\" id=\"19,2\" style=\"\"></path><path d=\"M 195.5 431.7 L 195.5 496.6 L 234.3 496.6\" id=\"18,3\" style=\"\"></path><path d=\"M 213.4 422.4 L 213.4 447.1 L 233.4 447.1\" id=\"14,4\" style=\"\"></path><path d=\"M 213.4 422.4 L 213.4 397.7 L 233.6 397.7\" id=\"14,5\" style=\"\"></path><path d=\"M 204.5 311.1 L 204.5 348.2 L 239.1 348.2\" id=\"16,6\" style=\"\"></path><path d=\"M 241.3 274.0 L 241.3 298.7 L 247.0 298.7\" id=\"15,7\" style=\"\"></path><path d=\"M 241.3 274.0 L 241.3 249.3 L 247.8 249.3\" id=\"15,8\" style=\"\"></path><path d=\"M 189.1 175.1 L 189.1 199.8 L 226.9 199.8\" id=\"20,9\" style=\"\"></path><path d=\"M 189.1 175.1 L 189.1 150.3 L 229.0 150.3\" id=\"20,10\" style=\"\"></path><path d=\"M 231.0 76.1 L 231.0 100.9 L 231.5 100.9\" id=\"21,11\" style=\"\"></path><path d=\"M 231.0 76.1 L 231.0 51.4 L 231.3 51.4\" id=\"21,12\" style=\"\"></path><path d=\"M 50.6 463.8 L 50.6 620.3 L 157.3 620.3\" id=\"24,13\" style=\"\"></path><path d=\"M 200.1 366.8 L 200.1 422.4 L 213.4 422.4\" id=\"17,14\" style=\"\"></path><path d=\"M 204.5 311.1 L 204.5 274.0 L 241.3 274.0\" id=\"16,15\" style=\"\"></path><path d=\"M 200.1 366.8 L 200.1 311.1 L 204.5 311.1\" id=\"17,16\" style=\"\"></path><path d=\"M 195.5 431.7 L 195.5 366.8 L 200.1 366.8\" id=\"18,17\" style=\"\"></path><path d=\"M 189.3 488.9 L 189.3 431.7 L 195.5 431.7\" id=\"19,18\" style=\"\"></path><path d=\"M 157.3 307.2 L 157.3 488.9 L 189.3 488.9\" id=\"23,19\" style=\"\"></path><path d=\"M 175.0 125.6 L 175.0 175.1 L 189.1 175.1\" id=\"22,20\" style=\"\"></path><path d=\"M 175.0 125.6 L 175.0 76.1 L 231.0 76.1\" id=\"22,21\" style=\"\"></path><path d=\"M 157.3 307.2 L 157.3 125.6 L 175.0 125.6\" id=\"23,22\" style=\"\"></path><path d=\"M 50.6 463.8 L 50.6 307.2 L 157.3 307.2\" id=\"24,23\" style=\"\"></path></g><g class=\"toytree-AdmixEdges\" style=\"fill:rgb(0.0%,0.0%,0.0%);fill-opacity:0.0;stroke:rgb(90.6%,54.1%,76.5%);stroke-opacity:0.6;font-size:14px;stroke-linecap:round;stroke-width:5\"></g><g class=\"toytree-Nodes\" style=\"fill:rgb(40.0%,76.1%,64.7%);fill-opacity:1.0;stroke:rgb(14.9%,14.9%,14.9%);stroke-opacity:1.0;stroke-width:1.5\"></g><g class=\"toytree-TipLabels\" style=\"fill:rgb(14.5%,14.5%,14.5%);fill-opacity:1.0;font-family:Helvetica;font-size:12px;font-weight:300;vertical-align:baseline;white-space:pre;stroke:none\"><g class=\"toytree-TipLabel\" transform=\"translate(172.711,645.006)rotate(20.4)\"><text x=\"15.0\" y=\"3.066\" style=\"fill:rgb(14.5%,14.5%,14.5%);fill-opacity:1.0\">32082_przewalskii</text></g><g class=\"toytree-TipLabel\" transform=\"translate(171.985,595.54)rotate(20.4)\"><text x=\"15.0\" y=\"3.066\" style=\"fill:rgb(14.5%,14.5%,14.5%);fill-opacity:1.0\">33588_przewalskii</text></g><g class=\"toytree-TipLabel\" transform=\"translate(222.964,546.074)rotate(20.4)\"><text x=\"15.0\" y=\"3.066\" style=\"fill:rgb(14.5%,14.5%,14.5%);fill-opacity:1.0\">33413_thamno</text></g><g class=\"toytree-TipLabel\" transform=\"translate(234.34,496.608)rotate(20.4)\"><text x=\"15.0\" y=\"3.066\" style=\"fill:rgb(14.5%,14.5%,14.5%);fill-opacity:1.0\">30556_thamno</text></g><g class=\"toytree-TipLabel\" transform=\"translate(233.36,447.142)rotate(20.4)\"><text x=\"15.0\" y=\"3.066\" style=\"fill:rgb(14.5%,14.5%,14.5%);fill-opacity:1.0\">40578_rex</text></g><g class=\"toytree-TipLabel\" transform=\"translate(233.631,397.676)rotate(20.4)\"><text x=\"15.0\" y=\"3.066\" style=\"fill:rgb(14.5%,14.5%,14.5%);fill-opacity:1.0\">35855_rex</text></g><g class=\"toytree-TipLabel\" transform=\"translate(239.071,348.21)rotate(20.4)\"><text x=\"15.0\" y=\"3.066\" style=\"fill:rgb(14.5%,14.5%,14.5%);fill-opacity:1.0\">35236_rex</text></g><g class=\"toytree-TipLabel\" transform=\"translate(246.996,298.744)rotate(20.4)\"><text x=\"15.0\" y=\"3.066\" style=\"fill:rgb(14.5%,14.5%,14.5%);fill-opacity:1.0\">39618_rex</text></g><g class=\"toytree-TipLabel\" transform=\"translate(247.77,249.278)rotate(20.4)\"><text x=\"15.0\" y=\"3.066\" style=\"fill:rgb(14.5%,14.5%,14.5%);fill-opacity:1.0\">38362_rex</text></g><g class=\"toytree-TipLabel\" transform=\"translate(226.877,199.812)rotate(20.4)\"><text x=\"15.0\" y=\"3.066\" style=\"fill:rgb(14.5%,14.5%,14.5%);fill-opacity:1.0\">29154_superba</text></g><g class=\"toytree-TipLabel\" transform=\"translate(229.001,150.346)rotate(20.4)\"><text x=\"15.0\" y=\"3.066\" style=\"fill:rgb(14.5%,14.5%,14.5%);fill-opacity:1.0\">30686_cyathophylla</text></g><g class=\"toytree-TipLabel\" transform=\"translate(231.497,100.88)rotate(20.4)\"><text x=\"15.0\" y=\"3.066\" style=\"fill:rgb(14.5%,14.5%,14.5%);fill-opacity:1.0\">41954_cyathophylloides</text></g><g class=\"toytree-TipLabel\" transform=\"translate(231.283,51.4137)rotate(20.4)\"><text x=\"15.0\" y=\"3.066\" style=\"fill:rgb(14.5%,14.5%,14.5%);fill-opacity:1.0\">41478_cyathophylloides</text></g></g></g></g></g></svg><div class=\"toyplot-behavior\"><script>(function()\n",
       "{\n",
       "var modules={};\n",
       "})();</script></div></div>"
      ]
     },
     "metadata": {},
     "output_type": "display_data"
    }
   ],
   "source": [
    "rtre.draw(tip_labels_angles=-20.4);"
   ]
  },
  {
   "cell_type": "markdown",
   "metadata": {},
   "source": [
    "#### tip_labels_colors\n",
    "\n",
    "**Type:** (str, tuple, list)  \n",
    "**Allowed:** Any color values supported in [toyplot colors](https://toyplot.readthedocs.io/en/stable/colors.html#color-values).   \n",
    "**Default:** `\"#262626\"` (near black)  \n",
    "**Description:** A single value can be applied to color all tip labels, or a list of values can be entered to apply different colors to different tip labels. The order of colors is applied to tip labels in the same order as `.get_tip_labels()` returns the labels. This order (the plot order) is from the tip located on the zero-axis (e.g., x=0 for right-facing trees) and continuing until the last name. If both `tip_labels_colors` and `tip_labels_style[\"fill\"]` are used `tip_labels_colors` overrides the other. In contrast to the fill style, only this option can be used to apply multiple colors.  "
   ]
  },
  {
   "cell_type": "code",
   "execution_count": 43,
   "metadata": {},
   "outputs": [
    {
     "data": {
      "text/html": [
       "<div class=\"toyplot\" id=\"t163ac74a32414651bfc5eed3e98317c0\" style=\"text-align:center\"><svg class=\"toyplot-canvas-Canvas\" xmlns:toyplot=\"http://www.sandia.gov/toyplot\" xmlns:xlink=\"http://www.w3.org/1999/xlink\" xmlns=\"http://www.w3.org/2000/svg\" width=\"453.472px\" height=\"315.28px\" viewBox=\"0 0 453.472 315.28\" preserveAspectRatio=\"xMidYMid meet\" style=\"background-color:transparent;border-color:#292724;border-style:none;border-width:1.0;fill:rgb(16.1%,15.3%,14.1%);fill-opacity:1.0;font-family:Helvetica;font-size:12px;opacity:1.0;stroke:rgb(16.1%,15.3%,14.1%);stroke-opacity:1.0;stroke-width:1.0\" id=\"t3163844dc3854396ade8d723041c970b\"><g class=\"toyplot-coordinates-Cartesian\" id=\"t18ea68918ed74d4cb16de90901d25cbd\"><clipPath id=\"t9a478d047b684113b011efa437a75c20\"><rect x=\"35.0\" y=\"35.0\" width=\"383.472\" height=\"245.27999999999997\"></rect></clipPath><g clip-path=\"url(#t9a478d047b684113b011efa437a75c20)\"><g class=\"toytree-mark-Toytree\" id=\"tfef663d4c97f4e73b5382136d5550afe\"><g class=\"toytree-Edges\" style=\"stroke:rgb(14.5%,14.5%,14.5%);stroke-opacity:1.0;stroke-linecap:round;stroke-width:2.0;fill:none\"><path d=\"M 155.9 250.1 L 155.9 258.5 L 171.1 258.5\" id=\"13,0\" style=\"\"></path><path d=\"M 155.9 250.1 L 155.9 241.7 L 170.4 241.7\" id=\"13,1\" style=\"\"></path><path d=\"M 187.5 205.5 L 187.5 224.9 L 220.7 224.9\" id=\"19,2\" style=\"\"></path><path d=\"M 193.6 186.0 L 193.6 208.1 L 231.9 208.1\" id=\"18,3\" style=\"\"></path><path d=\"M 211.3 182.9 L 211.3 191.3 L 231.0 191.3\" id=\"14,4\" style=\"\"></path><path d=\"M 211.3 182.9 L 211.3 174.5 L 231.2 174.5\" id=\"14,5\" style=\"\"></path><path d=\"M 202.5 145.0 L 202.5 157.6 L 236.6 157.6\" id=\"16,6\" style=\"\"></path><path d=\"M 238.8 132.4 L 238.8 140.8 L 244.4 140.8\" id=\"15,7\" style=\"\"></path><path d=\"M 238.8 132.4 L 238.8 124.0 L 245.2 124.0\" id=\"15,8\" style=\"\"></path><path d=\"M 187.3 98.8 L 187.3 107.2 L 224.6 107.2\" id=\"20,9\" style=\"\"></path><path d=\"M 187.3 98.8 L 187.3 90.4 L 226.7 90.4\" id=\"20,10\" style=\"\"></path><path d=\"M 228.6 65.2 L 228.6 73.6 L 229.1 73.6\" id=\"21,11\" style=\"\"></path><path d=\"M 228.6 65.2 L 228.6 56.7 L 228.9 56.7\" id=\"21,12\" style=\"\"></path><path d=\"M 50.6 196.9 L 50.6 250.1 L 155.9 250.1\" id=\"24,13\" style=\"\"></path><path d=\"M 198.2 163.9 L 198.2 182.9 L 211.3 182.9\" id=\"17,14\" style=\"\"></path><path d=\"M 202.5 145.0 L 202.5 132.4 L 238.8 132.4\" id=\"16,15\" style=\"\"></path><path d=\"M 198.2 163.9 L 198.2 145.0 L 202.5 145.0\" id=\"17,16\" style=\"\"></path><path d=\"M 193.6 186.0 L 193.6 163.9 L 198.2 163.9\" id=\"18,17\" style=\"\"></path><path d=\"M 187.5 205.5 L 187.5 186.0 L 193.6 186.0\" id=\"19,18\" style=\"\"></path><path d=\"M 155.9 143.7 L 155.9 205.5 L 187.5 205.5\" id=\"23,19\" style=\"\"></path><path d=\"M 173.3 82.0 L 173.3 98.8 L 187.3 98.8\" id=\"22,20\" style=\"\"></path><path d=\"M 173.3 82.0 L 173.3 65.2 L 228.6 65.2\" id=\"22,21\" style=\"\"></path><path d=\"M 155.9 143.7 L 155.9 82.0 L 173.3 82.0\" id=\"23,22\" style=\"\"></path><path d=\"M 50.6 196.9 L 50.6 143.7 L 155.9 143.7\" id=\"24,23\" style=\"\"></path></g><g class=\"toytree-AlignEdges\" style=\"stroke:rgb(66.0%,66.0%,66.0%);stroke-opacity:0.75;stroke-dasharray:2,4;stroke-linecap:round;stroke-width:2\"><path d=\"M 245.2 258.5 L 171.1 258.5\"></path><path d=\"M 245.2 241.7 L 170.4 241.7\"></path><path d=\"M 245.2 224.9 L 220.7 224.9\"></path><path d=\"M 245.2 208.1 L 231.9 208.1\"></path><path d=\"M 245.2 191.3 L 231.0 191.3\"></path><path d=\"M 245.2 174.5 L 231.2 174.5\"></path><path d=\"M 245.2 157.6 L 236.6 157.6\"></path><path d=\"M 245.2 140.8 L 244.4 140.8\"></path><path d=\"M 245.2 124.0 L 245.2 124.0\"></path><path d=\"M 245.2 107.2 L 224.6 107.2\"></path><path d=\"M 245.2 90.4 L 226.7 90.4\"></path><path d=\"M 245.2 73.6 L 229.1 73.6\"></path><path d=\"M 245.2 56.7 L 228.9 56.7\"></path></g><g class=\"toytree-AdmixEdges\" style=\"fill:rgb(0.0%,0.0%,0.0%);fill-opacity:0.0;stroke:rgb(90.6%,54.1%,76.5%);stroke-opacity:0.6;font-size:14px;stroke-linecap:round;stroke-width:5\"></g><g class=\"toytree-Nodes\" style=\"fill:rgb(40.0%,76.1%,64.7%);fill-opacity:1.0;stroke:rgb(14.9%,14.9%,14.9%);stroke-opacity:1.0;stroke-width:1.5\"></g><g class=\"toytree-TipLabels\" style=\"fill:rgb(100.0%,64.7%,0.0%);fill-opacity:1.0;font-family:Helvetica;font-size:12px;font-weight:300;vertical-align:baseline;white-space:pre;stroke:none\"><g class=\"toytree-TipLabel\" transform=\"translate(245.182,258.531)\"><text x=\"15.0\" y=\"3.066\" style=\"fill:rgb(100.0%,64.7%,0.0%);fill-opacity:1.0\">32082_przewalskii</text></g><g class=\"toytree-TipLabel\" transform=\"translate(245.182,241.716)\"><text x=\"15.0\" y=\"3.066\" style=\"fill:rgb(100.0%,64.7%,0.0%);fill-opacity:1.0\">33588_przewalskii</text></g><g class=\"toytree-TipLabel\" transform=\"translate(245.182,224.901)\"><text x=\"15.0\" y=\"3.066\" style=\"fill:rgb(100.0%,64.7%,0.0%);fill-opacity:1.0\">33413_thamno</text></g><g class=\"toytree-TipLabel\" transform=\"translate(245.182,208.086)\"><text x=\"15.0\" y=\"3.066\" style=\"fill:rgb(100.0%,64.7%,0.0%);fill-opacity:1.0\">30556_thamno</text></g><g class=\"toytree-TipLabel\" transform=\"translate(245.182,191.27)\"><text x=\"15.0\" y=\"3.066\" style=\"fill:rgb(100.0%,64.7%,0.0%);fill-opacity:1.0\">40578_rex</text></g><g class=\"toytree-TipLabel\" transform=\"translate(245.182,174.455)\"><text x=\"15.0\" y=\"3.066\" style=\"fill:rgb(100.0%,64.7%,0.0%);fill-opacity:1.0\">35855_rex</text></g><g class=\"toytree-TipLabel\" transform=\"translate(245.182,157.64)\"><text x=\"15.0\" y=\"3.066\" style=\"fill:rgb(100.0%,64.7%,0.0%);fill-opacity:1.0\">35236_rex</text></g><g class=\"toytree-TipLabel\" transform=\"translate(245.182,140.825)\"><text x=\"15.0\" y=\"3.066\" style=\"fill:rgb(100.0%,64.7%,0.0%);fill-opacity:1.0\">39618_rex</text></g><g class=\"toytree-TipLabel\" transform=\"translate(245.182,124.01)\"><text x=\"15.0\" y=\"3.066\" style=\"fill:rgb(100.0%,64.7%,0.0%);fill-opacity:1.0\">38362_rex</text></g><g class=\"toytree-TipLabel\" transform=\"translate(245.182,107.194)\"><text x=\"15.0\" y=\"3.066\" style=\"fill:rgb(100.0%,64.7%,0.0%);fill-opacity:1.0\">29154_superba</text></g><g class=\"toytree-TipLabel\" transform=\"translate(245.182,90.3791)\"><text x=\"15.0\" y=\"3.066\" style=\"fill:rgb(100.0%,64.7%,0.0%);fill-opacity:1.0\">30686_cyathophylla</text></g><g class=\"toytree-TipLabel\" transform=\"translate(245.182,73.5638)\"><text x=\"15.0\" y=\"3.066\" style=\"fill:rgb(100.0%,64.7%,0.0%);fill-opacity:1.0\">41954_cyathophylloides</text></g><g class=\"toytree-TipLabel\" transform=\"translate(245.182,56.7486)\"><text x=\"15.0\" y=\"3.066\" style=\"fill:rgb(100.0%,64.7%,0.0%);fill-opacity:1.0\">41478_cyathophylloides</text></g></g></g></g></g></svg><div class=\"toyplot-behavior\"><script>(function()\n",
       "{\n",
       "var modules={};\n",
       "})();</script></div></div>"
      ]
     },
     "metadata": {},
     "output_type": "display_data"
    },
    {
     "data": {
      "text/html": [
       "<div class=\"toyplot\" id=\"t89669bc4fc4146c2975a67d7ea75d69c\" style=\"text-align:center\"><svg class=\"toyplot-canvas-Canvas\" xmlns:toyplot=\"http://www.sandia.gov/toyplot\" xmlns:xlink=\"http://www.w3.org/1999/xlink\" xmlns=\"http://www.w3.org/2000/svg\" width=\"453.472px\" height=\"315.28px\" viewBox=\"0 0 453.472 315.28\" preserveAspectRatio=\"xMidYMid meet\" style=\"background-color:transparent;border-color:#292724;border-style:none;border-width:1.0;fill:rgb(16.1%,15.3%,14.1%);fill-opacity:1.0;font-family:Helvetica;font-size:12px;opacity:1.0;stroke:rgb(16.1%,15.3%,14.1%);stroke-opacity:1.0;stroke-width:1.0\" id=\"tc8cc2035ff22415891a970c64a9fc8b6\"><g class=\"toyplot-coordinates-Cartesian\" id=\"t5366ce9f6f08482d81b5a86d9ba098ee\"><clipPath id=\"t0c50193506b14c94928ea42c0366539a\"><rect x=\"35.0\" y=\"35.0\" width=\"383.472\" height=\"245.27999999999997\"></rect></clipPath><g clip-path=\"url(#t0c50193506b14c94928ea42c0366539a)\"><g class=\"toytree-mark-Toytree\" id=\"tca46e267fd8e4afe8c562a39e932f341\"><g class=\"toytree-Edges\" style=\"stroke:rgb(14.5%,14.5%,14.5%);stroke-opacity:1.0;stroke-linecap:round;stroke-width:2.0;fill:none\"><path d=\"M 155.9 250.1 L 155.9 258.5 L 171.1 258.5\" id=\"13,0\" style=\"\"></path><path d=\"M 155.9 250.1 L 155.9 241.7 L 170.4 241.7\" id=\"13,1\" style=\"\"></path><path d=\"M 187.5 205.5 L 187.5 224.9 L 220.7 224.9\" id=\"19,2\" style=\"\"></path><path d=\"M 193.6 186.0 L 193.6 208.1 L 231.9 208.1\" id=\"18,3\" style=\"\"></path><path d=\"M 211.3 182.9 L 211.3 191.3 L 231.0 191.3\" id=\"14,4\" style=\"\"></path><path d=\"M 211.3 182.9 L 211.3 174.5 L 231.2 174.5\" id=\"14,5\" style=\"\"></path><path d=\"M 202.5 145.0 L 202.5 157.6 L 236.6 157.6\" id=\"16,6\" style=\"\"></path><path d=\"M 238.8 132.4 L 238.8 140.8 L 244.4 140.8\" id=\"15,7\" style=\"\"></path><path d=\"M 238.8 132.4 L 238.8 124.0 L 245.2 124.0\" id=\"15,8\" style=\"\"></path><path d=\"M 187.3 98.8 L 187.3 107.2 L 224.6 107.2\" id=\"20,9\" style=\"\"></path><path d=\"M 187.3 98.8 L 187.3 90.4 L 226.7 90.4\" id=\"20,10\" style=\"\"></path><path d=\"M 228.6 65.2 L 228.6 73.6 L 229.1 73.6\" id=\"21,11\" style=\"\"></path><path d=\"M 228.6 65.2 L 228.6 56.7 L 228.9 56.7\" id=\"21,12\" style=\"\"></path><path d=\"M 50.6 196.9 L 50.6 250.1 L 155.9 250.1\" id=\"24,13\" style=\"\"></path><path d=\"M 198.2 163.9 L 198.2 182.9 L 211.3 182.9\" id=\"17,14\" style=\"\"></path><path d=\"M 202.5 145.0 L 202.5 132.4 L 238.8 132.4\" id=\"16,15\" style=\"\"></path><path d=\"M 198.2 163.9 L 198.2 145.0 L 202.5 145.0\" id=\"17,16\" style=\"\"></path><path d=\"M 193.6 186.0 L 193.6 163.9 L 198.2 163.9\" id=\"18,17\" style=\"\"></path><path d=\"M 187.5 205.5 L 187.5 186.0 L 193.6 186.0\" id=\"19,18\" style=\"\"></path><path d=\"M 155.9 143.7 L 155.9 205.5 L 187.5 205.5\" id=\"23,19\" style=\"\"></path><path d=\"M 173.3 82.0 L 173.3 98.8 L 187.3 98.8\" id=\"22,20\" style=\"\"></path><path d=\"M 173.3 82.0 L 173.3 65.2 L 228.6 65.2\" id=\"22,21\" style=\"\"></path><path d=\"M 155.9 143.7 L 155.9 82.0 L 173.3 82.0\" id=\"23,22\" style=\"\"></path><path d=\"M 50.6 196.9 L 50.6 143.7 L 155.9 143.7\" id=\"24,23\" style=\"\"></path></g><g class=\"toytree-AlignEdges\" style=\"stroke:rgb(66.0%,66.0%,66.0%);stroke-opacity:0.75;stroke-dasharray:2,4;stroke-linecap:round;stroke-width:2\"><path d=\"M 245.2 258.5 L 171.1 258.5\"></path><path d=\"M 245.2 241.7 L 170.4 241.7\"></path><path d=\"M 245.2 224.9 L 220.7 224.9\"></path><path d=\"M 245.2 208.1 L 231.9 208.1\"></path><path d=\"M 245.2 191.3 L 231.0 191.3\"></path><path d=\"M 245.2 174.5 L 231.2 174.5\"></path><path d=\"M 245.2 157.6 L 236.6 157.6\"></path><path d=\"M 245.2 140.8 L 244.4 140.8\"></path><path d=\"M 245.2 124.0 L 245.2 124.0\"></path><path d=\"M 245.2 107.2 L 224.6 107.2\"></path><path d=\"M 245.2 90.4 L 226.7 90.4\"></path><path d=\"M 245.2 73.6 L 229.1 73.6\"></path><path d=\"M 245.2 56.7 L 228.9 56.7\"></path></g><g class=\"toytree-AdmixEdges\" style=\"fill:rgb(0.0%,0.0%,0.0%);fill-opacity:0.0;stroke:rgb(90.6%,54.1%,76.5%);stroke-opacity:0.6;font-size:14px;stroke-linecap:round;stroke-width:5\"></g><g class=\"toytree-Nodes\" style=\"fill:rgb(40.0%,76.1%,64.7%);fill-opacity:1.0;stroke:rgb(14.9%,14.9%,14.9%);stroke-opacity:1.0;stroke-width:1.5\"></g><g class=\"toytree-TipLabels\" style=\"fill:rgb(14.5%,14.5%,14.5%);fill-opacity:1.0;font-family:Helvetica;font-size:12px;font-weight:300;vertical-align:baseline;white-space:pre;stroke:none\"><g class=\"toytree-TipLabel\" transform=\"translate(245.182,258.531)\"><text x=\"15.0\" y=\"3.066\" style=\"fill:rgb(85.5%,64.7%,12.5%);fill-opacity:1.0\">32082_przewalskii</text></g><g class=\"toytree-TipLabel\" transform=\"translate(245.182,241.716)\"><text x=\"15.0\" y=\"3.066\" style=\"fill:rgb(85.5%,64.7%,12.5%);fill-opacity:1.0\">33588_przewalskii</text></g><g class=\"toytree-TipLabel\" transform=\"translate(245.182,224.901)\"><text x=\"15.0\" y=\"3.066\" style=\"fill:rgb(85.5%,64.7%,12.5%);fill-opacity:1.0\">33413_thamno</text></g><g class=\"toytree-TipLabel\" transform=\"translate(245.182,208.086)\"><text x=\"15.0\" y=\"3.066\" style=\"fill:rgb(85.5%,64.7%,12.5%);fill-opacity:1.0\">30556_thamno</text></g><g class=\"toytree-TipLabel\" transform=\"translate(245.182,191.27)\"><text x=\"15.0\" y=\"3.066\" style=\"fill:rgb(85.5%,64.7%,12.5%);fill-opacity:1.0\">40578_rex</text></g><g class=\"toytree-TipLabel\" transform=\"translate(245.182,174.455)\"><text x=\"15.0\" y=\"3.066\" style=\"fill:rgb(85.5%,64.7%,12.5%);fill-opacity:1.0\">35855_rex</text></g><g class=\"toytree-TipLabel\" transform=\"translate(245.182,157.64)\"><text x=\"15.0\" y=\"3.066\" style=\"fill:rgb(85.5%,64.7%,12.5%);fill-opacity:1.0\">35236_rex</text></g><g class=\"toytree-TipLabel\" transform=\"translate(245.182,140.825)\"><text x=\"15.0\" y=\"3.066\" style=\"fill:rgb(85.5%,64.7%,12.5%);fill-opacity:1.0\">39618_rex</text></g><g class=\"toytree-TipLabel\" transform=\"translate(245.182,124.01)\"><text x=\"15.0\" y=\"3.066\" style=\"fill:rgb(85.5%,64.7%,12.5%);fill-opacity:1.0\">38362_rex</text></g><g class=\"toytree-TipLabel\" transform=\"translate(245.182,107.194)\"><text x=\"15.0\" y=\"3.066\" style=\"fill:rgb(85.5%,64.7%,12.5%);fill-opacity:1.0\">29154_superba</text></g><g class=\"toytree-TipLabel\" transform=\"translate(245.182,90.3791)\"><text x=\"15.0\" y=\"3.066\" style=\"fill:rgb(85.5%,64.7%,12.5%);fill-opacity:1.0\">30686_cyathophylla</text></g><g class=\"toytree-TipLabel\" transform=\"translate(245.182,73.5638)\"><text x=\"15.0\" y=\"3.066\" style=\"fill:rgb(23.5%,70.2%,44.3%);fill-opacity:1.0\">41954_cyathophylloides</text></g><g class=\"toytree-TipLabel\" transform=\"translate(245.182,56.7486)\"><text x=\"15.0\" y=\"3.066\" style=\"fill:rgb(23.5%,70.2%,44.3%);fill-opacity:1.0\">41478_cyathophylloides</text></g></g></g></g></g></svg><div class=\"toyplot-behavior\"><script>(function()\n",
       "{\n",
       "var modules={};\n",
       "})();</script></div></div>"
      ]
     },
     "metadata": {},
     "output_type": "display_data"
    },
    {
     "data": {
      "text/html": [
       "<div class=\"toyplot\" id=\"t20170a975dc940fbb32decce19894537\" style=\"text-align:center\"><svg class=\"toyplot-canvas-Canvas\" xmlns:toyplot=\"http://www.sandia.gov/toyplot\" xmlns:xlink=\"http://www.w3.org/1999/xlink\" xmlns=\"http://www.w3.org/2000/svg\" width=\"453.472px\" height=\"315.28px\" viewBox=\"0 0 453.472 315.28\" preserveAspectRatio=\"xMidYMid meet\" style=\"background-color:transparent;border-color:#292724;border-style:none;border-width:1.0;fill:rgb(16.1%,15.3%,14.1%);fill-opacity:1.0;font-family:Helvetica;font-size:12px;opacity:1.0;stroke:rgb(16.1%,15.3%,14.1%);stroke-opacity:1.0;stroke-width:1.0\" id=\"t017029babcb6444bb568bfb797fb94b0\"><g class=\"toyplot-coordinates-Cartesian\" id=\"t8a5a62f96e4945ecbc55a5f38fdba3a6\"><clipPath id=\"te9e810e413504533bbd1ba21e3e26456\"><rect x=\"35.0\" y=\"35.0\" width=\"383.472\" height=\"245.27999999999997\"></rect></clipPath><g clip-path=\"url(#te9e810e413504533bbd1ba21e3e26456)\"><g class=\"toytree-mark-Toytree\" id=\"t56ecd97722864fb9b90e732a4c72964f\"><g class=\"toytree-Edges\" style=\"stroke:rgb(14.5%,14.5%,14.5%);stroke-opacity:1.0;stroke-linecap:round;stroke-width:2.0;fill:none\"><path d=\"M 155.9 250.1 L 155.9 258.5 L 171.1 258.5\" id=\"13,0\" style=\"\"></path><path d=\"M 155.9 250.1 L 155.9 241.7 L 170.4 241.7\" id=\"13,1\" style=\"\"></path><path d=\"M 187.5 205.5 L 187.5 224.9 L 220.7 224.9\" id=\"19,2\" style=\"\"></path><path d=\"M 193.6 186.0 L 193.6 208.1 L 231.9 208.1\" id=\"18,3\" style=\"\"></path><path d=\"M 211.3 182.9 L 211.3 191.3 L 231.0 191.3\" id=\"14,4\" style=\"\"></path><path d=\"M 211.3 182.9 L 211.3 174.5 L 231.2 174.5\" id=\"14,5\" style=\"\"></path><path d=\"M 202.5 145.0 L 202.5 157.6 L 236.6 157.6\" id=\"16,6\" style=\"\"></path><path d=\"M 238.8 132.4 L 238.8 140.8 L 244.4 140.8\" id=\"15,7\" style=\"\"></path><path d=\"M 238.8 132.4 L 238.8 124.0 L 245.2 124.0\" id=\"15,8\" style=\"\"></path><path d=\"M 187.3 98.8 L 187.3 107.2 L 224.6 107.2\" id=\"20,9\" style=\"\"></path><path d=\"M 187.3 98.8 L 187.3 90.4 L 226.7 90.4\" id=\"20,10\" style=\"\"></path><path d=\"M 228.6 65.2 L 228.6 73.6 L 229.1 73.6\" id=\"21,11\" style=\"\"></path><path d=\"M 228.6 65.2 L 228.6 56.7 L 228.9 56.7\" id=\"21,12\" style=\"\"></path><path d=\"M 50.6 196.9 L 50.6 250.1 L 155.9 250.1\" id=\"24,13\" style=\"\"></path><path d=\"M 198.2 163.9 L 198.2 182.9 L 211.3 182.9\" id=\"17,14\" style=\"\"></path><path d=\"M 202.5 145.0 L 202.5 132.4 L 238.8 132.4\" id=\"16,15\" style=\"\"></path><path d=\"M 198.2 163.9 L 198.2 145.0 L 202.5 145.0\" id=\"17,16\" style=\"\"></path><path d=\"M 193.6 186.0 L 193.6 163.9 L 198.2 163.9\" id=\"18,17\" style=\"\"></path><path d=\"M 187.5 205.5 L 187.5 186.0 L 193.6 186.0\" id=\"19,18\" style=\"\"></path><path d=\"M 155.9 143.7 L 155.9 205.5 L 187.5 205.5\" id=\"23,19\" style=\"\"></path><path d=\"M 173.3 82.0 L 173.3 98.8 L 187.3 98.8\" id=\"22,20\" style=\"\"></path><path d=\"M 173.3 82.0 L 173.3 65.2 L 228.6 65.2\" id=\"22,21\" style=\"\"></path><path d=\"M 155.9 143.7 L 155.9 82.0 L 173.3 82.0\" id=\"23,22\" style=\"\"></path><path d=\"M 50.6 196.9 L 50.6 143.7 L 155.9 143.7\" id=\"24,23\" style=\"\"></path></g><g class=\"toytree-AlignEdges\" style=\"stroke:rgb(66.0%,66.0%,66.0%);stroke-opacity:0.75;stroke-dasharray:2,4;stroke-linecap:round;stroke-width:2\"><path d=\"M 245.2 258.5 L 171.1 258.5\"></path><path d=\"M 245.2 241.7 L 170.4 241.7\"></path><path d=\"M 245.2 224.9 L 220.7 224.9\"></path><path d=\"M 245.2 208.1 L 231.9 208.1\"></path><path d=\"M 245.2 191.3 L 231.0 191.3\"></path><path d=\"M 245.2 174.5 L 231.2 174.5\"></path><path d=\"M 245.2 157.6 L 236.6 157.6\"></path><path d=\"M 245.2 140.8 L 244.4 140.8\"></path><path d=\"M 245.2 124.0 L 245.2 124.0\"></path><path d=\"M 245.2 107.2 L 224.6 107.2\"></path><path d=\"M 245.2 90.4 L 226.7 90.4\"></path><path d=\"M 245.2 73.6 L 229.1 73.6\"></path><path d=\"M 245.2 56.7 L 228.9 56.7\"></path></g><g class=\"toytree-AdmixEdges\" style=\"fill:rgb(0.0%,0.0%,0.0%);fill-opacity:0.0;stroke:rgb(90.6%,54.1%,76.5%);stroke-opacity:0.6;font-size:14px;stroke-linecap:round;stroke-width:5\"></g><g class=\"toytree-Nodes\" style=\"fill:rgb(40.0%,76.1%,64.7%);fill-opacity:1.0;stroke:rgb(14.9%,14.9%,14.9%);stroke-opacity:1.0;stroke-width:1.5\"></g><g class=\"toytree-TipLabels\" style=\"fill:rgb(14.5%,14.5%,14.5%);fill-opacity:1.0;font-family:Helvetica;font-size:12px;font-weight:300;vertical-align:baseline;white-space:pre;stroke:none\"><g class=\"toytree-TipLabel\" transform=\"translate(245.182,258.531)\"><text x=\"15.0\" y=\"3.066\" style=\"fill:rgb(32.5%,51.8%,63.9%);fill-opacity:1.0\">32082_przewalskii</text></g><g class=\"toytree-TipLabel\" transform=\"translate(245.182,241.716)\"><text x=\"15.0\" y=\"3.066\" style=\"fill:rgb(32.5%,51.8%,63.9%);fill-opacity:1.0\">33588_przewalskii</text></g><g class=\"toytree-TipLabel\" transform=\"translate(245.182,224.901)\"><text x=\"15.0\" y=\"3.066\" style=\"fill:rgb(32.5%,51.8%,63.9%);fill-opacity:1.0\">33413_thamno</text></g><g class=\"toytree-TipLabel\" transform=\"translate(245.182,208.086)\"><text x=\"15.0\" y=\"3.066\" style=\"fill:rgb(32.5%,51.8%,63.9%);fill-opacity:1.0\">30556_thamno</text></g><g class=\"toytree-TipLabel\" transform=\"translate(245.182,191.27)\"><text x=\"15.0\" y=\"3.066\" style=\"fill:rgb(83.9%,33.3%,48.6%);fill-opacity:1.0\">40578_rex</text></g><g class=\"toytree-TipLabel\" transform=\"translate(245.182,174.455)\"><text x=\"15.0\" y=\"3.066\" style=\"fill:rgb(83.9%,33.3%,48.6%);fill-opacity:1.0\">35855_rex</text></g><g class=\"toytree-TipLabel\" transform=\"translate(245.182,157.64)\"><text x=\"15.0\" y=\"3.066\" style=\"fill:rgb(83.9%,33.3%,48.6%);fill-opacity:1.0\">35236_rex</text></g><g class=\"toytree-TipLabel\" transform=\"translate(245.182,140.825)\"><text x=\"15.0\" y=\"3.066\" style=\"fill:rgb(83.9%,33.3%,48.6%);fill-opacity:1.0\">39618_rex</text></g><g class=\"toytree-TipLabel\" transform=\"translate(245.182,124.01)\"><text x=\"15.0\" y=\"3.066\" style=\"fill:rgb(83.9%,33.3%,48.6%);fill-opacity:1.0\">38362_rex</text></g><g class=\"toytree-TipLabel\" transform=\"translate(245.182,107.194)\"><text x=\"15.0\" y=\"3.066\" style=\"fill:rgb(32.5%,51.8%,63.9%);fill-opacity:1.0\">29154_superba</text></g><g class=\"toytree-TipLabel\" transform=\"translate(245.182,90.3791)\"><text x=\"15.0\" y=\"3.066\" style=\"fill:rgb(32.5%,51.8%,63.9%);fill-opacity:1.0\">30686_cyathophylla</text></g><g class=\"toytree-TipLabel\" transform=\"translate(245.182,73.5638)\"><text x=\"15.0\" y=\"3.066\" style=\"fill:rgb(32.5%,51.8%,63.9%);fill-opacity:1.0\">41954_cyathophylloides</text></g><g class=\"toytree-TipLabel\" transform=\"translate(245.182,56.7486)\"><text x=\"15.0\" y=\"3.066\" style=\"fill:rgb(32.5%,51.8%,63.9%);fill-opacity:1.0\">41478_cyathophylloides</text></g></g></g></g></g></svg><div class=\"toyplot-behavior\"><script>(function()\n",
       "{\n",
       "var modules={};\n",
       "})();</script></div></div>"
      ]
     },
     "metadata": {},
     "output_type": "display_data"
    }
   ],
   "source": [
    "# use color from favored toytree color scheme\n",
    "rtre.draw(\n",
    "    tip_labels_align=True, \n",
    "    tip_labels_colors=\"orange\",\n",
    ");\n",
    "\n",
    "# enter a list of colors by name\n",
    "rtre.draw(\n",
    "    tip_labels_align=True, \n",
    "    tip_labels_colors=(['goldenrod'] * 11) + ([\"mediumseagreen\"] * 2),\n",
    ");\n",
    "\n",
    "# make list of hex color values based on tip labels\n",
    "colorlist = [\"#d6557c\" if \"rex\" in tip else \"#5384a3\" for tip in rtre.get_tip_labels()]\n",
    "rtre.draw(\n",
    "    tip_labels_align=True, \n",
    "    tip_labels_colors=colorlist\n",
    ");"
   ]
  },
  {
   "cell_type": "markdown",
   "metadata": {},
   "source": [
    "#### tip_labels_style\n",
    "\n",
    "**Type:** dictionary of (mostly) CSS styles.  \n",
    "**Allowed:** CSS styles accepted by toyplot. For example, you could add \"stroke\": \"red\" to draw a stroke around the text. The defaults provide just the most likely styles.  \n",
    "**Default:** Defaults are shown below.  \n",
    "**Description:** 'fill' is the color of the text; 'font-size' should be entered in units of pixels; '-toyplot-anchor-shift' can be used to shift text closer or farther from the tree tips.\n"
   ]
  },
  {
   "cell_type": "code",
   "execution_count": 44,
   "metadata": {},
   "outputs": [
    {
     "data": {
      "text/html": [
       "<div class=\"toyplot\" id=\"ta9ce330da3694e80bf5934b6ab7fb461\" style=\"text-align:center\"><svg class=\"toyplot-canvas-Canvas\" xmlns:toyplot=\"http://www.sandia.gov/toyplot\" xmlns:xlink=\"http://www.w3.org/1999/xlink\" xmlns=\"http://www.w3.org/2000/svg\" width=\"432.0159999999999px\" height=\"297.3399999999999px\" viewBox=\"0 0 432.0159999999999 297.3399999999999\" preserveAspectRatio=\"xMidYMid meet\" style=\"background-color:transparent;border-color:#292724;border-style:none;border-width:1.0;fill:rgb(16.1%,15.3%,14.1%);fill-opacity:1.0;font-family:Helvetica;font-size:12px;opacity:1.0;stroke:rgb(16.1%,15.3%,14.1%);stroke-opacity:1.0;stroke-width:1.0\" id=\"tac78d3eea1f945559868c288f519cebe\"><g class=\"toyplot-coordinates-Cartesian\" id=\"tb9a87c7595ac49d7b38bf141c82128bb\"><clipPath id=\"tc24173d0ca274f698f2255e22b12929d\"><rect x=\"35.0\" y=\"35.0\" width=\"362.0159999999999\" height=\"227.33999999999992\"></rect></clipPath><g clip-path=\"url(#tc24173d0ca274f698f2255e22b12929d)\"><g class=\"toytree-mark-Toytree\" id=\"t418ee44356c74bbc95a155ce2f1cb839\"><g class=\"toytree-Edges\" style=\"stroke:rgb(14.5%,14.5%,14.5%);stroke-opacity:1.0;stroke-linecap:round;stroke-width:2.0;fill:none\"><path d=\"M 154.9 233.4 L 154.9 241.2 L 170.0 241.2\" id=\"13,0\" style=\"\"></path><path d=\"M 154.9 233.4 L 154.9 225.7 L 169.3 225.7\" id=\"13,1\" style=\"\"></path><path d=\"M 186.3 192.5 L 186.3 210.3 L 219.2 210.3\" id=\"19,2\" style=\"\"></path><path d=\"M 192.3 174.7 L 192.3 194.9 L 230.3 194.9\" id=\"18,3\" style=\"\"></path><path d=\"M 209.8 171.8 L 209.8 179.5 L 229.3 179.5\" id=\"14,4\" style=\"\"></path><path d=\"M 209.8 171.8 L 209.8 164.1 L 229.6 164.1\" id=\"14,5\" style=\"\"></path><path d=\"M 201.1 137.1 L 201.1 148.7 L 234.9 148.7\" id=\"16,6\" style=\"\"></path><path d=\"M 237.1 125.5 L 237.1 133.3 L 242.7 133.3\" id=\"15,7\" style=\"\"></path><path d=\"M 237.1 125.5 L 237.1 117.8 L 243.4 117.8\" id=\"15,8\" style=\"\"></path><path d=\"M 186.1 94.7 L 186.1 102.4 L 223.0 102.4\" id=\"20,9\" style=\"\"></path><path d=\"M 186.1 94.7 L 186.1 87.0 L 225.1 87.0\" id=\"20,10\" style=\"\"></path><path d=\"M 227.0 63.9 L 227.0 71.6 L 227.5 71.6\" id=\"21,11\" style=\"\"></path><path d=\"M 227.0 63.9 L 227.0 56.2 L 227.3 56.2\" id=\"21,12\" style=\"\"></path><path d=\"M 50.6 184.7 L 50.6 233.4 L 154.9 233.4\" id=\"24,13\" style=\"\"></path><path d=\"M 196.8 154.5 L 196.8 171.8 L 209.8 171.8\" id=\"17,14\" style=\"\"></path><path d=\"M 201.1 137.1 L 201.1 125.5 L 237.1 125.5\" id=\"16,15\" style=\"\"></path><path d=\"M 196.8 154.5 L 196.8 137.1 L 201.1 137.1\" id=\"17,16\" style=\"\"></path><path d=\"M 192.3 174.7 L 192.3 154.5 L 196.8 154.5\" id=\"18,17\" style=\"\"></path><path d=\"M 186.3 192.5 L 186.3 174.7 L 192.3 174.7\" id=\"19,18\" style=\"\"></path><path d=\"M 154.9 135.9 L 154.9 192.5 L 186.3 192.5\" id=\"23,19\" style=\"\"></path><path d=\"M 172.2 79.3 L 172.2 94.7 L 186.1 94.7\" id=\"22,20\" style=\"\"></path><path d=\"M 172.2 79.3 L 172.2 63.9 L 227.0 63.9\" id=\"22,21\" style=\"\"></path><path d=\"M 154.9 135.9 L 154.9 79.3 L 172.2 79.3\" id=\"23,22\" style=\"\"></path><path d=\"M 50.6 184.7 L 50.6 135.9 L 154.9 135.9\" id=\"24,23\" style=\"\"></path></g><g class=\"toytree-AdmixEdges\" style=\"fill:rgb(0.0%,0.0%,0.0%);fill-opacity:0.0;stroke:rgb(90.6%,54.1%,76.5%);stroke-opacity:0.6;font-size:14px;stroke-linecap:round;stroke-width:5\"></g><g class=\"toytree-Nodes\" style=\"fill:rgb(40.0%,76.1%,64.7%);fill-opacity:1.0;stroke:rgb(14.9%,14.9%,14.9%);stroke-opacity:1.0;stroke-width:1.5\"></g><g class=\"toytree-TipLabels\" style=\"fill:rgb(14.9%,14.9%,14.9%);fill-opacity:1.0;font-family:Helvetica;font-size:11px;font-weight:300;vertical-align:baseline;white-space:pre;stroke:none\"><g class=\"toytree-TipLabel\" transform=\"translate(170.019,241.154)\"><text x=\"15.0\" y=\"2.8104999999999993\" style=\"fill:rgb(14.9%,14.9%,14.9%);fill-opacity:1.0\">32082_przewalskii</text></g><g class=\"toytree-TipLabel\" transform=\"translate(169.309,225.74)\"><text x=\"15.0\" y=\"2.8104999999999993\" style=\"fill:rgb(14.9%,14.9%,14.9%);fill-opacity:1.0\">33588_przewalskii</text></g><g class=\"toytree-TipLabel\" transform=\"translate(219.163,210.326)\"><text x=\"15.0\" y=\"2.8104999999999993\" style=\"fill:rgb(14.9%,14.9%,14.9%);fill-opacity:1.0\">33413_thamno</text></g><g class=\"toytree-TipLabel\" transform=\"translate(230.289,194.912)\"><text x=\"15.0\" y=\"2.8104999999999993\" style=\"fill:rgb(14.9%,14.9%,14.9%);fill-opacity:1.0\">30556_thamno</text></g><g class=\"toytree-TipLabel\" transform=\"translate(229.33,179.498)\"><text x=\"15.0\" y=\"2.8104999999999993\" style=\"fill:rgb(14.9%,14.9%,14.9%);fill-opacity:1.0\">40578_rex</text></g><g class=\"toytree-TipLabel\" transform=\"translate(229.595,164.084)\"><text x=\"15.0\" y=\"2.8104999999999993\" style=\"fill:rgb(14.9%,14.9%,14.9%);fill-opacity:1.0\">35855_rex</text></g><g class=\"toytree-TipLabel\" transform=\"translate(234.916,148.67)\"><text x=\"15.0\" y=\"2.8104999999999993\" style=\"fill:rgb(14.9%,14.9%,14.9%);fill-opacity:1.0\">35236_rex</text></g><g class=\"toytree-TipLabel\" transform=\"translate(242.665,133.256)\"><text x=\"15.0\" y=\"2.8104999999999993\" style=\"fill:rgb(14.9%,14.9%,14.9%);fill-opacity:1.0\">39618_rex</text></g><g class=\"toytree-TipLabel\" transform=\"translate(243.422,117.842)\"><text x=\"15.0\" y=\"2.8104999999999993\" style=\"fill:rgb(14.9%,14.9%,14.9%);fill-opacity:1.0\">38362_rex</text></g><g class=\"toytree-TipLabel\" transform=\"translate(222.99,102.428)\"><text x=\"15.0\" y=\"2.8104999999999993\" style=\"fill:rgb(14.9%,14.9%,14.9%);fill-opacity:1.0\">29154_superba</text></g><g class=\"toytree-TipLabel\" transform=\"translate(225.067,87.0141)\"><text x=\"15.0\" y=\"2.8104999999999993\" style=\"fill:rgb(14.9%,14.9%,14.9%);fill-opacity:1.0\">30686_cyathophylla</text></g><g class=\"toytree-TipLabel\" transform=\"translate(227.509,71.6002)\"><text x=\"15.0\" y=\"2.8104999999999993\" style=\"fill:rgb(14.9%,14.9%,14.9%);fill-opacity:1.0\">41954_cyathophylloides</text></g><g class=\"toytree-TipLabel\" transform=\"translate(227.299,56.1862)\"><text x=\"15.0\" y=\"2.8104999999999993\" style=\"fill:rgb(14.9%,14.9%,14.9%);fill-opacity:1.0\">41478_cyathophylloides</text></g></g></g></g></g></svg><div class=\"toyplot-behavior\"><script>(function()\n",
       "{\n",
       "var modules={};\n",
       "})();</script></div></div>"
      ]
     },
     "metadata": {},
     "output_type": "display_data"
    }
   ],
   "source": [
    "rtre.draw(\n",
    "    tip_labels_style={\n",
    "        \"fill\": \"#262626\", \n",
    "        \"font-size\": \"11px\", \n",
    "        \"-toyplot-anchor-shift\": \"15px\", \n",
    "    }\n",
    ");"
   ]
  },
  {
   "cell_type": "markdown",
   "metadata": {},
   "source": [
    "### Node labels styling"
   ]
  },
  {
   "cell_type": "markdown",
   "metadata": {},
   "source": [
    "#### node_labels\n",
    "\n",
    "**Type:**  boolean, str, or list of strings or ints.  \n",
    "**Allowed:**  True, False, string name of features (e.g., \"idx\", \"support\"), or list that is the same length as the number of nodes. \n",
    "**Default:** False   \n",
    "**Description:**  If True then the node index labels are used. \n"
   ]
  },
  {
   "cell_type": "code",
   "execution_count": 45,
   "metadata": {},
   "outputs": [
    {
     "data": {
      "text/html": [
       "<div class=\"toyplot\" id=\"tadd1d5dbf90a425f880f86459bcb53ec\" style=\"text-align:center\"><svg class=\"toyplot-canvas-Canvas\" xmlns:toyplot=\"http://www.sandia.gov/toyplot\" xmlns:xlink=\"http://www.w3.org/1999/xlink\" xmlns=\"http://www.w3.org/2000/svg\" width=\"457.47599999999994px\" height=\"315.28px\" viewBox=\"0 0 457.47599999999994 315.28\" preserveAspectRatio=\"xMidYMid meet\" style=\"background-color:transparent;border-color:#292724;border-style:none;border-width:1.0;fill:rgb(16.1%,15.3%,14.1%);fill-opacity:1.0;font-family:Helvetica;font-size:12px;opacity:1.0;stroke:rgb(16.1%,15.3%,14.1%);stroke-opacity:1.0;stroke-width:1.0\" id=\"t21a60a33098e43d08d594848d4bcd531\"><g class=\"toyplot-coordinates-Cartesian\" id=\"tf3c0715d63ca4f02a7b7ec1c3dce5361\"><clipPath id=\"t9196e8c47bac40e9aaf895b9b3c7dba2\"><rect x=\"35.0\" y=\"35.0\" width=\"387.47599999999994\" height=\"245.27999999999997\"></rect></clipPath><g clip-path=\"url(#t9196e8c47bac40e9aaf895b9b3c7dba2)\"><g class=\"toytree-mark-Toytree\" id=\"t835ff61f97634c2f9b0940e76001bb9c\"><g class=\"toytree-Edges\" style=\"stroke:rgb(14.5%,14.5%,14.5%);stroke-opacity:1.0;stroke-linecap:round;stroke-width:2.0;fill:none\"><path d=\"M 164.3 250.1 L 164.3 258.5 L 180.4 258.5\" id=\"13,0\" style=\"\"></path><path d=\"M 164.3 250.1 L 164.3 241.7 L 179.7 241.7\" id=\"13,1\" style=\"\"></path><path d=\"M 197.8 205.5 L 197.8 224.9 L 232.9 224.9\" id=\"19,2\" style=\"\"></path><path d=\"M 204.2 186.0 L 204.2 208.1 L 244.8 208.1\" id=\"18,3\" style=\"\"></path><path d=\"M 223.0 182.9 L 223.0 191.3 L 243.8 191.3\" id=\"14,4\" style=\"\"></path><path d=\"M 223.0 182.9 L 223.0 174.5 L 244.1 174.5\" id=\"14,5\" style=\"\"></path><path d=\"M 213.7 145.0 L 213.7 157.6 L 249.8 157.6\" id=\"16,6\" style=\"\"></path><path d=\"M 252.1 132.4 L 252.1 140.8 L 258.0 140.8\" id=\"15,7\" style=\"\"></path><path d=\"M 252.1 132.4 L 252.1 124.0 L 258.8 124.0\" id=\"15,8\" style=\"\"></path><path d=\"M 197.6 98.8 L 197.6 107.2 L 237.0 107.2\" id=\"20,9\" style=\"\"></path><path d=\"M 197.6 98.8 L 197.6 90.4 L 239.2 90.4\" id=\"20,10\" style=\"\"></path><path d=\"M 241.3 65.2 L 241.3 73.6 L 241.8 73.6\" id=\"21,11\" style=\"\"></path><path d=\"M 241.3 65.2 L 241.3 56.7 L 241.6 56.7\" id=\"21,12\" style=\"\"></path><path d=\"M 52.9 196.9 L 52.9 250.1 L 164.3 250.1\" id=\"24,13\" style=\"\"></path><path d=\"M 209.1 163.9 L 209.1 182.9 L 223.0 182.9\" id=\"17,14\" style=\"\"></path><path d=\"M 213.7 145.0 L 213.7 132.4 L 252.1 132.4\" id=\"16,15\" style=\"\"></path><path d=\"M 209.1 163.9 L 209.1 145.0 L 213.7 145.0\" id=\"17,16\" style=\"\"></path><path d=\"M 204.2 186.0 L 204.2 163.9 L 209.1 163.9\" id=\"18,17\" style=\"\"></path><path d=\"M 197.8 205.5 L 197.8 186.0 L 204.2 186.0\" id=\"19,18\" style=\"\"></path><path d=\"M 164.3 143.7 L 164.3 205.5 L 197.8 205.5\" id=\"23,19\" style=\"\"></path><path d=\"M 182.8 82.0 L 182.8 98.8 L 197.6 98.8\" id=\"22,20\" style=\"\"></path><path d=\"M 182.8 82.0 L 182.8 65.2 L 241.3 65.2\" id=\"22,21\" style=\"\"></path><path d=\"M 164.3 143.7 L 164.3 82.0 L 182.8 82.0\" id=\"23,22\" style=\"\"></path><path d=\"M 52.9 196.9 L 52.9 143.7 L 164.3 143.7\" id=\"24,23\" style=\"\"></path></g><g class=\"toytree-AdmixEdges\" style=\"fill:rgb(0.0%,0.0%,0.0%);fill-opacity:0.0;stroke:rgb(90.6%,54.1%,76.5%);stroke-opacity:0.6;font-size:14px;stroke-linecap:round;stroke-width:5\"></g><g class=\"toytree-Nodes\" style=\"fill:rgb(40.0%,76.1%,64.7%);fill-opacity:1.0;stroke:rgb(14.9%,14.9%,14.9%);stroke-opacity:1.0;stroke-width:1.5\"></g><g class=\"toytree-NodeLabels\" style=\"font-family:Helvetica;font-size:9px;font-weight:300;vertical-align:baseline;white-space:pre;stroke:none\"><g class=\"toytree-NodeLabel\" transform=\"translate(164.334,250.124)\"><text x=\"-5.0040000000000004\" y=\"2.2995\" style=\"fill:rgb(14.5%,14.5%,14.5%);fill-opacity:1.0\">13</text></g><g class=\"toytree-NodeLabel\" transform=\"translate(222.953,182.863)\"><text x=\"-5.0040000000000004\" y=\"2.2995\" style=\"fill:rgb(14.5%,14.5%,14.5%);fill-opacity:1.0\">14</text></g><g class=\"toytree-NodeLabel\" transform=\"translate(252.058,132.417)\"><text x=\"-5.0040000000000004\" y=\"2.2995\" style=\"fill:rgb(14.5%,14.5%,14.5%);fill-opacity:1.0\">15</text></g><g class=\"toytree-NodeLabel\" transform=\"translate(213.688,145.029)\"><text x=\"-5.0040000000000004\" y=\"2.2995\" style=\"fill:rgb(14.5%,14.5%,14.5%);fill-opacity:1.0\">16</text></g><g class=\"toytree-NodeLabel\" transform=\"translate(209.097,163.946)\"><text x=\"-5.0040000000000004\" y=\"2.2995\" style=\"fill:rgb(14.5%,14.5%,14.5%);fill-opacity:1.0\">17</text></g><g class=\"toytree-NodeLabel\" transform=\"translate(204.23,186.016)\"><text x=\"-5.0040000000000004\" y=\"2.2995\" style=\"fill:rgb(14.5%,14.5%,14.5%);fill-opacity:1.0\">18</text></g><g class=\"toytree-NodeLabel\" transform=\"translate(197.807,205.458)\"><text x=\"-5.0040000000000004\" y=\"2.2995\" style=\"fill:rgb(14.5%,14.5%,14.5%);fill-opacity:1.0\">19</text></g><g class=\"toytree-NodeLabel\" transform=\"translate(197.614,98.7867)\"><text x=\"-5.0040000000000004\" y=\"2.2995\" style=\"fill:rgb(14.5%,14.5%,14.5%);fill-opacity:1.0\">20</text></g><g class=\"toytree-NodeLabel\" transform=\"translate(241.296,65.1562)\"><text x=\"-5.0040000000000004\" y=\"2.2995\" style=\"fill:rgb(14.5%,14.5%,14.5%);fill-opacity:1.0\">21</text></g><g class=\"toytree-NodeLabel\" transform=\"translate(182.826,81.9714)\"><text x=\"-5.0040000000000004\" y=\"2.2995\" style=\"fill:rgb(14.5%,14.5%,14.5%);fill-opacity:1.0\">22</text></g><g class=\"toytree-NodeLabel\" transform=\"translate(164.334,143.715)\"><text x=\"-5.0040000000000004\" y=\"2.2995\" style=\"fill:rgb(14.5%,14.5%,14.5%);fill-opacity:1.0\">23</text></g><g class=\"toytree-NodeLabel\" transform=\"translate(52.8831,196.919)\"><text x=\"-5.0040000000000004\" y=\"2.2995\" style=\"fill:rgb(14.5%,14.5%,14.5%);fill-opacity:1.0\">24</text></g></g><g class=\"toytree-TipLabels\" style=\"fill:rgb(14.5%,14.5%,14.5%);fill-opacity:1.0;font-family:Helvetica;font-size:12px;font-weight:300;vertical-align:baseline;white-space:pre;stroke:none\"><g class=\"toytree-TipLabel\" transform=\"translate(180.447,258.531)\"><text x=\"15.0\" y=\"3.066\" style=\"fill:rgb(14.5%,14.5%,14.5%);fill-opacity:1.0\">32082_przewalskii</text></g><g class=\"toytree-TipLabel\" transform=\"translate(179.689,241.716)\"><text x=\"15.0\" y=\"3.066\" style=\"fill:rgb(14.5%,14.5%,14.5%);fill-opacity:1.0\">33588_przewalskii</text></g><g class=\"toytree-TipLabel\" transform=\"translate(232.935,224.901)\"><text x=\"15.0\" y=\"3.066\" style=\"fill:rgb(14.5%,14.5%,14.5%);fill-opacity:1.0\">33413_thamno</text></g><g class=\"toytree-TipLabel\" transform=\"translate(244.817,208.086)\"><text x=\"15.0\" y=\"3.066\" style=\"fill:rgb(14.5%,14.5%,14.5%);fill-opacity:1.0\">30556_thamno</text></g><g class=\"toytree-TipLabel\" transform=\"translate(243.793,191.27)\"><text x=\"15.0\" y=\"3.066\" style=\"fill:rgb(14.5%,14.5%,14.5%);fill-opacity:1.0\">40578_rex</text></g><g class=\"toytree-TipLabel\" transform=\"translate(244.077,174.455)\"><text x=\"15.0\" y=\"3.066\" style=\"fill:rgb(14.5%,14.5%,14.5%);fill-opacity:1.0\">35855_rex</text></g><g class=\"toytree-TipLabel\" transform=\"translate(249.759,157.64)\"><text x=\"15.0\" y=\"3.066\" style=\"fill:rgb(14.5%,14.5%,14.5%);fill-opacity:1.0\">35236_rex</text></g><g class=\"toytree-TipLabel\" transform=\"translate(258.036,140.825)\"><text x=\"15.0\" y=\"3.066\" style=\"fill:rgb(14.5%,14.5%,14.5%);fill-opacity:1.0\">39618_rex</text></g><g class=\"toytree-TipLabel\" transform=\"translate(258.844,124.01)\"><text x=\"15.0\" y=\"3.066\" style=\"fill:rgb(14.5%,14.5%,14.5%);fill-opacity:1.0\">38362_rex</text></g><g class=\"toytree-TipLabel\" transform=\"translate(237.022,107.194)\"><text x=\"15.0\" y=\"3.066\" style=\"fill:rgb(14.5%,14.5%,14.5%);fill-opacity:1.0\">29154_superba</text></g><g class=\"toytree-TipLabel\" transform=\"translate(239.24,90.3791)\"><text x=\"15.0\" y=\"3.066\" style=\"fill:rgb(14.5%,14.5%,14.5%);fill-opacity:1.0\">30686_cyathophylla</text></g><g class=\"toytree-TipLabel\" transform=\"translate(241.848,73.5638)\"><text x=\"15.0\" y=\"3.066\" style=\"fill:rgb(14.5%,14.5%,14.5%);fill-opacity:1.0\">41954_cyathophylloides</text></g><g class=\"toytree-TipLabel\" transform=\"translate(241.624,56.7486)\"><text x=\"15.0\" y=\"3.066\" style=\"fill:rgb(14.5%,14.5%,14.5%);fill-opacity:1.0\">41478_cyathophylloides</text></g></g></g></g></g></svg><div class=\"toyplot-behavior\"><script>(function()\n",
       "{\n",
       "var modules={};\n",
       "})();</script></div></div>"
      ]
     },
     "metadata": {},
     "output_type": "display_data"
    }
   ],
   "source": [
    "# shows node idx labels on all nodes\n",
    "rtre.draw(node_labels=True);"
   ]
  },
  {
   "cell_type": "code",
   "execution_count": 46,
   "metadata": {},
   "outputs": [
    {
     "data": {
      "text/html": [
       "<div class=\"toyplot\" id=\"te6ffced3d3ed482987cd82ef32bed842\" style=\"text-align:center\"><svg class=\"toyplot-canvas-Canvas\" xmlns:toyplot=\"http://www.sandia.gov/toyplot\" xmlns:xlink=\"http://www.w3.org/1999/xlink\" xmlns=\"http://www.w3.org/2000/svg\" width=\"453.472px\" height=\"315.28px\" viewBox=\"0 0 453.472 315.28\" preserveAspectRatio=\"xMidYMid meet\" style=\"background-color:transparent;border-color:#292724;border-style:none;border-width:1.0;fill:rgb(16.1%,15.3%,14.1%);fill-opacity:1.0;font-family:Helvetica;font-size:12px;opacity:1.0;stroke:rgb(16.1%,15.3%,14.1%);stroke-opacity:1.0;stroke-width:1.0\" id=\"t6553b77a83674cd58c91735aca16d93d\"><g class=\"toyplot-coordinates-Cartesian\" id=\"t01adf7d73d794c89a1e69a2ca82d9a03\"><clipPath id=\"t290ec38ed1354956bd824f0e3be517fd\"><rect x=\"35.0\" y=\"35.0\" width=\"383.472\" height=\"245.27999999999997\"></rect></clipPath><g clip-path=\"url(#t290ec38ed1354956bd824f0e3be517fd)\"><g class=\"toytree-mark-Toytree\" id=\"tf7114195077d46fc994c0fa64f518cd7\"><g class=\"toytree-Edges\" style=\"stroke:rgb(14.5%,14.5%,14.5%);stroke-opacity:1.0;stroke-linecap:round;stroke-width:2.0;fill:none\"><path d=\"M 160.9 250.1 L 160.9 258.5 L 176.9 258.5\" id=\"13,0\" style=\"\"></path><path d=\"M 160.9 250.1 L 160.9 241.7 L 176.1 241.7\" id=\"13,1\" style=\"\"></path><path d=\"M 194.0 205.5 L 194.0 224.9 L 228.8 224.9\" id=\"19,2\" style=\"\"></path><path d=\"M 200.4 186.0 L 200.4 208.1 L 240.6 208.1\" id=\"18,3\" style=\"\"></path><path d=\"M 218.9 182.9 L 218.9 191.3 L 239.6 191.3\" id=\"14,4\" style=\"\"></path><path d=\"M 218.9 182.9 L 218.9 174.5 L 239.9 174.5\" id=\"14,5\" style=\"\"></path><path d=\"M 209.8 145.0 L 209.8 157.6 L 245.5 157.6\" id=\"16,6\" style=\"\"></path><path d=\"M 247.8 132.4 L 247.8 140.8 L 253.7 140.8\" id=\"15,7\" style=\"\"></path><path d=\"M 247.8 132.4 L 247.8 124.0 L 254.5 124.0\" id=\"15,8\" style=\"\"></path><path d=\"M 193.9 98.8 L 193.9 107.2 L 232.9 107.2\" id=\"20,9\" style=\"\"></path><path d=\"M 193.9 98.8 L 193.9 90.4 L 235.1 90.4\" id=\"20,10\" style=\"\"></path><path d=\"M 237.1 65.2 L 237.1 73.6 L 237.6 73.6\" id=\"21,11\" style=\"\"></path><path d=\"M 237.1 65.2 L 237.1 56.7 L 237.4 56.7\" id=\"21,12\" style=\"\"></path><path d=\"M 50.6 196.9 L 50.6 250.1 L 160.9 250.1\" id=\"24,13\" style=\"\"></path><path d=\"M 205.2 163.9 L 205.2 182.9 L 218.9 182.9\" id=\"17,14\" style=\"\"></path><path d=\"M 209.8 145.0 L 209.8 132.4 L 247.8 132.4\" id=\"16,15\" style=\"\"></path><path d=\"M 205.2 163.9 L 205.2 145.0 L 209.8 145.0\" id=\"17,16\" style=\"\"></path><path d=\"M 200.4 186.0 L 200.4 163.9 L 205.2 163.9\" id=\"18,17\" style=\"\"></path><path d=\"M 194.0 205.5 L 194.0 186.0 L 200.4 186.0\" id=\"19,18\" style=\"\"></path><path d=\"M 160.9 143.7 L 160.9 205.5 L 194.0 205.5\" id=\"23,19\" style=\"\"></path><path d=\"M 179.2 82.0 L 179.2 98.8 L 193.9 98.8\" id=\"22,20\" style=\"\"></path><path d=\"M 179.2 82.0 L 179.2 65.2 L 237.1 65.2\" id=\"22,21\" style=\"\"></path><path d=\"M 160.9 143.7 L 160.9 82.0 L 179.2 82.0\" id=\"23,22\" style=\"\"></path><path d=\"M 50.6 196.9 L 50.6 143.7 L 160.9 143.7\" id=\"24,23\" style=\"\"></path></g><g class=\"toytree-AdmixEdges\" style=\"fill:rgb(0.0%,0.0%,0.0%);fill-opacity:0.0;stroke:rgb(90.6%,54.1%,76.5%);stroke-opacity:0.6;font-size:14px;stroke-linecap:round;stroke-width:5\"></g><g class=\"toytree-Nodes\" style=\"fill:rgb(40.0%,76.1%,64.7%);fill-opacity:1.0;stroke:rgb(14.9%,14.9%,14.9%);stroke-opacity:1.0;stroke-width:1.5\"></g><g class=\"toytree-TipLabels\" style=\"fill:rgb(14.5%,14.5%,14.5%);fill-opacity:1.0;font-family:Helvetica;font-size:12px;font-weight:300;vertical-align:baseline;white-space:pre;stroke:none\"><g class=\"toytree-TipLabel\" transform=\"translate(176.861,258.531)\"><text x=\"15.0\" y=\"3.066\" style=\"fill:rgb(14.5%,14.5%,14.5%);fill-opacity:1.0\">32082_przewalskii</text></g><g class=\"toytree-TipLabel\" transform=\"translate(176.111,241.716)\"><text x=\"15.0\" y=\"3.066\" style=\"fill:rgb(14.5%,14.5%,14.5%);fill-opacity:1.0\">33588_przewalskii</text></g><g class=\"toytree-TipLabel\" transform=\"translate(228.823,224.901)\"><text x=\"15.0\" y=\"3.066\" style=\"fill:rgb(14.5%,14.5%,14.5%);fill-opacity:1.0\">33413_thamno</text></g><g class=\"toytree-TipLabel\" transform=\"translate(240.587,208.086)\"><text x=\"15.0\" y=\"3.066\" style=\"fill:rgb(14.5%,14.5%,14.5%);fill-opacity:1.0\">30556_thamno</text></g><g class=\"toytree-TipLabel\" transform=\"translate(239.573,191.27)\"><text x=\"15.0\" y=\"3.066\" style=\"fill:rgb(14.5%,14.5%,14.5%);fill-opacity:1.0\">40578_rex</text></g><g class=\"toytree-TipLabel\" transform=\"translate(239.853,174.455)\"><text x=\"15.0\" y=\"3.066\" style=\"fill:rgb(14.5%,14.5%,14.5%);fill-opacity:1.0\">35855_rex</text></g><g class=\"toytree-TipLabel\" transform=\"translate(245.479,157.64)\"><text x=\"15.0\" y=\"3.066\" style=\"fill:rgb(14.5%,14.5%,14.5%);fill-opacity:1.0\">35236_rex</text></g><g class=\"toytree-TipLabel\" transform=\"translate(253.673,140.825)\"><text x=\"15.0\" y=\"3.066\" style=\"fill:rgb(14.5%,14.5%,14.5%);fill-opacity:1.0\">39618_rex</text></g><g class=\"toytree-TipLabel\" transform=\"translate(254.473,124.01)\"><text x=\"15.0\" y=\"3.066\" style=\"fill:rgb(14.5%,14.5%,14.5%);fill-opacity:1.0\">38362_rex</text></g><g class=\"toytree-TipLabel\" transform=\"translate(232.869,107.194)\"><text x=\"15.0\" y=\"3.066\" style=\"fill:rgb(14.5%,14.5%,14.5%);fill-opacity:1.0\">29154_superba</text></g><g class=\"toytree-TipLabel\" transform=\"translate(235.066,90.3791)\"><text x=\"15.0\" y=\"3.066\" style=\"fill:rgb(14.5%,14.5%,14.5%);fill-opacity:1.0\">30686_cyathophylla</text></g><g class=\"toytree-TipLabel\" transform=\"translate(237.647,73.5638)\"><text x=\"15.0\" y=\"3.066\" style=\"fill:rgb(14.5%,14.5%,14.5%);fill-opacity:1.0\">41954_cyathophylloides</text></g><g class=\"toytree-TipLabel\" transform=\"translate(237.425,56.7486)\"><text x=\"15.0\" y=\"3.066\" style=\"fill:rgb(14.5%,14.5%,14.5%);fill-opacity:1.0\">41478_cyathophylloides</text></g></g></g></g></g></svg><div class=\"toyplot-behavior\"><script>(function()\n",
       "{\n",
       "var modules={};\n",
       "})();</script></div></div>"
      ]
     },
     "metadata": {},
     "output_type": "display_data"
    }
   ],
   "source": [
    "# suppreses nodes\n",
    "rtre.draw(node_labels=False);"
   ]
  },
  {
   "cell_type": "code",
   "execution_count": 47,
   "metadata": {},
   "outputs": [
    {
     "data": {
      "text/html": [
       "<div class=\"toyplot\" id=\"t3fa45ebeb18a453a89a23e1f41a4d396\" style=\"text-align:center\"><svg class=\"toyplot-canvas-Canvas\" xmlns:toyplot=\"http://www.sandia.gov/toyplot\" xmlns:xlink=\"http://www.w3.org/1999/xlink\" xmlns=\"http://www.w3.org/2000/svg\" width=\"458.972px\" height=\"315.28px\" viewBox=\"0 0 458.972 315.28\" preserveAspectRatio=\"xMidYMid meet\" style=\"background-color:transparent;border-color:#292724;border-style:none;border-width:1.0;fill:rgb(16.1%,15.3%,14.1%);fill-opacity:1.0;font-family:Helvetica;font-size:12px;opacity:1.0;stroke:rgb(16.1%,15.3%,14.1%);stroke-opacity:1.0;stroke-width:1.0\" id=\"tb5be7729867343e8a8d99f2333901748\"><g class=\"toyplot-coordinates-Cartesian\" id=\"t1f0138d4583d4f1d83143a619e494f28\"><clipPath id=\"tb379831e0da7497e91869a7c1a41d367\"><rect x=\"35.0\" y=\"35.0\" width=\"388.972\" height=\"245.27999999999997\"></rect></clipPath><g clip-path=\"url(#tb379831e0da7497e91869a7c1a41d367)\"><g class=\"toytree-mark-Toytree\" id=\"te1a2a6fd092448258ef2a9ca4e1e3132\"><g class=\"toytree-Edges\" style=\"stroke:rgb(14.5%,14.5%,14.5%);stroke-opacity:1.0;stroke-linecap:round;stroke-width:2.0;fill:none\"><path d=\"M 165.6 250.1 L 165.6 258.5 L 181.8 258.5\" id=\"13,0\" style=\"\"></path><path d=\"M 165.6 250.1 L 165.6 241.7 L 181.0 241.7\" id=\"13,1\" style=\"\"></path><path d=\"M 199.2 205.5 L 199.2 224.9 L 234.5 224.9\" id=\"19,2\" style=\"\"></path><path d=\"M 205.7 186.0 L 205.7 208.1 L 246.4 208.1\" id=\"18,3\" style=\"\"></path><path d=\"M 224.5 182.9 L 224.5 191.3 L 245.4 191.3\" id=\"14,4\" style=\"\"></path><path d=\"M 224.5 182.9 L 224.5 174.5 L 245.7 174.5\" id=\"14,5\" style=\"\"></path><path d=\"M 215.2 145.0 L 215.2 157.6 L 251.4 157.6\" id=\"16,6\" style=\"\"></path><path d=\"M 253.7 132.4 L 253.7 140.8 L 259.7 140.8\" id=\"15,7\" style=\"\"></path><path d=\"M 253.7 132.4 L 253.7 124.0 L 260.5 124.0\" id=\"15,8\" style=\"\"></path><path d=\"M 199.0 98.8 L 199.0 107.2 L 238.6 107.2\" id=\"20,9\" style=\"\"></path><path d=\"M 199.0 98.8 L 199.0 90.4 L 240.8 90.4\" id=\"20,10\" style=\"\"></path><path d=\"M 242.9 65.2 L 242.9 73.6 L 243.4 73.6\" id=\"21,11\" style=\"\"></path><path d=\"M 242.9 65.2 L 242.9 56.7 L 243.2 56.7\" id=\"21,12\" style=\"\"></path><path d=\"M 53.7 196.9 L 53.7 250.1 L 165.6 250.1\" id=\"24,13\" style=\"\"></path><path d=\"M 210.5 163.9 L 210.5 182.9 L 224.5 182.9\" id=\"17,14\" style=\"\"></path><path d=\"M 215.2 145.0 L 215.2 132.4 L 253.7 132.4\" id=\"16,15\" style=\"\"></path><path d=\"M 210.5 163.9 L 210.5 145.0 L 215.2 145.0\" id=\"17,16\" style=\"\"></path><path d=\"M 205.7 186.0 L 205.7 163.9 L 210.5 163.9\" id=\"18,17\" style=\"\"></path><path d=\"M 199.2 205.5 L 199.2 186.0 L 205.7 186.0\" id=\"19,18\" style=\"\"></path><path d=\"M 165.6 143.7 L 165.6 205.5 L 199.2 205.5\" id=\"23,19\" style=\"\"></path><path d=\"M 184.2 82.0 L 184.2 98.8 L 199.0 98.8\" id=\"22,20\" style=\"\"></path><path d=\"M 184.2 82.0 L 184.2 65.2 L 242.9 65.2\" id=\"22,21\" style=\"\"></path><path d=\"M 165.6 143.7 L 165.6 82.0 L 184.2 82.0\" id=\"23,22\" style=\"\"></path><path d=\"M 53.7 196.9 L 53.7 143.7 L 165.6 143.7\" id=\"24,23\" style=\"\"></path></g><g class=\"toytree-AdmixEdges\" style=\"fill:rgb(0.0%,0.0%,0.0%);fill-opacity:0.0;stroke:rgb(90.6%,54.1%,76.5%);stroke-opacity:0.6;font-size:14px;stroke-linecap:round;stroke-width:5\"></g><g class=\"toytree-Nodes\" style=\"fill:rgb(40.0%,76.1%,64.7%);fill-opacity:1.0;stroke:rgb(14.9%,14.9%,14.9%);stroke-opacity:1.0;stroke-width:1.5\"><g id=\"Node-13\" transform=\"translate(165.611,250.124)\"><circle r=\"5.0\"></circle></g><g id=\"Node-14\" transform=\"translate(224.451,182.863)\"><circle r=\"5.0\"></circle></g><g id=\"Node-15\" transform=\"translate(253.664,132.417)\"><circle r=\"5.0\"></circle></g><g id=\"Node-16\" transform=\"translate(215.151,145.029)\"><circle r=\"5.0\"></circle></g><g id=\"Node-17\" transform=\"translate(210.543,163.946)\"><circle r=\"5.0\"></circle></g><g id=\"Node-18\" transform=\"translate(205.657,186.016)\"><circle r=\"5.0\"></circle></g><g id=\"Node-19\" transform=\"translate(199.21,205.458)\"><circle r=\"5.0\"></circle></g><g id=\"Node-20\" transform=\"translate(199.016,98.7867)\"><circle r=\"5.0\"></circle></g><g id=\"Node-21\" transform=\"translate(242.862,65.1562)\"><circle r=\"5.0\"></circle></g><g id=\"Node-22\" transform=\"translate(184.173,81.9714)\"><circle r=\"5.0\"></circle></g><g id=\"Node-23\" transform=\"translate(165.611,143.715)\"><circle r=\"5.0\"></circle></g><g id=\"Node-24\" transform=\"translate(53.7434,196.919)\"><circle r=\"5.0\"></circle></g></g><g class=\"toytree-TipLabels\" style=\"fill:rgb(14.5%,14.5%,14.5%);fill-opacity:1.0;font-family:Helvetica;font-size:12px;font-weight:300;vertical-align:baseline;white-space:pre;stroke:none\"><g class=\"toytree-TipLabel\" transform=\"translate(181.785,258.531)\"><text x=\"15.0\" y=\"3.066\" style=\"fill:rgb(14.5%,14.5%,14.5%);fill-opacity:1.0\">32082_przewalskii</text></g><g class=\"toytree-TipLabel\" transform=\"translate(181.024,241.716)\"><text x=\"15.0\" y=\"3.066\" style=\"fill:rgb(14.5%,14.5%,14.5%);fill-opacity:1.0\">33588_przewalskii</text></g><g class=\"toytree-TipLabel\" transform=\"translate(234.47,224.901)\"><text x=\"15.0\" y=\"3.066\" style=\"fill:rgb(14.5%,14.5%,14.5%);fill-opacity:1.0\">33413_thamno</text></g><g class=\"toytree-TipLabel\" transform=\"translate(246.397,208.086)\"><text x=\"15.0\" y=\"3.066\" style=\"fill:rgb(14.5%,14.5%,14.5%);fill-opacity:1.0\">30556_thamno</text></g><g class=\"toytree-TipLabel\" transform=\"translate(245.369,191.27)\"><text x=\"15.0\" y=\"3.066\" style=\"fill:rgb(14.5%,14.5%,14.5%);fill-opacity:1.0\">40578_rex</text></g><g class=\"toytree-TipLabel\" transform=\"translate(245.653,174.455)\"><text x=\"15.0\" y=\"3.066\" style=\"fill:rgb(14.5%,14.5%,14.5%);fill-opacity:1.0\">35855_rex</text></g><g class=\"toytree-TipLabel\" transform=\"translate(251.357,157.64)\"><text x=\"15.0\" y=\"3.066\" style=\"fill:rgb(14.5%,14.5%,14.5%);fill-opacity:1.0\">35236_rex</text></g><g class=\"toytree-TipLabel\" transform=\"translate(259.665,140.825)\"><text x=\"15.0\" y=\"3.066\" style=\"fill:rgb(14.5%,14.5%,14.5%);fill-opacity:1.0\">39618_rex</text></g><g class=\"toytree-TipLabel\" transform=\"translate(260.476,124.01)\"><text x=\"15.0\" y=\"3.066\" style=\"fill:rgb(14.5%,14.5%,14.5%);fill-opacity:1.0\">38362_rex</text></g><g class=\"toytree-TipLabel\" transform=\"translate(238.572,107.194)\"><text x=\"15.0\" y=\"3.066\" style=\"fill:rgb(14.5%,14.5%,14.5%);fill-opacity:1.0\">29154_superba</text></g><g class=\"toytree-TipLabel\" transform=\"translate(240.799,90.3791)\"><text x=\"15.0\" y=\"3.066\" style=\"fill:rgb(14.5%,14.5%,14.5%);fill-opacity:1.0\">30686_cyathophylla</text></g><g class=\"toytree-TipLabel\" transform=\"translate(243.416,73.5638)\"><text x=\"15.0\" y=\"3.066\" style=\"fill:rgb(14.5%,14.5%,14.5%);fill-opacity:1.0\">41954_cyathophylloides</text></g><g class=\"toytree-TipLabel\" transform=\"translate(243.191,56.7486)\"><text x=\"15.0\" y=\"3.066\" style=\"fill:rgb(14.5%,14.5%,14.5%);fill-opacity:1.0\">41478_cyathophylloides</text></g></g></g></g></g></svg><div class=\"toyplot-behavior\"><script>(function()\n",
       "{\n",
       "var modules={};\n",
       "})();</script></div></div>"
      ]
     },
     "metadata": {},
     "output_type": "display_data"
    }
   ],
   "source": [
    "# suppresses node labels, sizes ensures nodes are still shown\n",
    "rtre.draw(node_labels=False, node_sizes=10);"
   ]
  },
  {
   "cell_type": "code",
   "execution_count": 48,
   "metadata": {},
   "outputs": [
    {
     "data": {
      "text/html": [
       "<div class=\"toyplot\" id=\"t2de4cbc076864e7984c773b21fade3b4\" style=\"text-align:center\"><svg class=\"toyplot-canvas-Canvas\" xmlns:toyplot=\"http://www.sandia.gov/toyplot\" xmlns:xlink=\"http://www.w3.org/1999/xlink\" xmlns=\"http://www.w3.org/2000/svg\" width=\"459.9779999999999px\" height=\"315.28px\" viewBox=\"0 0 459.9779999999999 315.28\" preserveAspectRatio=\"xMidYMid meet\" style=\"background-color:transparent;border-color:#292724;border-style:none;border-width:1.0;fill:rgb(16.1%,15.3%,14.1%);fill-opacity:1.0;font-family:Helvetica;font-size:12px;opacity:1.0;stroke:rgb(16.1%,15.3%,14.1%);stroke-opacity:1.0;stroke-width:1.0\" id=\"tca7c21cde0944b0792f2ed4fed409e65\"><g class=\"toyplot-coordinates-Cartesian\" id=\"t44105cd0c38f43ada7e877705ea0b307\"><clipPath id=\"tb4d7001737df4ef398680189e22895fe\"><rect x=\"35.0\" y=\"35.0\" width=\"389.9779999999999\" height=\"245.27999999999997\"></rect></clipPath><g clip-path=\"url(#tb4d7001737df4ef398680189e22895fe)\"><g class=\"toytree-mark-Toytree\" id=\"tb6ab0cb1d6d44ea384c8ca216665c491\"><g class=\"toytree-Edges\" style=\"stroke:rgb(14.5%,14.5%,14.5%);stroke-opacity:1.0;stroke-linecap:round;stroke-width:2.0;fill:none\"><path d=\"M 166.5 250.1 L 166.5 258.5 L 182.7 258.5\" id=\"13,0\" style=\"\"></path><path d=\"M 166.5 250.1 L 166.5 241.7 L 181.9 241.7\" id=\"13,1\" style=\"\"></path><path d=\"M 200.2 205.5 L 200.2 224.9 L 235.5 224.9\" id=\"19,2\" style=\"\"></path><path d=\"M 206.6 186.0 L 206.6 208.1 L 247.5 208.1\" id=\"18,3\" style=\"\"></path><path d=\"M 225.5 182.9 L 225.5 191.3 L 246.4 191.3\" id=\"14,4\" style=\"\"></path><path d=\"M 225.5 182.9 L 225.5 174.5 L 246.7 174.5\" id=\"14,5\" style=\"\"></path><path d=\"M 216.1 145.0 L 216.1 157.6 L 252.4 157.6\" id=\"16,6\" style=\"\"></path><path d=\"M 254.7 132.4 L 254.7 140.8 L 260.8 140.8\" id=\"15,7\" style=\"\"></path><path d=\"M 254.7 132.4 L 254.7 124.0 L 261.6 124.0\" id=\"15,8\" style=\"\"></path><path d=\"M 200.0 98.8 L 200.0 107.2 L 239.6 107.2\" id=\"20,9\" style=\"\"></path><path d=\"M 200.0 98.8 L 200.0 90.4 L 241.8 90.4\" id=\"20,10\" style=\"\"></path><path d=\"M 243.9 65.2 L 243.9 73.6 L 244.5 73.6\" id=\"21,11\" style=\"\"></path><path d=\"M 243.9 65.2 L 243.9 56.7 L 244.2 56.7\" id=\"21,12\" style=\"\"></path><path d=\"M 54.3 196.9 L 54.3 250.1 L 166.5 250.1\" id=\"24,13\" style=\"\"></path><path d=\"M 211.5 163.9 L 211.5 182.9 L 225.5 182.9\" id=\"17,14\" style=\"\"></path><path d=\"M 216.1 145.0 L 216.1 132.4 L 254.7 132.4\" id=\"16,15\" style=\"\"></path><path d=\"M 211.5 163.9 L 211.5 145.0 L 216.1 145.0\" id=\"17,16\" style=\"\"></path><path d=\"M 206.6 186.0 L 206.6 163.9 L 211.5 163.9\" id=\"18,17\" style=\"\"></path><path d=\"M 200.2 205.5 L 200.2 186.0 L 206.6 186.0\" id=\"19,18\" style=\"\"></path><path d=\"M 166.5 143.7 L 166.5 205.5 L 200.2 205.5\" id=\"23,19\" style=\"\"></path><path d=\"M 185.1 82.0 L 185.1 98.8 L 200.0 98.8\" id=\"22,20\" style=\"\"></path><path d=\"M 185.1 82.0 L 185.1 65.2 L 243.9 65.2\" id=\"22,21\" style=\"\"></path><path d=\"M 166.5 143.7 L 166.5 82.0 L 185.1 82.0\" id=\"23,22\" style=\"\"></path><path d=\"M 54.3 196.9 L 54.3 143.7 L 166.5 143.7\" id=\"24,23\" style=\"\"></path></g><g class=\"toytree-AdmixEdges\" style=\"fill:rgb(0.0%,0.0%,0.0%);fill-opacity:0.0;stroke:rgb(90.6%,54.1%,76.5%);stroke-opacity:0.6;font-size:14px;stroke-linecap:round;stroke-width:5\"></g><g class=\"toytree-Nodes\" style=\"fill:rgb(40.0%,76.1%,64.7%);fill-opacity:1.0;stroke:rgb(14.9%,14.9%,14.9%);stroke-opacity:1.0;stroke-width:1.5\"></g><g class=\"toytree-NodeLabels\" style=\"font-family:Helvetica;font-size:9px;font-weight:300;vertical-align:baseline;white-space:pre;stroke:none\"><g class=\"toytree-NodeLabel\" transform=\"translate(166.47,250.124)\"><text x=\"-7.506\" y=\"2.2995\" style=\"fill:rgb(14.5%,14.5%,14.5%);fill-opacity:1.0\">100</text></g><g class=\"toytree-NodeLabel\" transform=\"translate(225.457,182.863)\"><text x=\"-7.506\" y=\"2.2995\" style=\"fill:rgb(14.5%,14.5%,14.5%);fill-opacity:1.0\">100</text></g><g class=\"toytree-NodeLabel\" transform=\"translate(254.744,132.417)\"><text x=\"-7.506\" y=\"2.2995\" style=\"fill:rgb(14.5%,14.5%,14.5%);fill-opacity:1.0\">100</text></g><g class=\"toytree-NodeLabel\" transform=\"translate(216.135,145.029)\"><text x=\"-5.0040000000000004\" y=\"2.2995\" style=\"fill:rgb(14.5%,14.5%,14.5%);fill-opacity:1.0\">96</text></g><g class=\"toytree-NodeLabel\" transform=\"translate(211.515,163.946)\"><text x=\"-5.0040000000000004\" y=\"2.2995\" style=\"fill:rgb(14.5%,14.5%,14.5%);fill-opacity:1.0\">99</text></g><g class=\"toytree-NodeLabel\" transform=\"translate(206.617,186.016)\"><text x=\"-7.506\" y=\"2.2995\" style=\"fill:rgb(14.5%,14.5%,14.5%);fill-opacity:1.0\">100</text></g><g class=\"toytree-NodeLabel\" transform=\"translate(200.153,205.458)\"><text x=\"-7.506\" y=\"2.2995\" style=\"fill:rgb(14.5%,14.5%,14.5%);fill-opacity:1.0\">100</text></g><g class=\"toytree-NodeLabel\" transform=\"translate(199.959,98.7867)\"><text x=\"-7.506\" y=\"2.2995\" style=\"fill:rgb(14.5%,14.5%,14.5%);fill-opacity:1.0\">100</text></g><g class=\"toytree-NodeLabel\" transform=\"translate(243.915,65.1562)\"><text x=\"-7.506\" y=\"2.2995\" style=\"fill:rgb(14.5%,14.5%,14.5%);fill-opacity:1.0\">100</text></g><g class=\"toytree-NodeLabel\" transform=\"translate(185.079,81.9714)\"><text x=\"-7.506\" y=\"2.2995\" style=\"fill:rgb(14.5%,14.5%,14.5%);fill-opacity:1.0\">100</text></g><g class=\"toytree-NodeLabel\" transform=\"translate(166.47,143.715)\"><text x=\"-7.506\" y=\"2.2995\" style=\"fill:rgb(14.5%,14.5%,14.5%);fill-opacity:1.0\">100</text></g><g class=\"toytree-NodeLabel\" transform=\"translate(54.3215,196.919)\"><text x=\"-7.506\" y=\"2.2995\" style=\"fill:rgb(14.5%,14.5%,14.5%);fill-opacity:1.0\">nan</text></g></g><g class=\"toytree-TipLabels\" style=\"fill:rgb(14.5%,14.5%,14.5%);fill-opacity:1.0;font-family:Helvetica;font-size:12px;font-weight:300;vertical-align:baseline;white-space:pre;stroke:none\"><g class=\"toytree-TipLabel\" transform=\"translate(182.684,258.531)\"><text x=\"15.0\" y=\"3.066\" style=\"fill:rgb(14.5%,14.5%,14.5%);fill-opacity:1.0\">32082_przewalskii</text></g><g class=\"toytree-TipLabel\" transform=\"translate(181.922,241.716)\"><text x=\"15.0\" y=\"3.066\" style=\"fill:rgb(14.5%,14.5%,14.5%);fill-opacity:1.0\">33588_przewalskii</text></g><g class=\"toytree-TipLabel\" transform=\"translate(235.501,224.901)\"><text x=\"15.0\" y=\"3.066\" style=\"fill:rgb(14.5%,14.5%,14.5%);fill-opacity:1.0\">33413_thamno</text></g><g class=\"toytree-TipLabel\" transform=\"translate(247.458,208.086)\"><text x=\"15.0\" y=\"3.066\" style=\"fill:rgb(14.5%,14.5%,14.5%);fill-opacity:1.0\">30556_thamno</text></g><g class=\"toytree-TipLabel\" transform=\"translate(246.428,191.27)\"><text x=\"15.0\" y=\"3.066\" style=\"fill:rgb(14.5%,14.5%,14.5%);fill-opacity:1.0\">40578_rex</text></g><g class=\"toytree-TipLabel\" transform=\"translate(246.713,174.455)\"><text x=\"15.0\" y=\"3.066\" style=\"fill:rgb(14.5%,14.5%,14.5%);fill-opacity:1.0\">35855_rex</text></g><g class=\"toytree-TipLabel\" transform=\"translate(252.431,157.64)\"><text x=\"15.0\" y=\"3.066\" style=\"fill:rgb(14.5%,14.5%,14.5%);fill-opacity:1.0\">35236_rex</text></g><g class=\"toytree-TipLabel\" transform=\"translate(260.76,140.825)\"><text x=\"15.0\" y=\"3.066\" style=\"fill:rgb(14.5%,14.5%,14.5%);fill-opacity:1.0\">39618_rex</text></g><g class=\"toytree-TipLabel\" transform=\"translate(261.573,124.01)\"><text x=\"15.0\" y=\"3.066\" style=\"fill:rgb(14.5%,14.5%,14.5%);fill-opacity:1.0\">38362_rex</text></g><g class=\"toytree-TipLabel\" transform=\"translate(239.614,107.194)\"><text x=\"15.0\" y=\"3.066\" style=\"fill:rgb(14.5%,14.5%,14.5%);fill-opacity:1.0\">29154_superba</text></g><g class=\"toytree-TipLabel\" transform=\"translate(241.846,90.3791)\"><text x=\"15.0\" y=\"3.066\" style=\"fill:rgb(14.5%,14.5%,14.5%);fill-opacity:1.0\">30686_cyathophylla</text></g><g class=\"toytree-TipLabel\" transform=\"translate(244.471,73.5638)\"><text x=\"15.0\" y=\"3.066\" style=\"fill:rgb(14.5%,14.5%,14.5%);fill-opacity:1.0\">41954_cyathophylloides</text></g><g class=\"toytree-TipLabel\" transform=\"translate(244.245,56.7486)\"><text x=\"15.0\" y=\"3.066\" style=\"fill:rgb(14.5%,14.5%,14.5%);fill-opacity:1.0\">41478_cyathophylloides</text></g></g></g></g></g></svg><div class=\"toyplot-behavior\"><script>(function()\n",
       "{\n",
       "var modules={};\n",
       "})();</script></div></div>"
      ]
     },
     "metadata": {},
     "output_type": "display_data"
    }
   ],
   "source": [
    "# shortcut for 'default' features always present in TreeNodes, suppresses tip nodes.\n",
    "rtre.draw(node_labels=\"support\");"
   ]
  },
  {
   "cell_type": "markdown",
   "metadata": {},
   "source": [
    "#### node_labels_style\n",
    "\n",
    "**Type:** dictionary.  \n",
    "**Allowed:** CSS values supported for text by toyplot.  \n",
    "**Default:** fill: near-black, font-size: '11px'.   \n",
    "**Description:** A dictionary of CSS style options applied to text of node labels.  \n"
   ]
  },
  {
   "cell_type": "code",
   "execution_count": null,
   "metadata": {},
   "outputs": [
    {
     "data": {
      "text/html": [
       "<div class=\"toyplot\" id=\"t298ec9ef609347c8b7d4c81248a74b84\" style=\"text-align:center\"><svg class=\"toyplot-canvas-Canvas\" height=\"275.0px\" id=\"tfdd0136282524a078e1a48954f95f437\" preserveAspectRatio=\"xMidYMid meet\" style=\"background-color:transparent;border-color:#292724;border-style:none;border-width:1.0;fill:rgb(16.1%,15.3%,14.1%);fill-opacity:1.0;font-family:Helvetica;font-size:12px;opacity:1.0;stroke:rgb(16.1%,15.3%,14.1%);stroke-opacity:1.0;stroke-width:1.0\" viewBox=\"0 0 360.0 275.0\" width=\"360.0px\" xmlns=\"http://www.w3.org/2000/svg\" xmlns:toyplot=\"http://www.sandia.gov/toyplot\" xmlns:xlink=\"http://www.w3.org/1999/xlink\"><g class=\"toyplot-coordinates-Cartesian\" id=\"t661b51d0b53a452f8837ba5987aefcad\"><clipPath id=\"t788ce10028a9484daceddfdb346b2e79\"><rect height=\"215.0\" width=\"300.0\" x=\"30.0\" y=\"30.0\"></rect></clipPath><g clip-path=\"url(#t788ce10028a9484daceddfdb346b2e79)\"><g class=\"toytree-mark-Toytree\" id=\"t93b59b9a6e4347aa937fe9c637f7f41f\"><g class=\"toytree-Edges\" style=\"fill:none;stroke:rgb(14.9%,14.9%,14.9%);stroke-linecap:round;stroke-opacity:1;stroke-width:2\"><path d=\"M 50.0 98.2 L 50.0 67.4 L 128.9 67.4\" id=\"24,23\"></path><path d=\"M 50.0 98.2 L 50.0 128.9 L 128.9 128.9\" id=\"24,22\"></path><path d=\"M 128.9 128.9 L 128.9 105.6 L 142.0 105.6\" id=\"22,21\"></path><path d=\"M 128.9 128.9 L 128.9 152.2 L 152.6 152.2\" id=\"22,20\"></path><path d=\"M 142.0 105.6 L 142.0 92.9 L 152.4 92.9\" id=\"21,19\"></path><path d=\"M 142.0 105.6 L 142.0 118.4 L 183.3 118.4\" id=\"21,18\"></path><path d=\"M 152.6 152.2 L 152.6 167.0 L 157.1 167.0\" id=\"20,17\"></path><path d=\"M 157.1 167.0 L 157.1 183.7 L 160.5 183.7\" id=\"17,16\"></path><path d=\"M 160.5 183.7 L 160.5 169.4 L 170.3 169.4\" id=\"16,15\"></path><path d=\"M 160.5 183.7 L 160.5 198.1 L 163.8 198.1\" id=\"16,14\"></path><path d=\"M 163.8 198.1 L 163.8 207.6 L 190.9 207.6\" id=\"14,13\"></path><path d=\"M 128.9 67.4 L 128.9 61.0 L 140.3 61.0\" id=\"23,12\"></path><path d=\"M 128.9 67.4 L 128.9 73.8 L 139.7 73.8\" id=\"23,11\"></path><path d=\"M 152.4 92.9 L 152.4 86.5 L 180.3 86.5\" id=\"19,10\"></path><path d=\"M 152.4 92.9 L 152.4 99.3 L 181.9 99.3\" id=\"19,9\"></path><path d=\"M 183.3 118.4 L 183.3 112.0 L 183.7 112.0\" id=\"18,8\"></path><path d=\"M 183.3 118.4 L 183.3 124.8 L 183.6 124.8\" id=\"18,7\"></path><path d=\"M 152.6 152.2 L 152.6 137.5 L 177.4 137.5\" id=\"20,6\"></path><path d=\"M 157.1 167.0 L 157.1 150.2 L 185.8 150.2\" id=\"17,5\"></path><path d=\"M 170.3 169.4 L 170.3 163.0 L 185.1 163.0\" id=\"15,4\"></path><path d=\"M 170.3 169.4 L 170.3 175.7 L 185.3 175.7\" id=\"15,3\"></path><path d=\"M 163.8 198.1 L 163.8 188.5 L 189.3 188.5\" id=\"14,2\"></path><path d=\"M 190.9 207.6 L 190.9 201.2 L 195.2 201.2\" id=\"13,1\"></path><path d=\"M 190.9 207.6 L 190.9 214.0 L 195.7 214.0\" id=\"13,0\"></path></g><g class=\"toytree-NodeLabels\" style=\"fill:rgb(14.9%,14.9%,14.9%);fill-opacity:1.0;font-size:8px;stroke:none\"><g transform=\"translate(186.49,209.66)\"><text>13</text></g><g transform=\"translate(159.34,200.10)\"><text>14</text></g><g transform=\"translate(165.90,171.41)\"><text>15</text></g><g transform=\"translate(156.09,185.75)\"><text>16</text></g><g transform=\"translate(152.65,169.02)\"><text>17</text></g><g transform=\"translate(178.88,120.42)\"><text>18</text></g><g transform=\"translate(147.97,94.93)\"><text>19</text></g><g transform=\"translate(148.10,154.28)\"><text>20</text></g><g transform=\"translate(137.50,107.67)\"><text>21</text></g><g transform=\"translate(124.42,130.98)\"><text>22</text></g><g transform=\"translate(124.42,69.43)\"><text>23</text></g></g><g class=\"toytree-TipLabels\" style=\"fill:rgb(14.9%,14.9%,14.9%);fill-opacity:1.0;font-family:helvetica;font-size:11px;font-weight:normal;stroke:none;white-space:pre\"><g transform=\"translate(195.74,213.99)rotate(0)\"><text style=\"\" x=\"15.00\" y=\"2.81\">38362_rex</text></g><g transform=\"translate(195.17,201.24)rotate(0)\"><text style=\"\" x=\"15.00\" y=\"2.81\">39618_rex</text></g><g transform=\"translate(189.31,188.49)rotate(0)\"><text style=\"\" x=\"15.00\" y=\"2.81\">35236_rex</text></g><g transform=\"translate(185.29,175.74)rotate(0)\"><text style=\"\" x=\"15.00\" y=\"2.81\">35855_rex</text></g><g transform=\"translate(185.09,163.00)rotate(0)\"><text style=\"\" x=\"15.00\" y=\"2.81\">40578_rex</text></g><g transform=\"translate(185.82,150.25)rotate(0)\"><text style=\"\" x=\"15.00\" y=\"2.81\">30556_thamno</text></g><g transform=\"translate(177.41,137.50)rotate(0)\"><text style=\"\" x=\"15.00\" y=\"2.81\">33413_thamno</text></g><g transform=\"translate(183.56,124.75)rotate(0)\"><text style=\"\" x=\"15.00\" y=\"2.81\">41478_cyathophylloides</text></g><g transform=\"translate(183.72,112.00)rotate(0)\"><text style=\"\" x=\"15.00\" y=\"2.81\">41954_cyathophylloides</text></g><g transform=\"translate(181.87,99.26)rotate(0)\"><text style=\"\" x=\"15.00\" y=\"2.81\">30686_cyathophylla</text></g><g transform=\"translate(180.30,86.51)rotate(0)\"><text style=\"\" x=\"15.00\" y=\"2.81\">29154_superba</text></g><g transform=\"translate(139.73,73.76)rotate(0)\"><text style=\"\" x=\"15.00\" y=\"2.81\">33588_przewalskii</text></g><g transform=\"translate(140.27,61.01)rotate(0)\"><text style=\"\" x=\"15.00\" y=\"2.81\">32082_przewalskii</text></g></g></g></g></g></svg><div class=\"toyplot-behavior\"><script>(function()\n",
       "{\n",
       "var modules={};\n",
       "})();</script></div></div>"
      ]
     },
     "metadata": {},
     "output_type": "display_data"
    }
   ],
   "source": [
    "rtre.draw(\n",
    "    node_labels='idx',\n",
    "    node_labels_style={\n",
    "        \"fill\": \"#262626\",\n",
    "        \"font-size\": \"8px\",\n",
    "    }\n",
    ");"
   ]
  },
  {
   "cell_type": "markdown",
   "metadata": {},
   "source": [
    "### Node styling"
   ]
  },
  {
   "cell_type": "markdown",
   "metadata": {},
   "source": [
    "#### node_sizes"
   ]
  },
  {
   "cell_type": "code",
   "execution_count": null,
   "metadata": {},
   "outputs": [
    {
     "data": {
      "text/html": [
       "<div class=\"toyplot\" id=\"t160271ea75cb4ec193c1d6e86630bad8\" style=\"text-align:center\"><svg class=\"toyplot-canvas-Canvas\" height=\"275.0px\" id=\"t2fc1c479b37047d2839e5ec5a8ceb55a\" preserveAspectRatio=\"xMidYMid meet\" style=\"background-color:transparent;border-color:#292724;border-style:none;border-width:1.0;fill:rgb(16.1%,15.3%,14.1%);fill-opacity:1.0;font-family:Helvetica;font-size:12px;opacity:1.0;stroke:rgb(16.1%,15.3%,14.1%);stroke-opacity:1.0;stroke-width:1.0\" viewBox=\"0 0 360.0 275.0\" width=\"360.0px\" xmlns=\"http://www.w3.org/2000/svg\" xmlns:toyplot=\"http://www.sandia.gov/toyplot\" xmlns:xlink=\"http://www.w3.org/1999/xlink\"><g class=\"toyplot-coordinates-Cartesian\" id=\"t73d037e84dd3448c8ec345d4bf439b06\"><clipPath id=\"tfc00f19b89464d719a705b8a4041e83b\"><rect height=\"215.0\" width=\"300.0\" x=\"30.0\" y=\"30.0\"></rect></clipPath><g clip-path=\"url(#tfc00f19b89464d719a705b8a4041e83b)\"><g class=\"toytree-mark-Toytree\" id=\"tbe757a6ca5a4477d84a29bc394848ee7\"><g class=\"toytree-Edges\" style=\"fill:none;stroke:rgb(14.9%,14.9%,14.9%);stroke-linecap:round;stroke-opacity:1;stroke-width:2\"><path d=\"M 55.5 98.2 L 55.5 67.4 L 132.7 67.4\" id=\"24,23\"></path><path d=\"M 55.5 98.2 L 55.5 128.9 L 132.7 128.9\" id=\"24,22\"></path><path d=\"M 132.7 128.9 L 132.7 105.6 L 145.5 105.6\" id=\"22,21\"></path><path d=\"M 132.7 128.9 L 132.7 152.2 L 155.9 152.2\" id=\"22,20\"></path><path d=\"M 145.5 105.6 L 145.5 92.9 L 155.7 92.9\" id=\"21,19\"></path><path d=\"M 145.5 105.6 L 145.5 118.4 L 186.0 118.4\" id=\"21,18\"></path><path d=\"M 155.9 152.2 L 155.9 167.0 L 160.3 167.0\" id=\"20,17\"></path><path d=\"M 160.3 167.0 L 160.3 183.7 L 163.7 183.7\" id=\"17,16\"></path><path d=\"M 163.7 183.7 L 163.7 169.4 L 173.3 169.4\" id=\"16,15\"></path><path d=\"M 163.7 183.7 L 163.7 198.1 L 166.9 198.1\" id=\"16,14\"></path><path d=\"M 166.9 198.1 L 166.9 207.6 L 193.5 207.6\" id=\"14,13\"></path><path d=\"M 132.7 67.4 L 132.7 61.0 L 143.8 61.0\" id=\"23,12\"></path><path d=\"M 132.7 67.4 L 132.7 73.8 L 143.3 73.8\" id=\"23,11\"></path><path d=\"M 155.7 92.9 L 155.7 86.5 L 183.0 86.5\" id=\"19,10\"></path><path d=\"M 155.7 92.9 L 155.7 99.3 L 184.6 99.3\" id=\"19,9\"></path><path d=\"M 186.0 118.4 L 186.0 112.0 L 186.4 112.0\" id=\"18,8\"></path><path d=\"M 186.0 118.4 L 186.0 124.8 L 186.2 124.8\" id=\"18,7\"></path><path d=\"M 155.9 152.2 L 155.9 137.5 L 180.2 137.5\" id=\"20,6\"></path><path d=\"M 160.3 167.0 L 160.3 150.2 L 188.4 150.2\" id=\"17,5\"></path><path d=\"M 173.3 169.4 L 173.3 163.0 L 187.7 163.0\" id=\"15,4\"></path><path d=\"M 173.3 169.4 L 173.3 175.7 L 187.9 175.7\" id=\"15,3\"></path><path d=\"M 166.9 198.1 L 166.9 188.5 L 191.9 188.5\" id=\"14,2\"></path><path d=\"M 193.5 207.6 L 193.5 201.2 L 197.6 201.2\" id=\"13,1\"></path><path d=\"M 193.5 207.6 L 193.5 214.0 L 198.2 214.0\" id=\"13,0\"></path></g><g class=\"toytree-Nodes\" style=\"fill:rgb(40%,76.1%,64.7%);fill-opacity:1.0;stroke:None;stroke-width:1\"><g id=\"node-0\" transform=\"translate(198.154,213.986)\"><circle r=\"5.0\"></circle></g><g id=\"node-1\" transform=\"translate(197.594,201.238)\"><circle r=\"5.0\"></circle></g><g id=\"node-2\" transform=\"translate(191.860,188.491)\"><circle r=\"5.0\"></circle></g><g id=\"node-3\" transform=\"translate(187.924,175.743)\"><circle r=\"5.0\"></circle></g><g id=\"node-4\" transform=\"translate(187.728,162.995)\"><circle r=\"5.0\"></circle></g><g id=\"node-5\" transform=\"translate(188.437,150.248)\"><circle r=\"5.0\"></circle></g><g id=\"node-6\" transform=\"translate(180.206,137.500)\"><circle r=\"5.0\"></circle></g><g id=\"node-7\" transform=\"translate(186.225,124.752)\"><circle r=\"5.0\"></circle></g><g id=\"node-8\" transform=\"translate(186.381,112.005)\"><circle r=\"5.0\"></circle></g><g id=\"node-9\" transform=\"translate(184.574,99.257)\"><circle r=\"5.0\"></circle></g><g id=\"node-10\" transform=\"translate(183.037,86.509)\"><circle r=\"5.0\"></circle></g><g id=\"node-11\" transform=\"translate(143.324,73.762)\"><circle r=\"5.0\"></circle></g><g id=\"node-12\" transform=\"translate(143.849,61.014)\"><circle r=\"5.0\"></circle></g><g id=\"node-13\" transform=\"translate(193.453,207.612)\"><circle r=\"5.0\"></circle></g><g id=\"node-14\" transform=\"translate(166.875,198.051)\"><circle r=\"5.0\"></circle></g><g id=\"node-15\" transform=\"translate(173.293,169.369)\"><circle r=\"5.0\"></circle></g><g id=\"node-16\" transform=\"translate(163.695,183.710)\"><circle r=\"5.0\"></circle></g><g id=\"node-17\" transform=\"translate(160.323,166.979)\"><circle r=\"5.0\"></circle></g><g id=\"node-18\" transform=\"translate(185.998,118.378)\"><circle r=\"5.0\"></circle></g><g id=\"node-19\" transform=\"translate(155.740,92.883)\"><circle r=\"5.0\"></circle></g><g id=\"node-20\" transform=\"translate(155.874,152.239)\"><circle r=\"5.0\"></circle></g><g id=\"node-21\" transform=\"translate(145.497,105.631)\"><circle r=\"5.0\"></circle></g><g id=\"node-22\" transform=\"translate(132.687,128.935)\"><circle r=\"5.0\"></circle></g><g id=\"node-23\" transform=\"translate(132.687,67.388)\"><circle r=\"5.0\"></circle></g><g id=\"node-24\" transform=\"translate(55.487,98.161)\"><circle r=\"5.0\"></circle></g></g><g class=\"toytree-TipLabels\" style=\"fill:rgb(14.9%,14.9%,14.9%);fill-opacity:1.0;font-family:helvetica;font-size:11px;font-weight:normal;stroke:none;white-space:pre\"><g transform=\"translate(198.15,213.99)rotate(0)\"><text style=\"\" x=\"15.00\" y=\"2.81\">38362_rex</text></g><g transform=\"translate(197.59,201.24)rotate(0)\"><text style=\"\" x=\"15.00\" y=\"2.81\">39618_rex</text></g><g transform=\"translate(191.86,188.49)rotate(0)\"><text style=\"\" x=\"15.00\" y=\"2.81\">35236_rex</text></g><g transform=\"translate(187.92,175.74)rotate(0)\"><text style=\"\" x=\"15.00\" y=\"2.81\">35855_rex</text></g><g transform=\"translate(187.73,163.00)rotate(0)\"><text style=\"\" x=\"15.00\" y=\"2.81\">40578_rex</text></g><g transform=\"translate(188.44,150.25)rotate(0)\"><text style=\"\" x=\"15.00\" y=\"2.81\">30556_thamno</text></g><g transform=\"translate(180.21,137.50)rotate(0)\"><text style=\"\" x=\"15.00\" y=\"2.81\">33413_thamno</text></g><g transform=\"translate(186.23,124.75)rotate(0)\"><text style=\"\" x=\"15.00\" y=\"2.81\">41478_cyathophylloides</text></g><g transform=\"translate(186.38,112.00)rotate(0)\"><text style=\"\" x=\"15.00\" y=\"2.81\">41954_cyathophylloides</text></g><g transform=\"translate(184.57,99.26)rotate(0)\"><text style=\"\" x=\"15.00\" y=\"2.81\">30686_cyathophylla</text></g><g transform=\"translate(183.04,86.51)rotate(0)\"><text style=\"\" x=\"15.00\" y=\"2.81\">29154_superba</text></g><g transform=\"translate(143.32,73.76)rotate(0)\"><text style=\"\" x=\"15.00\" y=\"2.81\">33588_przewalskii</text></g><g transform=\"translate(143.85,61.01)rotate(0)\"><text style=\"\" x=\"15.00\" y=\"2.81\">32082_przewalskii</text></g></g></g></g></g></svg><div class=\"toyplot-behavior\"><script>(function()\n",
       "{\n",
       "var modules={};\n",
       "})();</script></div></div>"
      ]
     },
     "metadata": {},
     "output_type": "display_data"
    }
   ],
   "source": [
    "rtre.draw(\n",
    "    node_labels=False,\n",
    "    node_sizes=10,\n",
    ");"
   ]
  },
  {
   "cell_type": "code",
   "execution_count": null,
   "metadata": {},
   "outputs": [
    {
     "data": {
      "text/html": [
       "<div class=\"toyplot\" id=\"t8a74a37526cb45d7adc03c85421894f2\" style=\"text-align:center\"><svg class=\"toyplot-canvas-Canvas\" height=\"275.0px\" id=\"t23ea5faef8c840b897c43b84ac995ef7\" preserveAspectRatio=\"xMidYMid meet\" style=\"background-color:transparent;border-color:#292724;border-style:none;border-width:1.0;fill:rgb(16.1%,15.3%,14.1%);fill-opacity:1.0;font-family:Helvetica;font-size:12px;opacity:1.0;stroke:rgb(16.1%,15.3%,14.1%);stroke-opacity:1.0;stroke-width:1.0\" viewBox=\"0 0 360.0 275.0\" width=\"360.0px\" xmlns=\"http://www.w3.org/2000/svg\" xmlns:toyplot=\"http://www.sandia.gov/toyplot\" xmlns:xlink=\"http://www.w3.org/1999/xlink\"><g class=\"toyplot-coordinates-Cartesian\" id=\"t1353a158fdc04ea9931eae7432900819\"><clipPath id=\"tdf1cbccfc29c42749e60b8e8c279fa08\"><rect height=\"215.0\" width=\"300.0\" x=\"30.0\" y=\"30.0\"></rect></clipPath><g clip-path=\"url(#tdf1cbccfc29c42749e60b8e8c279fa08)\"><g class=\"toytree-mark-Toytree\" id=\"t36022eafd86446e2bc09d4f46075cbd8\"><g class=\"toytree-Edges\" style=\"fill:none;stroke:rgb(14.9%,14.9%,14.9%);stroke-linecap:round;stroke-opacity:1;stroke-width:2\"><path d=\"M 53.8 97.7 L 53.8 67.2 L 131.5 67.2\" id=\"24,23\"></path><path d=\"M 53.8 97.7 L 53.8 128.3 L 131.5 128.3\" id=\"24,22\"></path><path d=\"M 131.5 128.3 L 131.5 105.2 L 144.4 105.2\" id=\"22,21\"></path><path d=\"M 131.5 128.3 L 131.5 151.4 L 154.9 151.4\" id=\"22,20\"></path><path d=\"M 144.4 105.2 L 144.4 92.5 L 154.7 92.5\" id=\"21,19\"></path><path d=\"M 144.4 105.2 L 144.4 117.8 L 185.2 117.8\" id=\"21,18\"></path><path d=\"M 154.9 151.4 L 154.9 166.0 L 159.3 166.0\" id=\"20,17\"></path><path d=\"M 159.3 166.0 L 159.3 182.6 L 162.7 182.6\" id=\"17,16\"></path><path d=\"M 162.7 182.6 L 162.7 168.3 L 172.4 168.3\" id=\"16,15\"></path><path d=\"M 162.7 182.6 L 162.7 196.8 L 165.9 196.8\" id=\"16,14\"></path><path d=\"M 165.9 196.8 L 165.9 206.3 L 192.7 206.3\" id=\"14,13\"></path><path d=\"M 131.5 67.2 L 131.5 60.9 L 142.8 60.9\" id=\"23,12\"></path><path d=\"M 131.5 67.2 L 131.5 73.6 L 142.2 73.6\" id=\"23,11\"></path><path d=\"M 154.7 92.5 L 154.7 86.2 L 182.2 86.2\" id=\"19,10\"></path><path d=\"M 154.7 92.5 L 154.7 98.8 L 183.8 98.8\" id=\"19,9\"></path><path d=\"M 185.2 117.8 L 185.2 111.5 L 185.6 111.5\" id=\"18,8\"></path><path d=\"M 185.2 117.8 L 185.2 124.1 L 185.4 124.1\" id=\"18,7\"></path><path d=\"M 154.9 151.4 L 154.9 136.7 L 179.4 136.7\" id=\"20,6\"></path><path d=\"M 159.3 166.0 L 159.3 149.4 L 187.6 149.4\" id=\"17,5\"></path><path d=\"M 172.4 168.3 L 172.4 162.0 L 186.9 162.0\" id=\"15,4\"></path><path d=\"M 172.4 168.3 L 172.4 174.7 L 187.1 174.7\" id=\"15,3\"></path><path d=\"M 165.9 196.8 L 165.9 187.3 L 191.1 187.3\" id=\"14,2\"></path><path d=\"M 192.7 206.3 L 192.7 199.9 L 196.9 199.9\" id=\"13,1\"></path><path d=\"M 192.7 206.3 L 192.7 212.6 L 197.4 212.6\" id=\"13,0\"></path></g><g class=\"toytree-Nodes\" style=\"fill:rgb(40%,76.1%,64.7%);fill-opacity:1.0;stroke:None;stroke-width:1\"><g id=\"node-0\" transform=\"translate(197.421,212.580)\"><circle r=\"7.165700509912608\"></circle></g><g id=\"node-1\" transform=\"translate(196.857,199.942)\"><circle r=\"4.344120030009872\"></circle></g><g id=\"node-2\" transform=\"translate(191.086,187.303)\"><circle r=\"2.8769062082148826\"></circle></g><g id=\"node-3\" transform=\"translate(187.124,174.665)\"><circle r=\"5.576980892167469\"></circle></g><g id=\"node-4\" transform=\"translate(186.927,162.026)\"><circle r=\"4.324429919506861\"></circle></g><g id=\"node-5\" transform=\"translate(187.641,149.388)\"><circle r=\"6.913205953180583\"></circle></g><g id=\"node-6\" transform=\"translate(179.356,136.750)\"><circle r=\"6.36413310806187\"></circle></g><g id=\"node-7\" transform=\"translate(185.414,124.111)\"><circle r=\"2.568842247953411\"></circle></g><g id=\"node-8\" transform=\"translate(185.571,111.473)\"><circle r=\"5.015415826539049\"></circle></g><g id=\"node-9\" transform=\"translate(183.752,98.835)\"><circle r=\"5.305980930328125\"></circle></g><g id=\"node-10\" transform=\"translate(182.205,86.196)\"><circle r=\"4.351253773951974\"></circle></g><g id=\"node-11\" transform=\"translate(142.232,73.558)\"><circle r=\"6.063510134914501\"></circle></g><g id=\"node-12\" transform=\"translate(142.760,60.920)\"><circle r=\"5.917314675860681\"></circle></g><g id=\"node-13\" transform=\"translate(192.689,206.261)\"><circle r=\"5.004975627617293\"></circle></g><g id=\"node-14\" transform=\"translate(165.937,196.782)\"><circle r=\"4.289086349789333\"></circle></g><g id=\"node-15\" transform=\"translate(172.397,168.346)\"><circle r=\"6.879663173710473\"></circle></g><g id=\"node-16\" transform=\"translate(162.736,182.564)\"><circle r=\"7.290696768418526\"></circle></g><g id=\"node-17\" transform=\"translate(159.342,165.976)\"><circle r=\"6.509360887675096\"></circle></g><g id=\"node-18\" transform=\"translate(185.185,117.792)\"><circle r=\"3.8823212757154835\"></circle></g><g id=\"node-19\" transform=\"translate(154.729,92.515)\"><circle r=\"3.862963026413208\"></circle></g><g id=\"node-20\" transform=\"translate(154.864,151.363)\"><circle r=\"6.399879040594017\"></circle></g><g id=\"node-21\" transform=\"translate(144.419,105.154)\"><circle r=\"6.426792918568847\"></circle></g><g id=\"node-22\" transform=\"translate(131.526,128.258)\"><circle r=\"4.688638695035572\"></circle></g><g id=\"node-23\" transform=\"translate(131.526,67.239)\"><circle r=\"5.610543855199159\"></circle></g><g id=\"node-24\" transform=\"translate(53.819,97.749)\"><circle r=\"3.4575972518944615\"></circle></g></g><g class=\"toytree-TipLabels\" style=\"fill:rgb(14.9%,14.9%,14.9%);fill-opacity:1.0;font-family:helvetica;font-size:11px;font-weight:normal;stroke:none;white-space:pre\"><g transform=\"translate(197.42,212.58)rotate(0)\"><text style=\"\" x=\"15.00\" y=\"2.81\">38362_rex</text></g><g transform=\"translate(196.86,199.94)rotate(0)\"><text style=\"\" x=\"15.00\" y=\"2.81\">39618_rex</text></g><g transform=\"translate(191.09,187.30)rotate(0)\"><text style=\"\" x=\"15.00\" y=\"2.81\">35236_rex</text></g><g transform=\"translate(187.12,174.66)rotate(0)\"><text style=\"\" x=\"15.00\" y=\"2.81\">35855_rex</text></g><g transform=\"translate(186.93,162.03)rotate(0)\"><text style=\"\" x=\"15.00\" y=\"2.81\">40578_rex</text></g><g transform=\"translate(187.64,149.39)rotate(0)\"><text style=\"\" x=\"15.00\" y=\"2.81\">30556_thamno</text></g><g transform=\"translate(179.36,136.75)rotate(0)\"><text style=\"\" x=\"15.00\" y=\"2.81\">33413_thamno</text></g><g transform=\"translate(185.41,124.11)rotate(0)\"><text style=\"\" x=\"15.00\" y=\"2.81\">41478_cyathophylloides</text></g><g transform=\"translate(185.57,111.47)rotate(0)\"><text style=\"\" x=\"15.00\" y=\"2.81\">41954_cyathophylloides</text></g><g transform=\"translate(183.75,98.83)rotate(0)\"><text style=\"\" x=\"15.00\" y=\"2.81\">30686_cyathophylla</text></g><g transform=\"translate(182.21,86.20)rotate(0)\"><text style=\"\" x=\"15.00\" y=\"2.81\">29154_superba</text></g><g transform=\"translate(142.23,73.56)rotate(0)\"><text style=\"\" x=\"15.00\" y=\"2.81\">33588_przewalskii</text></g><g transform=\"translate(142.76,60.92)rotate(0)\"><text style=\"\" x=\"15.00\" y=\"2.81\">32082_przewalskii</text></g></g></g></g></g></svg><div class=\"toyplot-behavior\"><script>(function()\n",
       "{\n",
       "var modules={};\n",
       "})();</script></div></div>"
      ]
     },
     "metadata": {},
     "output_type": "display_data"
    }
   ],
   "source": [
    "# draw random values to use for node sizes\n",
    "np.random.seed(1234)\n",
    "sizes = np.random.uniform(5, 15, rtre.nnodes)\n",
    "rtre.draw(\n",
    "    node_labels=False,\n",
    "    node_sizes=sizes,\n",
    ");"
   ]
  },
  {
   "cell_type": "markdown",
   "metadata": {},
   "source": [
    "#### node_colors"
   ]
  },
  {
   "cell_type": "code",
   "execution_count": null,
   "metadata": {},
   "outputs": [
    {
     "data": {
      "text/html": [
       "<div class=\"toyplot\" id=\"t3f9deb5c1835474d908fb0e5adf066c8\" style=\"text-align:center\"><svg class=\"toyplot-canvas-Canvas\" height=\"275.0px\" id=\"tebc412765f4f4220a6f177ef46eb3e91\" preserveAspectRatio=\"xMidYMid meet\" style=\"background-color:transparent;border-color:#292724;border-style:none;border-width:1.0;fill:rgb(16.1%,15.3%,14.1%);fill-opacity:1.0;font-family:Helvetica;font-size:12px;opacity:1.0;stroke:rgb(16.1%,15.3%,14.1%);stroke-opacity:1.0;stroke-width:1.0\" viewBox=\"0 0 360.0 275.0\" width=\"360.0px\" xmlns=\"http://www.w3.org/2000/svg\" xmlns:toyplot=\"http://www.sandia.gov/toyplot\" xmlns:xlink=\"http://www.w3.org/1999/xlink\"><g class=\"toyplot-coordinates-Cartesian\" id=\"t8e3cab43bbd544f4881b68236515979c\"><clipPath id=\"tfd7729bc0d574f05a45426e65baf3cd5\"><rect height=\"215.0\" width=\"300.0\" x=\"30.0\" y=\"30.0\"></rect></clipPath><g clip-path=\"url(#tfd7729bc0d574f05a45426e65baf3cd5)\"><g class=\"toytree-mark-Toytree\" id=\"te00d122b36494a05b51dc8690869b043\"><g class=\"toytree-Edges\" style=\"fill:none;stroke:rgb(14.9%,14.9%,14.9%);stroke-linecap:round;stroke-opacity:1;stroke-width:2\"><path d=\"M 55.5 98.2 L 55.5 67.4 L 132.7 67.4\" id=\"24,23\"></path><path d=\"M 55.5 98.2 L 55.5 128.9 L 132.7 128.9\" id=\"24,22\"></path><path d=\"M 132.7 128.9 L 132.7 105.6 L 145.5 105.6\" id=\"22,21\"></path><path d=\"M 132.7 128.9 L 132.7 152.2 L 155.9 152.2\" id=\"22,20\"></path><path d=\"M 145.5 105.6 L 145.5 92.9 L 155.7 92.9\" id=\"21,19\"></path><path d=\"M 145.5 105.6 L 145.5 118.4 L 186.0 118.4\" id=\"21,18\"></path><path d=\"M 155.9 152.2 L 155.9 167.0 L 160.3 167.0\" id=\"20,17\"></path><path d=\"M 160.3 167.0 L 160.3 183.7 L 163.7 183.7\" id=\"17,16\"></path><path d=\"M 163.7 183.7 L 163.7 169.4 L 173.3 169.4\" id=\"16,15\"></path><path d=\"M 163.7 183.7 L 163.7 198.1 L 166.9 198.1\" id=\"16,14\"></path><path d=\"M 166.9 198.1 L 166.9 207.6 L 193.5 207.6\" id=\"14,13\"></path><path d=\"M 132.7 67.4 L 132.7 61.0 L 143.8 61.0\" id=\"23,12\"></path><path d=\"M 132.7 67.4 L 132.7 73.8 L 143.3 73.8\" id=\"23,11\"></path><path d=\"M 155.7 92.9 L 155.7 86.5 L 183.0 86.5\" id=\"19,10\"></path><path d=\"M 155.7 92.9 L 155.7 99.3 L 184.6 99.3\" id=\"19,9\"></path><path d=\"M 186.0 118.4 L 186.0 112.0 L 186.4 112.0\" id=\"18,8\"></path><path d=\"M 186.0 118.4 L 186.0 124.8 L 186.2 124.8\" id=\"18,7\"></path><path d=\"M 155.9 152.2 L 155.9 137.5 L 180.2 137.5\" id=\"20,6\"></path><path d=\"M 160.3 167.0 L 160.3 150.2 L 188.4 150.2\" id=\"17,5\"></path><path d=\"M 173.3 169.4 L 173.3 163.0 L 187.7 163.0\" id=\"15,4\"></path><path d=\"M 173.3 169.4 L 173.3 175.7 L 187.9 175.7\" id=\"15,3\"></path><path d=\"M 166.9 198.1 L 166.9 188.5 L 191.9 188.5\" id=\"14,2\"></path><path d=\"M 193.5 207.6 L 193.5 201.2 L 197.6 201.2\" id=\"13,1\"></path><path d=\"M 193.5 207.6 L 193.5 214.0 L 198.2 214.0\" id=\"13,0\"></path></g><g class=\"toytree-Nodes\" style=\"fill:rgb(98.8%,55.3%,38.4%);fill-opacity:1.0;stroke:None;stroke-width:1\"><g id=\"node-0\" transform=\"translate(198.154,213.986)\"><circle r=\"5.0\"></circle></g><g id=\"node-1\" transform=\"translate(197.594,201.238)\"><circle r=\"5.0\"></circle></g><g id=\"node-2\" transform=\"translate(191.860,188.491)\"><circle r=\"5.0\"></circle></g><g id=\"node-3\" transform=\"translate(187.924,175.743)\"><circle r=\"5.0\"></circle></g><g id=\"node-4\" transform=\"translate(187.728,162.995)\"><circle r=\"5.0\"></circle></g><g id=\"node-5\" transform=\"translate(188.437,150.248)\"><circle r=\"5.0\"></circle></g><g id=\"node-6\" transform=\"translate(180.206,137.500)\"><circle r=\"5.0\"></circle></g><g id=\"node-7\" transform=\"translate(186.225,124.752)\"><circle r=\"5.0\"></circle></g><g id=\"node-8\" transform=\"translate(186.381,112.005)\"><circle r=\"5.0\"></circle></g><g id=\"node-9\" transform=\"translate(184.574,99.257)\"><circle r=\"5.0\"></circle></g><g id=\"node-10\" transform=\"translate(183.037,86.509)\"><circle r=\"5.0\"></circle></g><g id=\"node-11\" transform=\"translate(143.324,73.762)\"><circle r=\"5.0\"></circle></g><g id=\"node-12\" transform=\"translate(143.849,61.014)\"><circle r=\"5.0\"></circle></g><g id=\"node-13\" transform=\"translate(193.453,207.612)\"><circle r=\"5.0\"></circle></g><g id=\"node-14\" transform=\"translate(166.875,198.051)\"><circle r=\"5.0\"></circle></g><g id=\"node-15\" transform=\"translate(173.293,169.369)\"><circle r=\"5.0\"></circle></g><g id=\"node-16\" transform=\"translate(163.695,183.710)\"><circle r=\"5.0\"></circle></g><g id=\"node-17\" transform=\"translate(160.323,166.979)\"><circle r=\"5.0\"></circle></g><g id=\"node-18\" transform=\"translate(185.998,118.378)\"><circle r=\"5.0\"></circle></g><g id=\"node-19\" transform=\"translate(155.740,92.883)\"><circle r=\"5.0\"></circle></g><g id=\"node-20\" transform=\"translate(155.874,152.239)\"><circle r=\"5.0\"></circle></g><g id=\"node-21\" transform=\"translate(145.497,105.631)\"><circle r=\"5.0\"></circle></g><g id=\"node-22\" transform=\"translate(132.687,128.935)\"><circle r=\"5.0\"></circle></g><g id=\"node-23\" transform=\"translate(132.687,67.388)\"><circle r=\"5.0\"></circle></g><g id=\"node-24\" transform=\"translate(55.487,98.161)\"><circle r=\"5.0\"></circle></g></g><g class=\"toytree-TipLabels\" style=\"fill:rgb(14.9%,14.9%,14.9%);fill-opacity:1.0;font-family:helvetica;font-size:11px;font-weight:normal;stroke:none;white-space:pre\"><g transform=\"translate(198.15,213.99)rotate(0)\"><text style=\"\" x=\"15.00\" y=\"2.81\">38362_rex</text></g><g transform=\"translate(197.59,201.24)rotate(0)\"><text style=\"\" x=\"15.00\" y=\"2.81\">39618_rex</text></g><g transform=\"translate(191.86,188.49)rotate(0)\"><text style=\"\" x=\"15.00\" y=\"2.81\">35236_rex</text></g><g transform=\"translate(187.92,175.74)rotate(0)\"><text style=\"\" x=\"15.00\" y=\"2.81\">35855_rex</text></g><g transform=\"translate(187.73,163.00)rotate(0)\"><text style=\"\" x=\"15.00\" y=\"2.81\">40578_rex</text></g><g transform=\"translate(188.44,150.25)rotate(0)\"><text style=\"\" x=\"15.00\" y=\"2.81\">30556_thamno</text></g><g transform=\"translate(180.21,137.50)rotate(0)\"><text style=\"\" x=\"15.00\" y=\"2.81\">33413_thamno</text></g><g transform=\"translate(186.23,124.75)rotate(0)\"><text style=\"\" x=\"15.00\" y=\"2.81\">41478_cyathophylloides</text></g><g transform=\"translate(186.38,112.00)rotate(0)\"><text style=\"\" x=\"15.00\" y=\"2.81\">41954_cyathophylloides</text></g><g transform=\"translate(184.57,99.26)rotate(0)\"><text style=\"\" x=\"15.00\" y=\"2.81\">30686_cyathophylla</text></g><g transform=\"translate(183.04,86.51)rotate(0)\"><text style=\"\" x=\"15.00\" y=\"2.81\">29154_superba</text></g><g transform=\"translate(143.32,73.76)rotate(0)\"><text style=\"\" x=\"15.00\" y=\"2.81\">33588_przewalskii</text></g><g transform=\"translate(143.85,61.01)rotate(0)\"><text style=\"\" x=\"15.00\" y=\"2.81\">32082_przewalskii</text></g></g></g></g></g></svg><div class=\"toyplot-behavior\"><script>(function()\n",
       "{\n",
       "var modules={};\n",
       "})();</script></div></div>"
      ]
     },
     "metadata": {},
     "output_type": "display_data"
    }
   ],
   "source": [
    "# set a single color for all nodes\n",
    "rtre.draw(\n",
    "    node_labels=False,\n",
    "    node_sizes=10, \n",
    "    node_colors=toytree.colors[1],\n",
    ");"
   ]
  },
  {
   "cell_type": "code",
   "execution_count": null,
   "metadata": {},
   "outputs": [
    {
     "data": {
      "text/plain": [
       "array(['100', '100', '100', '100', '100', '100', '100', '100', '99',\n",
       "       '100', '96', '100', '', '', '', '', '', '', '', '', '', '', '', '',\n",
       "       ''], dtype='<U21')"
      ]
     },
     "metadata": {},
     "output_type": "display_data"
    }
   ],
   "source": [
    "rtre.get_node_values(\"support\", 1, 0)"
   ]
  },
  {
   "cell_type": "code",
   "execution_count": null,
   "metadata": {},
   "outputs": [
    {
     "data": {
      "text/html": [
       "<div class=\"toyplot\" id=\"tab0cac9404894e928db65294af78a887\" style=\"text-align:center\"><svg class=\"toyplot-canvas-Canvas\" height=\"275.0px\" id=\"tb5903f162a6243bfa0544c0eae427ea7\" preserveAspectRatio=\"xMidYMid meet\" style=\"background-color:transparent;border-color:#292724;border-style:none;border-width:1.0;fill:rgb(16.1%,15.3%,14.1%);fill-opacity:1.0;font-family:Helvetica;font-size:12px;opacity:1.0;stroke:rgb(16.1%,15.3%,14.1%);stroke-opacity:1.0;stroke-width:1.0\" viewBox=\"0 0 360.0 275.0\" width=\"360.0px\" xmlns=\"http://www.w3.org/2000/svg\" xmlns:toyplot=\"http://www.sandia.gov/toyplot\" xmlns:xlink=\"http://www.w3.org/1999/xlink\"><g class=\"toyplot-coordinates-Cartesian\" id=\"t5a2ec7803e4246c2b6eaf1aaec406877\"><clipPath id=\"t600027a5293e4f68bdd87503f292bc12\"><rect height=\"215.0\" width=\"300.0\" x=\"30.0\" y=\"30.0\"></rect></clipPath><g clip-path=\"url(#t600027a5293e4f68bdd87503f292bc12)\"><g class=\"toytree-mark-Toytree\" id=\"t38c9c07da4304b7d9ad44b8438bcd0e5\"><g class=\"toytree-Edges\" style=\"fill:none;stroke:rgb(14.9%,14.9%,14.9%);stroke-linecap:round;stroke-opacity:1;stroke-width:2\"><path d=\"M 55.5 98.2 L 55.5 67.4 L 132.7 67.4\" id=\"24,23\"></path><path d=\"M 55.5 98.2 L 55.5 128.9 L 132.7 128.9\" id=\"24,22\"></path><path d=\"M 132.7 128.9 L 132.7 105.6 L 145.5 105.6\" id=\"22,21\"></path><path d=\"M 132.7 128.9 L 132.7 152.2 L 155.9 152.2\" id=\"22,20\"></path><path d=\"M 145.5 105.6 L 145.5 92.9 L 155.7 92.9\" id=\"21,19\"></path><path d=\"M 145.5 105.6 L 145.5 118.4 L 186.0 118.4\" id=\"21,18\"></path><path d=\"M 155.9 152.2 L 155.9 167.0 L 160.3 167.0\" id=\"20,17\"></path><path d=\"M 160.3 167.0 L 160.3 183.7 L 163.7 183.7\" id=\"17,16\"></path><path d=\"M 163.7 183.7 L 163.7 169.4 L 173.3 169.4\" id=\"16,15\"></path><path d=\"M 163.7 183.7 L 163.7 198.1 L 166.9 198.1\" id=\"16,14\"></path><path d=\"M 166.9 198.1 L 166.9 207.6 L 193.5 207.6\" id=\"14,13\"></path><path d=\"M 132.7 67.4 L 132.7 61.0 L 143.8 61.0\" id=\"23,12\"></path><path d=\"M 132.7 67.4 L 132.7 73.8 L 143.3 73.8\" id=\"23,11\"></path><path d=\"M 155.7 92.9 L 155.7 86.5 L 183.0 86.5\" id=\"19,10\"></path><path d=\"M 155.7 92.9 L 155.7 99.3 L 184.6 99.3\" id=\"19,9\"></path><path d=\"M 186.0 118.4 L 186.0 112.0 L 186.4 112.0\" id=\"18,8\"></path><path d=\"M 186.0 118.4 L 186.0 124.8 L 186.2 124.8\" id=\"18,7\"></path><path d=\"M 155.9 152.2 L 155.9 137.5 L 180.2 137.5\" id=\"20,6\"></path><path d=\"M 160.3 167.0 L 160.3 150.2 L 188.4 150.2\" id=\"17,5\"></path><path d=\"M 173.3 169.4 L 173.3 163.0 L 187.7 163.0\" id=\"15,4\"></path><path d=\"M 173.3 169.4 L 173.3 175.7 L 187.9 175.7\" id=\"15,3\"></path><path d=\"M 166.9 198.1 L 166.9 188.5 L 191.9 188.5\" id=\"14,2\"></path><path d=\"M 193.5 207.6 L 193.5 201.2 L 197.6 201.2\" id=\"13,1\"></path><path d=\"M 193.5 207.6 L 193.5 214.0 L 198.2 214.0\" id=\"13,0\"></path></g><g class=\"toytree-Nodes\" style=\"fill:rgb(40%,76.1%,64.7%);fill-opacity:1.0;stroke:None;stroke-width:1\"><g fill=\"rgb(100%,0%,0%)\" fill-opacity=\"1.0\" id=\"node-0\" transform=\"translate(198.154,213.986)\"><circle r=\"0.0\"></circle></g><g fill=\"rgb(100%,0%,0%)\" fill-opacity=\"1.0\" id=\"node-1\" transform=\"translate(197.594,201.238)\"><circle r=\"0.0\"></circle></g><g fill=\"rgb(100%,0%,0%)\" fill-opacity=\"1.0\" id=\"node-2\" transform=\"translate(191.860,188.491)\"><circle r=\"0.0\"></circle></g><g fill=\"rgb(100%,0%,0%)\" fill-opacity=\"1.0\" id=\"node-3\" transform=\"translate(187.924,175.743)\"><circle r=\"0.0\"></circle></g><g fill=\"rgb(100%,0%,0%)\" fill-opacity=\"1.0\" id=\"node-4\" transform=\"translate(187.728,162.995)\"><circle r=\"0.0\"></circle></g><g fill=\"rgb(100%,0%,0%)\" fill-opacity=\"1.0\" id=\"node-5\" transform=\"translate(188.437,150.248)\"><circle r=\"0.0\"></circle></g><g fill=\"rgb(100%,0%,0%)\" fill-opacity=\"1.0\" id=\"node-6\" transform=\"translate(180.206,137.500)\"><circle r=\"0.0\"></circle></g><g fill=\"rgb(100%,0%,0%)\" fill-opacity=\"1.0\" id=\"node-7\" transform=\"translate(186.225,124.752)\"><circle r=\"0.0\"></circle></g><g fill=\"rgb(100%,0%,0%)\" fill-opacity=\"1.0\" id=\"node-8\" transform=\"translate(186.381,112.005)\"><circle r=\"0.0\"></circle></g><g fill=\"rgb(100%,0%,0%)\" fill-opacity=\"1.0\" id=\"node-9\" transform=\"translate(184.574,99.257)\"><circle r=\"0.0\"></circle></g><g fill=\"rgb(100%,0%,0%)\" fill-opacity=\"1.0\" id=\"node-10\" transform=\"translate(183.037,86.509)\"><circle r=\"0.0\"></circle></g><g fill=\"rgb(100%,0%,0%)\" fill-opacity=\"1.0\" id=\"node-11\" transform=\"translate(143.324,73.762)\"><circle r=\"0.0\"></circle></g><g fill=\"rgb(100%,0%,0%)\" fill-opacity=\"1.0\" id=\"node-12\" transform=\"translate(143.849,61.014)\"><circle r=\"0.0\"></circle></g><g fill=\"rgb(0%,0%,0%)\" fill-opacity=\"1.0\" id=\"node-13\" transform=\"translate(193.453,207.612)\"><circle r=\"5.0\"></circle></g><g fill=\"rgb(100%,0%,0%)\" fill-opacity=\"1.0\" id=\"node-14\" transform=\"translate(166.875,198.051)\"><circle r=\"5.0\"></circle></g><g fill=\"rgb(0%,0%,0%)\" fill-opacity=\"1.0\" id=\"node-15\" transform=\"translate(173.293,169.369)\"><circle r=\"5.0\"></circle></g><g fill=\"rgb(100%,0%,0%)\" fill-opacity=\"1.0\" id=\"node-16\" transform=\"translate(163.695,183.710)\"><circle r=\"5.0\"></circle></g><g fill=\"rgb(0%,0%,0%)\" fill-opacity=\"1.0\" id=\"node-17\" transform=\"translate(160.323,166.979)\"><circle r=\"5.0\"></circle></g><g fill=\"rgb(0%,0%,0%)\" fill-opacity=\"1.0\" id=\"node-18\" transform=\"translate(185.998,118.378)\"><circle r=\"5.0\"></circle></g><g fill=\"rgb(0%,0%,0%)\" fill-opacity=\"1.0\" id=\"node-19\" transform=\"translate(155.740,92.883)\"><circle r=\"5.0\"></circle></g><g fill=\"rgb(0%,0%,0%)\" fill-opacity=\"1.0\" id=\"node-20\" transform=\"translate(155.874,152.239)\"><circle r=\"5.0\"></circle></g><g fill=\"rgb(0%,0%,0%)\" fill-opacity=\"1.0\" id=\"node-21\" transform=\"translate(145.497,105.631)\"><circle r=\"5.0\"></circle></g><g fill=\"rgb(0%,0%,0%)\" fill-opacity=\"1.0\" id=\"node-22\" transform=\"translate(132.687,128.935)\"><circle r=\"5.0\"></circle></g><g fill=\"rgb(0%,0%,0%)\" fill-opacity=\"1.0\" id=\"node-23\" transform=\"translate(132.687,67.388)\"><circle r=\"5.0\"></circle></g><g fill=\"rgb(0%,0%,0%)\" fill-opacity=\"1.0\" id=\"node-24\" transform=\"translate(55.487,98.161)\"><circle r=\"5.0\"></circle></g></g><g class=\"toytree-TipLabels\" style=\"fill:rgb(14.9%,14.9%,14.9%);fill-opacity:1.0;font-family:helvetica;font-size:11px;font-weight:normal;stroke:none;white-space:pre\"><g transform=\"translate(198.15,213.99)rotate(0)\"><text style=\"\" x=\"15.00\" y=\"2.81\">38362_rex</text></g><g transform=\"translate(197.59,201.24)rotate(0)\"><text style=\"\" x=\"15.00\" y=\"2.81\">39618_rex</text></g><g transform=\"translate(191.86,188.49)rotate(0)\"><text style=\"\" x=\"15.00\" y=\"2.81\">35236_rex</text></g><g transform=\"translate(187.92,175.74)rotate(0)\"><text style=\"\" x=\"15.00\" y=\"2.81\">35855_rex</text></g><g transform=\"translate(187.73,163.00)rotate(0)\"><text style=\"\" x=\"15.00\" y=\"2.81\">40578_rex</text></g><g transform=\"translate(188.44,150.25)rotate(0)\"><text style=\"\" x=\"15.00\" y=\"2.81\">30556_thamno</text></g><g transform=\"translate(180.21,137.50)rotate(0)\"><text style=\"\" x=\"15.00\" y=\"2.81\">33413_thamno</text></g><g transform=\"translate(186.23,124.75)rotate(0)\"><text style=\"\" x=\"15.00\" y=\"2.81\">41478_cyathophylloides</text></g><g transform=\"translate(186.38,112.00)rotate(0)\"><text style=\"\" x=\"15.00\" y=\"2.81\">41954_cyathophylloides</text></g><g transform=\"translate(184.57,99.26)rotate(0)\"><text style=\"\" x=\"15.00\" y=\"2.81\">30686_cyathophylla</text></g><g transform=\"translate(183.04,86.51)rotate(0)\"><text style=\"\" x=\"15.00\" y=\"2.81\">29154_superba</text></g><g transform=\"translate(143.32,73.76)rotate(0)\"><text style=\"\" x=\"15.00\" y=\"2.81\">33588_przewalskii</text></g><g transform=\"translate(143.85,61.01)rotate(0)\"><text style=\"\" x=\"15.00\" y=\"2.81\">32082_przewalskii</text></g></g></g></g></g></svg><div class=\"toyplot-behavior\"><script>(function()\n",
       "{\n",
       "var modules={};\n",
       "})();</script></div></div>"
      ]
     },
     "metadata": {},
     "output_type": "display_data"
    }
   ],
   "source": [
    "# get list of sizes and colors in node plot order with tip nodes suppressed\n",
    "sizes = [10 if i else 0 for i in rtre.get_node_values('support', 1, 0)]\n",
    "colors = ['black' if i=='100' else 'red' for i in rtre.get_node_values('support', 1, 0)]\n",
    "\n",
    "# enter a lists of values\n",
    "rtre.draw(\n",
    "    node_labels=None,\n",
    "    node_sizes=sizes, \n",
    "    node_colors=colors,\n",
    ");"
   ]
  },
  {
   "cell_type": "markdown",
   "metadata": {},
   "source": [
    "#### node_markers\n",
    "\n",
    "\n",
    "See [toyplot markers](https://toyplot.readthedocs.io/en/stable/markers.html) for available options. "
   ]
  },
  {
   "cell_type": "code",
   "execution_count": null,
   "metadata": {},
   "outputs": [
    {
     "data": {
      "text/html": [
       "<div class=\"toyplot\" id=\"tea55627d71b44acbbfc0bf748ce07251\" style=\"text-align:center\"><svg class=\"toyplot-canvas-Canvas\" height=\"275.0px\" id=\"t13d60e47f3bc459880cd4caa4b8dc191\" preserveAspectRatio=\"xMidYMid meet\" style=\"background-color:transparent;border-color:#292724;border-style:none;border-width:1.0;fill:rgb(16.1%,15.3%,14.1%);fill-opacity:1.0;font-family:Helvetica;font-size:12px;opacity:1.0;stroke:rgb(16.1%,15.3%,14.1%);stroke-opacity:1.0;stroke-width:1.0\" viewBox=\"0 0 360.0 275.0\" width=\"360.0px\" xmlns=\"http://www.w3.org/2000/svg\" xmlns:toyplot=\"http://www.sandia.gov/toyplot\" xmlns:xlink=\"http://www.w3.org/1999/xlink\"><g class=\"toyplot-coordinates-Cartesian\" id=\"t3b4eadbeee1542afbdb7db89d2e41296\"><clipPath id=\"t0ede0d31ff0d4be385ba6e31d73bfd4d\"><rect height=\"215.0\" width=\"300.0\" x=\"30.0\" y=\"30.0\"></rect></clipPath><g clip-path=\"url(#t0ede0d31ff0d4be385ba6e31d73bfd4d)\"><g class=\"toytree-mark-Toytree\" id=\"t3728ac7477aa4415a303f05b26f1af7a\"><g class=\"toytree-Edges\" style=\"fill:none;stroke:rgb(14.9%,14.9%,14.9%);stroke-linecap:round;stroke-opacity:1;stroke-width:2\"><path d=\"M 50.0 98.2 L 50.0 67.4 L 128.9 67.4\" id=\"24,23\"></path><path d=\"M 50.0 98.2 L 50.0 128.9 L 128.9 128.9\" id=\"24,22\"></path><path d=\"M 128.9 128.9 L 128.9 105.6 L 142.0 105.6\" id=\"22,21\"></path><path d=\"M 128.9 128.9 L 128.9 152.2 L 152.6 152.2\" id=\"22,20\"></path><path d=\"M 142.0 105.6 L 142.0 92.9 L 152.4 92.9\" id=\"21,19\"></path><path d=\"M 142.0 105.6 L 142.0 118.4 L 183.3 118.4\" id=\"21,18\"></path><path d=\"M 152.6 152.2 L 152.6 167.0 L 157.1 167.0\" id=\"20,17\"></path><path d=\"M 157.1 167.0 L 157.1 183.7 L 160.5 183.7\" id=\"17,16\"></path><path d=\"M 160.5 183.7 L 160.5 169.4 L 170.3 169.4\" id=\"16,15\"></path><path d=\"M 160.5 183.7 L 160.5 198.1 L 163.8 198.1\" id=\"16,14\"></path><path d=\"M 163.8 198.1 L 163.8 207.6 L 190.9 207.6\" id=\"14,13\"></path><path d=\"M 128.9 67.4 L 128.9 61.0 L 140.3 61.0\" id=\"23,12\"></path><path d=\"M 128.9 67.4 L 128.9 73.8 L 139.7 73.8\" id=\"23,11\"></path><path d=\"M 152.4 92.9 L 152.4 86.5 L 180.3 86.5\" id=\"19,10\"></path><path d=\"M 152.4 92.9 L 152.4 99.3 L 181.9 99.3\" id=\"19,9\"></path><path d=\"M 183.3 118.4 L 183.3 112.0 L 183.7 112.0\" id=\"18,8\"></path><path d=\"M 183.3 118.4 L 183.3 124.8 L 183.6 124.8\" id=\"18,7\"></path><path d=\"M 152.6 152.2 L 152.6 137.5 L 177.4 137.5\" id=\"20,6\"></path><path d=\"M 157.1 167.0 L 157.1 150.2 L 185.8 150.2\" id=\"17,5\"></path><path d=\"M 170.3 169.4 L 170.3 163.0 L 185.1 163.0\" id=\"15,4\"></path><path d=\"M 170.3 169.4 L 170.3 175.7 L 185.3 175.7\" id=\"15,3\"></path><path d=\"M 163.8 198.1 L 163.8 188.5 L 189.3 188.5\" id=\"14,2\"></path><path d=\"M 190.9 207.6 L 190.9 201.2 L 195.2 201.2\" id=\"13,1\"></path><path d=\"M 190.9 207.6 L 190.9 214.0 L 195.7 214.0\" id=\"13,0\"></path></g><g class=\"toytree-NodeLabels\" style=\"fill:rgb(14.9%,14.9%,14.9%);fill-opacity:1.0;font-size:9px;stroke:none\"><g transform=\"translate(183.43,209.91)\"><text>100</text></g><g transform=\"translate(158.79,200.35)\"><text>96</text></g><g transform=\"translate(162.84,171.67)\"><text>100</text></g><g transform=\"translate(155.54,186.01)\"><text>99</text></g><g transform=\"translate(149.59,169.28)\"><text>100</text></g><g transform=\"translate(175.82,120.68)\"><text>100</text></g><g transform=\"translate(144.91,95.18)\"><text>100</text></g><g transform=\"translate(145.04,154.54)\"><text>100</text></g><g transform=\"translate(134.44,107.93)\"><text>100</text></g><g transform=\"translate(121.36,131.23)\"><text>100</text></g><g transform=\"translate(121.36,69.69)\"><text>100</text></g></g><g class=\"toytree-TipLabels\" style=\"fill:rgb(14.9%,14.9%,14.9%);fill-opacity:1.0;font-family:helvetica;font-size:11px;font-weight:normal;stroke:none;white-space:pre\"><g transform=\"translate(195.74,213.99)rotate(0)\"><text style=\"\" x=\"15.00\" y=\"2.81\">38362_rex</text></g><g transform=\"translate(195.17,201.24)rotate(0)\"><text style=\"\" x=\"15.00\" y=\"2.81\">39618_rex</text></g><g transform=\"translate(189.31,188.49)rotate(0)\"><text style=\"\" x=\"15.00\" y=\"2.81\">35236_rex</text></g><g transform=\"translate(185.29,175.74)rotate(0)\"><text style=\"\" x=\"15.00\" y=\"2.81\">35855_rex</text></g><g transform=\"translate(185.09,163.00)rotate(0)\"><text style=\"\" x=\"15.00\" y=\"2.81\">40578_rex</text></g><g transform=\"translate(185.82,150.25)rotate(0)\"><text style=\"\" x=\"15.00\" y=\"2.81\">30556_thamno</text></g><g transform=\"translate(177.41,137.50)rotate(0)\"><text style=\"\" x=\"15.00\" y=\"2.81\">33413_thamno</text></g><g transform=\"translate(183.56,124.75)rotate(0)\"><text style=\"\" x=\"15.00\" y=\"2.81\">41478_cyathophylloides</text></g><g transform=\"translate(183.72,112.00)rotate(0)\"><text style=\"\" x=\"15.00\" y=\"2.81\">41954_cyathophylloides</text></g><g transform=\"translate(181.87,99.26)rotate(0)\"><text style=\"\" x=\"15.00\" y=\"2.81\">30686_cyathophylla</text></g><g transform=\"translate(180.30,86.51)rotate(0)\"><text style=\"\" x=\"15.00\" y=\"2.81\">29154_superba</text></g><g transform=\"translate(139.73,73.76)rotate(0)\"><text style=\"\" x=\"15.00\" y=\"2.81\">33588_przewalskii</text></g><g transform=\"translate(140.27,61.01)rotate(0)\"><text style=\"\" x=\"15.00\" y=\"2.81\">32082_przewalskii</text></g></g></g></g></g></svg><div class=\"toyplot-behavior\"><script>(function()\n",
       "{\n",
       "var modules={};\n",
       "})();</script></div></div>"
      ]
     },
     "metadata": {},
     "output_type": "display_data"
    }
   ],
   "source": [
    "# enter a lists of values\n",
    "rtre.draw(\n",
    "    node_labels=\"support\",\n",
    "    node_markers=\"o\"\n",
    ");"
   ]
  },
  {
   "cell_type": "code",
   "execution_count": null,
   "metadata": {},
   "outputs": [
    {
     "data": {
      "text/html": [
       "<div class=\"toyplot\" id=\"t7b3bbc4098404afc839ce801bd5edc36\" style=\"text-align:center\"><svg class=\"toyplot-canvas-Canvas\" height=\"350.0px\" id=\"tf06418ce727c4d268f2d8e23715e171e\" preserveAspectRatio=\"xMidYMid meet\" style=\"background-color:transparent;border-color:#292724;border-style:none;border-width:1.0;fill:rgb(16.1%,15.3%,14.1%);fill-opacity:1.0;font-family:Helvetica;font-size:12px;opacity:1.0;stroke:rgb(16.1%,15.3%,14.1%);stroke-opacity:1.0;stroke-width:1.0\" viewBox=\"0 0 360.0 350.0\" width=\"360.0px\" xmlns=\"http://www.w3.org/2000/svg\" xmlns:toyplot=\"http://www.sandia.gov/toyplot\" xmlns:xlink=\"http://www.w3.org/1999/xlink\"><g class=\"toyplot-coordinates-Cartesian\" id=\"ta052e6d571744261b58b0f28468d6695\"><clipPath id=\"t3e7e618d815641029ff35ba4da46e29d\"><rect height=\"290.0\" width=\"300.0\" x=\"30.0\" y=\"30.0\"></rect></clipPath><g clip-path=\"url(#t3e7e618d815641029ff35ba4da46e29d)\"><g class=\"toytree-mark-Toytree\" id=\"te4cc6af81d9d4b0e98cc762236c4e1fb\"><g class=\"toytree-Edges\" style=\"fill:none;stroke:rgb(14.9%,14.9%,14.9%);stroke-linecap:round;stroke-opacity:1;stroke-width:2\"><path d=\"M 50.0 116.6 L 50.0 70.9 L 128.9 70.9\" id=\"24,23\"></path><path d=\"M 50.0 116.6 L 50.0 162.3 L 128.9 162.3\" id=\"24,22\"></path><path d=\"M 128.9 162.3 L 128.9 127.7 L 142.0 127.7\" id=\"22,21\"></path><path d=\"M 128.9 162.3 L 128.9 196.9 L 152.6 196.9\" id=\"22,20\"></path><path d=\"M 142.0 127.7 L 142.0 108.8 L 152.4 108.8\" id=\"21,19\"></path><path d=\"M 142.0 127.7 L 142.0 146.6 L 183.3 146.6\" id=\"21,18\"></path><path d=\"M 152.6 196.9 L 152.6 218.8 L 157.1 218.8\" id=\"20,17\"></path><path d=\"M 157.1 218.8 L 157.1 243.6 L 160.5 243.6\" id=\"17,16\"></path><path d=\"M 160.5 243.6 L 160.5 222.3 L 170.3 222.3\" id=\"16,15\"></path><path d=\"M 160.5 243.6 L 160.5 264.9 L 163.8 264.9\" id=\"16,14\"></path><path d=\"M 163.8 264.9 L 163.8 279.1 L 190.9 279.1\" id=\"14,13\"></path><path d=\"M 128.9 70.9 L 128.9 61.4 L 140.3 61.4\" id=\"23,12\"></path><path d=\"M 128.9 70.9 L 128.9 80.4 L 139.7 80.4\" id=\"23,11\"></path><path d=\"M 152.4 108.8 L 152.4 99.3 L 180.3 99.3\" id=\"19,10\"></path><path d=\"M 152.4 108.8 L 152.4 118.2 L 181.9 118.2\" id=\"19,9\"></path><path d=\"M 183.3 146.6 L 183.3 137.1 L 183.7 137.1\" id=\"18,8\"></path><path d=\"M 183.3 146.6 L 183.3 156.1 L 183.6 156.1\" id=\"18,7\"></path><path d=\"M 152.6 196.9 L 152.6 175.0 L 177.4 175.0\" id=\"20,6\"></path><path d=\"M 157.1 218.8 L 157.1 193.9 L 185.8 193.9\" id=\"17,5\"></path><path d=\"M 170.3 222.3 L 170.3 212.9 L 185.1 212.9\" id=\"15,4\"></path><path d=\"M 170.3 222.3 L 170.3 231.8 L 185.3 231.8\" id=\"15,3\"></path><path d=\"M 163.8 264.9 L 163.8 250.7 L 189.3 250.7\" id=\"14,2\"></path><path d=\"M 190.9 279.1 L 190.9 269.6 L 195.2 269.6\" id=\"13,1\"></path><path d=\"M 190.9 279.1 L 190.9 288.6 L 195.7 288.6\" id=\"13,0\"></path></g><g class=\"toytree-Nodes\" style=\"fill:rgb(98.8%,55.3%,38.4%);fill-opacity:1.0;stroke:None;stroke-width:1\"><g id=\"node-0\" transform=\"translate(195.742,288.554)\"><rect height=\"8\" width=\"8\" x=\"-4.0\" y=\"-4.0\"></rect></g><g id=\"node-1\" transform=\"translate(195.170,269.628)\"><rect height=\"8\" width=\"8\" x=\"-4.0\" y=\"-4.0\"></rect></g><g id=\"node-2\" transform=\"translate(189.313,250.703)\"><rect height=\"8\" width=\"8\" x=\"-4.0\" y=\"-4.0\"></rect></g><g id=\"node-3\" transform=\"translate(185.292,231.777)\"><rect height=\"8\" width=\"8\" x=\"-4.0\" y=\"-4.0\"></rect></g><g id=\"node-4\" transform=\"translate(185.092,212.851)\"><rect height=\"8\" width=\"8\" x=\"-4.0\" y=\"-4.0\"></rect></g><g id=\"node-5\" transform=\"translate(185.816,193.926)\"><rect height=\"8\" width=\"8\" x=\"-4.0\" y=\"-4.0\"></rect></g><g id=\"node-6\" transform=\"translate(177.408,175.000)\"><rect height=\"8\" width=\"8\" x=\"-4.0\" y=\"-4.0\"></rect></g><g id=\"node-7\" transform=\"translate(183.557,156.074)\"><rect height=\"8\" width=\"8\" x=\"-4.0\" y=\"-4.0\"></rect></g><g id=\"node-8\" transform=\"translate(183.715,137.149)\"><rect height=\"8\" width=\"8\" x=\"-4.0\" y=\"-4.0\"></rect></g><g id=\"node-9\" transform=\"translate(181.870,118.223)\"><rect height=\"8\" width=\"8\" x=\"-4.0\" y=\"-4.0\"></rect></g><g id=\"node-10\" transform=\"translate(180.300,99.297)\"><rect height=\"8\" width=\"8\" x=\"-4.0\" y=\"-4.0\"></rect></g><g id=\"node-11\" transform=\"translate(139.730,80.372)\"><rect height=\"8\" width=\"8\" x=\"-4.0\" y=\"-4.0\"></rect></g><g id=\"node-12\" transform=\"translate(140.267,61.446)\"><rect height=\"8\" width=\"8\" x=\"-4.0\" y=\"-4.0\"></rect></g><g id=\"node-13\" transform=\"translate(190.940,279.091)\"><rect height=\"0\" width=\"0\" x=\"0.0\" y=\"0.0\"></rect></g><g id=\"node-14\" transform=\"translate(163.789,264.897)\"><rect height=\"0\" width=\"0\" x=\"0.0\" y=\"0.0\"></rect></g><g id=\"node-15\" transform=\"translate(170.345,222.314)\"><rect height=\"0\" width=\"0\" x=\"0.0\" y=\"0.0\"></rect></g><g id=\"node-16\" transform=\"translate(160.540,243.605)\"><rect height=\"0\" width=\"0\" x=\"0.0\" y=\"0.0\"></rect></g><g id=\"node-17\" transform=\"translate(157.096,218.766)\"><rect height=\"0\" width=\"0\" x=\"0.0\" y=\"0.0\"></rect></g><g id=\"node-18\" transform=\"translate(183.325,146.612)\"><rect height=\"0\" width=\"0\" x=\"0.0\" y=\"0.0\"></rect></g><g id=\"node-19\" transform=\"translate(152.414,108.760)\"><rect height=\"0\" width=\"0\" x=\"0.0\" y=\"0.0\"></rect></g><g id=\"node-20\" transform=\"translate(152.551,196.883)\"><rect height=\"0\" width=\"0\" x=\"0.0\" y=\"0.0\"></rect></g><g id=\"node-21\" transform=\"translate(141.950,127.686)\"><rect height=\"0\" width=\"0\" x=\"0.0\" y=\"0.0\"></rect></g><g id=\"node-22\" transform=\"translate(128.865,162.284)\"><rect height=\"0\" width=\"0\" x=\"0.0\" y=\"0.0\"></rect></g><g id=\"node-23\" transform=\"translate(128.865,70.909)\"><rect height=\"0\" width=\"0\" x=\"0.0\" y=\"0.0\"></rect></g><g id=\"node-24\" transform=\"translate(50.000,116.597)\"><rect height=\"0\" width=\"0\" x=\"0.0\" y=\"0.0\"></rect></g></g><g class=\"toytree-TipLabels\" style=\"fill:rgb(14.9%,14.9%,14.9%);fill-opacity:1.0;font-family:helvetica;font-size:11px;font-weight:normal;stroke:none;white-space:pre\"><g transform=\"translate(195.74,288.55)rotate(0)\"><text style=\"\" x=\"15.00\" y=\"2.81\">38362_rex</text></g><g transform=\"translate(195.17,269.63)rotate(0)\"><text style=\"\" x=\"15.00\" y=\"2.81\">39618_rex</text></g><g transform=\"translate(189.31,250.70)rotate(0)\"><text style=\"\" x=\"15.00\" y=\"2.81\">35236_rex</text></g><g transform=\"translate(185.29,231.78)rotate(0)\"><text style=\"\" x=\"15.00\" y=\"2.81\">35855_rex</text></g><g transform=\"translate(185.09,212.85)rotate(0)\"><text style=\"\" x=\"15.00\" y=\"2.81\">40578_rex</text></g><g transform=\"translate(185.82,193.93)rotate(0)\"><text style=\"\" x=\"15.00\" y=\"2.81\">30556_thamno</text></g><g transform=\"translate(177.41,175.00)rotate(0)\"><text style=\"\" x=\"15.00\" y=\"2.81\">33413_thamno</text></g><g transform=\"translate(183.56,156.07)rotate(0)\"><text style=\"\" x=\"15.00\" y=\"2.81\">41478_cyathophylloides</text></g><g transform=\"translate(183.72,137.15)rotate(0)\"><text style=\"\" x=\"15.00\" y=\"2.81\">41954_cyathophylloides</text></g><g transform=\"translate(181.87,118.22)rotate(0)\"><text style=\"\" x=\"15.00\" y=\"2.81\">30686_cyathophylla</text></g><g transform=\"translate(180.30,99.30)rotate(0)\"><text style=\"\" x=\"15.00\" y=\"2.81\">29154_superba</text></g><g transform=\"translate(139.73,80.37)rotate(0)\"><text style=\"\" x=\"15.00\" y=\"2.81\">33588_przewalskii</text></g><g transform=\"translate(140.27,61.45)rotate(0)\"><text style=\"\" x=\"15.00\" y=\"2.81\">32082_przewalskii</text></g></g></g></g></g></svg><div class=\"toyplot-behavior\"><script>(function()\n",
       "{\n",
       "var modules={};\n",
       "})();</script></div></div>"
      ]
     },
     "metadata": {},
     "output_type": "display_data"
    }
   ],
   "source": [
    "# enter a lists of values\n",
    "rtre.draw(\n",
    "    height=350,\n",
    "    node_labels=None,\n",
    "    node_sizes=[0 if i else 8 for i in rtre.get_node_values(None, 1, 0)],\n",
    "    node_markers=\"s\",\n",
    "    node_colors=toytree.colors[1],\n",
    ");"
   ]
  },
  {
   "cell_type": "markdown",
   "metadata": {},
   "source": [
    "Rectangular markers can be drawn in many dimensions. Designate \"r2x1\" for a box that is twice as wide as it is tall. "
   ]
  },
  {
   "cell_type": "code",
   "execution_count": null,
   "metadata": {},
   "outputs": [
    {
     "data": {
      "text/html": [
       "<div class=\"toyplot\" id=\"td52c70e568194836927ad17225f16655\" style=\"text-align:center\"><svg class=\"toyplot-canvas-Canvas\" height=\"400.0px\" id=\"tde213e5039f046959a53a46a403ab72d\" preserveAspectRatio=\"xMidYMid meet\" style=\"background-color:transparent;border-color:#292724;border-style:none;border-width:1.0;fill:rgb(16.1%,15.3%,14.1%);fill-opacity:1.0;font-family:Helvetica;font-size:12px;opacity:1.0;stroke:rgb(16.1%,15.3%,14.1%);stroke-opacity:1.0;stroke-width:1.0\" viewBox=\"0 0 600.0 400.0\" width=\"600.0px\" xmlns=\"http://www.w3.org/2000/svg\" xmlns:toyplot=\"http://www.sandia.gov/toyplot\" xmlns:xlink=\"http://www.w3.org/1999/xlink\"><g class=\"toyplot-coordinates-Cartesian\" id=\"t6895749297ae4e1ebeaca77f29b9e9dc\"><clipPath id=\"tfe35298bbb7745be9ff847c4c5e1a10e\"><rect height=\"340.0\" width=\"540.0\" x=\"30.0\" y=\"30.0\"></rect></clipPath><g clip-path=\"url(#tfe35298bbb7745be9ff847c4c5e1a10e)\"><g class=\"toytree-mark-Toytree\" id=\"t3a2c3430bdb4490a9ef2ae2559c0f6cf\"><g class=\"toytree-Edges\" style=\"fill:none;stroke:rgb(14.9%,14.9%,14.9%);stroke-linecap:round;stroke-opacity:1;stroke-width:2\"><path d=\"M 50.0 128.8 L 50.0 73.2 L 247.8 73.2\" id=\"24,23\"></path><path d=\"M 50.0 128.8 L 50.0 184.5 L 247.8 184.5\" id=\"24,22\"></path><path d=\"M 247.8 184.5 L 247.8 142.3 L 280.6 142.3\" id=\"22,21\"></path><path d=\"M 247.8 184.5 L 247.8 226.7 L 307.2 226.7\" id=\"22,20\"></path><path d=\"M 280.6 142.3 L 280.6 119.3 L 306.8 119.3\" id=\"21,19\"></path><path d=\"M 280.6 142.3 L 280.6 165.4 L 384.3 165.4\" id=\"21,18\"></path><path d=\"M 307.2 226.7 L 307.2 253.3 L 318.6 253.3\" id=\"20,17\"></path><path d=\"M 318.6 253.3 L 318.6 283.6 L 327.2 283.6\" id=\"17,16\"></path><path d=\"M 327.2 283.6 L 327.2 257.7 L 351.8 257.7\" id=\"16,15\"></path><path d=\"M 327.2 283.6 L 327.2 309.5 L 335.4 309.5\" id=\"16,14\"></path><path d=\"M 335.4 309.5 L 335.4 326.8 L 403.4 326.8\" id=\"14,13\"></path><path d=\"M 247.8 73.2 L 247.8 61.6 L 276.4 61.6\" id=\"23,12\"></path><path d=\"M 247.8 73.2 L 247.8 84.7 L 275.0 84.7\" id=\"23,11\"></path><path d=\"M 306.8 119.3 L 306.8 107.7 L 376.8 107.7\" id=\"19,10\"></path><path d=\"M 306.8 119.3 L 306.8 130.8 L 380.7 130.8\" id=\"19,9\"></path><path d=\"M 384.3 165.4 L 384.3 153.9 L 385.3 153.9\" id=\"18,8\"></path><path d=\"M 384.3 165.4 L 384.3 176.9 L 384.9 176.9\" id=\"18,7\"></path><path d=\"M 307.2 226.7 L 307.2 200.0 L 369.5 200.0\" id=\"20,6\"></path><path d=\"M 318.6 253.3 L 318.6 223.1 L 390.6 223.1\" id=\"17,5\"></path><path d=\"M 351.8 257.7 L 351.8 246.1 L 388.8 246.1\" id=\"15,4\"></path><path d=\"M 351.8 257.7 L 351.8 269.2 L 389.3 269.2\" id=\"15,3\"></path><path d=\"M 335.4 309.5 L 335.4 292.3 L 399.4 292.3\" id=\"14,2\"></path><path d=\"M 403.4 326.8 L 403.4 315.3 L 414.0 315.3\" id=\"13,1\"></path><path d=\"M 403.4 326.8 L 403.4 338.4 L 415.5 338.4\" id=\"13,0\"></path></g><g class=\"toytree-Nodes\" style=\"fill:rgb(40%,76.1%,64.7%);fill-opacity:1.0;stroke:None;stroke-width:1\"><g id=\"node-0\" transform=\"translate(415.482,338.376)\"><rect height=\"0.0\" width=\"0.0\" x=\"0.0\" y=\"0.0\"></rect></g><g id=\"node-1\" transform=\"translate(414.048,315.314)\"><rect height=\"0.0\" width=\"0.0\" x=\"0.0\" y=\"0.0\"></rect></g><g id=\"node-2\" transform=\"translate(399.360,292.251)\"><rect height=\"0.0\" width=\"0.0\" x=\"0.0\" y=\"0.0\"></rect></g><g id=\"node-3\" transform=\"translate(389.277,269.188)\"><rect height=\"0.0\" width=\"0.0\" x=\"0.0\" y=\"0.0\"></rect></g><g id=\"node-4\" transform=\"translate(388.775,246.125)\"><rect height=\"0.0\" width=\"0.0\" x=\"0.0\" y=\"0.0\"></rect></g><g id=\"node-5\" transform=\"translate(390.591,223.063)\"><rect height=\"0.0\" width=\"0.0\" x=\"0.0\" y=\"0.0\"></rect></g><g id=\"node-6\" transform=\"translate(369.505,200.000)\"><rect height=\"0.0\" width=\"0.0\" x=\"0.0\" y=\"0.0\"></rect></g><g id=\"node-7\" transform=\"translate(384.925,176.937)\"><rect height=\"0.0\" width=\"0.0\" x=\"0.0\" y=\"0.0\"></rect></g><g id=\"node-8\" transform=\"translate(385.322,153.875)\"><rect height=\"0.0\" width=\"0.0\" x=\"0.0\" y=\"0.0\"></rect></g><g id=\"node-9\" transform=\"translate(380.695,130.812)\"><rect height=\"0.0\" width=\"0.0\" x=\"0.0\" y=\"0.0\"></rect></g><g id=\"node-10\" transform=\"translate(376.758,107.749)\"><rect height=\"0.0\" width=\"0.0\" x=\"0.0\" y=\"0.0\"></rect></g><g id=\"node-11\" transform=\"translate(275.020,84.686)\"><rect height=\"0.0\" width=\"0.0\" x=\"0.0\" y=\"0.0\"></rect></g><g id=\"node-12\" transform=\"translate(276.364,61.624)\"><rect height=\"0.0\" width=\"0.0\" x=\"0.0\" y=\"0.0\"></rect></g><g id=\"node-13\" transform=\"translate(403.440,326.845)\"><rect height=\"15.0\" width=\"24.0\" x=\"-12.0\" y=\"-7.5\"></rect></g><g id=\"node-14\" transform=\"translate(335.353,309.548)\"><rect height=\"15.0\" width=\"24.0\" x=\"-12.0\" y=\"-7.5\"></rect></g><g id=\"node-15\" transform=\"translate(351.793,257.657)\"><rect height=\"15.0\" width=\"24.0\" x=\"-12.0\" y=\"-7.5\"></rect></g><g id=\"node-16\" transform=\"translate(327.206,283.602)\"><rect height=\"15.0\" width=\"24.0\" x=\"-12.0\" y=\"-7.5\"></rect></g><g id=\"node-17\" transform=\"translate(318.569,253.333)\"><rect height=\"15.0\" width=\"24.0\" x=\"-12.0\" y=\"-7.5\"></rect></g><g id=\"node-18\" transform=\"translate(384.342,165.406)\"><rect height=\"15.0\" width=\"24.0\" x=\"-12.0\" y=\"-7.5\"></rect></g><g id=\"node-19\" transform=\"translate(306.828,119.280)\"><rect height=\"15.0\" width=\"24.0\" x=\"-12.0\" y=\"-7.5\"></rect></g><g id=\"node-20\" transform=\"translate(307.170,226.666)\"><rect height=\"15.0\" width=\"24.0\" x=\"-12.0\" y=\"-7.5\"></rect></g><g id=\"node-21\" transform=\"translate(280.587,142.343)\"><rect height=\"15.0\" width=\"24.0\" x=\"-12.0\" y=\"-7.5\"></rect></g><g id=\"node-22\" transform=\"translate(247.771,184.505)\"><rect height=\"15.0\" width=\"24.0\" x=\"-12.0\" y=\"-7.5\"></rect></g><g id=\"node-23\" transform=\"translate(247.771,73.155)\"><rect height=\"15.0\" width=\"24.0\" x=\"-12.0\" y=\"-7.5\"></rect></g><g id=\"node-24\" transform=\"translate(50.000,128.830)\"><rect height=\"0.0\" width=\"0.0\" x=\"0.0\" y=\"0.0\"></rect></g></g><g class=\"toytree-NodeLabels\" style=\"fill:rgb(14.9%,14.9%,14.9%);fill-opacity:1.0;font-size:11px;stroke:none\"><g transform=\"translate(394.27,329.66)\"><text>100</text></g><g transform=\"translate(329.24,312.36)\"><text>96</text></g><g transform=\"translate(342.62,260.47)\"><text>100</text></g><g transform=\"translate(321.09,286.41)\"><text>99</text></g><g transform=\"translate(309.39,256.14)\"><text>100</text></g><g transform=\"translate(375.17,168.22)\"><text>100</text></g><g transform=\"translate(297.65,122.09)\"><text>100</text></g><g transform=\"translate(298.00,229.48)\"><text>100</text></g><g transform=\"translate(271.41,145.15)\"><text>100</text></g><g transform=\"translate(238.60,187.32)\"><text>100</text></g><g transform=\"translate(238.60,75.97)\"><text>100</text></g></g><g class=\"toytree-TipLabels\" style=\"fill:rgb(14.9%,14.9%,14.9%);fill-opacity:1.0;font-family:helvetica;font-size:11px;font-weight:normal;stroke:none;white-space:pre\"><g transform=\"translate(415.48,338.38)rotate(0)\"><text style=\"\" x=\"15.00\" y=\"2.81\">38362_rex</text></g><g transform=\"translate(414.05,315.31)rotate(0)\"><text style=\"\" x=\"15.00\" y=\"2.81\">39618_rex</text></g><g transform=\"translate(399.36,292.25)rotate(0)\"><text style=\"\" x=\"15.00\" y=\"2.81\">35236_rex</text></g><g transform=\"translate(389.28,269.19)rotate(0)\"><text style=\"\" x=\"15.00\" y=\"2.81\">35855_rex</text></g><g transform=\"translate(388.77,246.13)rotate(0)\"><text style=\"\" x=\"15.00\" y=\"2.81\">40578_rex</text></g><g transform=\"translate(390.59,223.06)rotate(0)\"><text style=\"\" x=\"15.00\" y=\"2.81\">30556_thamno</text></g><g transform=\"translate(369.51,200.00)rotate(0)\"><text style=\"\" x=\"15.00\" y=\"2.81\">33413_thamno</text></g><g transform=\"translate(384.92,176.94)rotate(0)\"><text style=\"\" x=\"15.00\" y=\"2.81\">41478_cyathophylloides</text></g><g transform=\"translate(385.32,153.87)rotate(0)\"><text style=\"\" x=\"15.00\" y=\"2.81\">41954_cyathophylloides</text></g><g transform=\"translate(380.69,130.81)rotate(0)\"><text style=\"\" x=\"15.00\" y=\"2.81\">30686_cyathophylla</text></g><g transform=\"translate(376.76,107.75)rotate(0)\"><text style=\"\" x=\"15.00\" y=\"2.81\">29154_superba</text></g><g transform=\"translate(275.02,84.69)rotate(0)\"><text style=\"\" x=\"15.00\" y=\"2.81\">33588_przewalskii</text></g><g transform=\"translate(276.36,61.62)rotate(0)\"><text style=\"\" x=\"15.00\" y=\"2.81\">32082_przewalskii</text></g></g></g></g></g></svg><div class=\"toyplot-behavior\"><script>(function()\n",
       "{\n",
       "var modules={};\n",
       "})();</script></div></div>"
      ]
     },
     "metadata": {},
     "output_type": "display_data"
    }
   ],
   "source": [
    "# rectangles for nodes\n",
    "rtre.draw(\n",
    "    width=600,\n",
    "    height=400,\n",
    "    node_labels=\"support\",\n",
    "    node_labels_style={\"font-size\": \"11px\"},\n",
    "    node_markers=\"r2x1.25\",\n",
    "    node_sizes=12,\n",
    ");"
   ]
  },
  {
   "cell_type": "markdown",
   "metadata": {},
   "source": [
    "#### node_style"
   ]
  },
  {
   "cell_type": "code",
   "execution_count": null,
   "metadata": {},
   "outputs": [
    {
     "data": {
      "text/html": [
       "<div class=\"toyplot\" id=\"t51085603cbd14c0c9c899bbff6fb5d60\" style=\"text-align:center\"><svg class=\"toyplot-canvas-Canvas\" height=\"400.0px\" id=\"tc0b840adb43e43b592869f22b33a2f64\" preserveAspectRatio=\"xMidYMid meet\" style=\"background-color:transparent;border-color:#292724;border-style:none;border-width:1.0;fill:rgb(16.1%,15.3%,14.1%);fill-opacity:1.0;font-family:Helvetica;font-size:12px;opacity:1.0;stroke:rgb(16.1%,15.3%,14.1%);stroke-opacity:1.0;stroke-width:1.0\" viewBox=\"0 0 600.0 400.0\" width=\"600.0px\" xmlns=\"http://www.w3.org/2000/svg\" xmlns:toyplot=\"http://www.sandia.gov/toyplot\" xmlns:xlink=\"http://www.w3.org/1999/xlink\"><g class=\"toyplot-coordinates-Cartesian\" id=\"tb0ad3f73b56f400aa0b7f20ccdd02842\"><clipPath id=\"t74e22bb166a14d0095920f601aafb642\"><rect height=\"340.0\" width=\"540.0\" x=\"30.0\" y=\"30.0\"></rect></clipPath><g clip-path=\"url(#t74e22bb166a14d0095920f601aafb642)\"><g class=\"toytree-mark-Toytree\" id=\"tafdffc98655845cea8aa901e6b416f8b\"><g class=\"toytree-Edges\" style=\"fill:none;stroke:rgb(14.9%,14.9%,14.9%);stroke-linecap:round;stroke-opacity:1;stroke-width:2\"><path d=\"M 50.0 128.8 L 50.0 73.2 L 247.8 73.2\" id=\"24,23\"></path><path d=\"M 50.0 128.8 L 50.0 184.5 L 247.8 184.5\" id=\"24,22\"></path><path d=\"M 247.8 184.5 L 247.8 142.3 L 280.6 142.3\" id=\"22,21\"></path><path d=\"M 247.8 184.5 L 247.8 226.7 L 307.2 226.7\" id=\"22,20\"></path><path d=\"M 280.6 142.3 L 280.6 119.3 L 306.8 119.3\" id=\"21,19\"></path><path d=\"M 280.6 142.3 L 280.6 165.4 L 384.3 165.4\" id=\"21,18\"></path><path d=\"M 307.2 226.7 L 307.2 253.3 L 318.6 253.3\" id=\"20,17\"></path><path d=\"M 318.6 253.3 L 318.6 283.6 L 327.2 283.6\" id=\"17,16\"></path><path d=\"M 327.2 283.6 L 327.2 257.7 L 351.8 257.7\" id=\"16,15\"></path><path d=\"M 327.2 283.6 L 327.2 309.5 L 335.4 309.5\" id=\"16,14\"></path><path d=\"M 335.4 309.5 L 335.4 326.8 L 403.4 326.8\" id=\"14,13\"></path><path d=\"M 247.8 73.2 L 247.8 61.6 L 276.4 61.6\" id=\"23,12\"></path><path d=\"M 247.8 73.2 L 247.8 84.7 L 275.0 84.7\" id=\"23,11\"></path><path d=\"M 306.8 119.3 L 306.8 107.7 L 376.8 107.7\" id=\"19,10\"></path><path d=\"M 306.8 119.3 L 306.8 130.8 L 380.7 130.8\" id=\"19,9\"></path><path d=\"M 384.3 165.4 L 384.3 153.9 L 385.3 153.9\" id=\"18,8\"></path><path d=\"M 384.3 165.4 L 384.3 176.9 L 384.9 176.9\" id=\"18,7\"></path><path d=\"M 307.2 226.7 L 307.2 200.0 L 369.5 200.0\" id=\"20,6\"></path><path d=\"M 318.6 253.3 L 318.6 223.1 L 390.6 223.1\" id=\"17,5\"></path><path d=\"M 351.8 257.7 L 351.8 246.1 L 388.8 246.1\" id=\"15,4\"></path><path d=\"M 351.8 257.7 L 351.8 269.2 L 389.3 269.2\" id=\"15,3\"></path><path d=\"M 335.4 309.5 L 335.4 292.3 L 399.4 292.3\" id=\"14,2\"></path><path d=\"M 403.4 326.8 L 403.4 315.3 L 414.0 315.3\" id=\"13,1\"></path><path d=\"M 403.4 326.8 L 403.4 338.4 L 415.5 338.4\" id=\"13,0\"></path></g><g class=\"toytree-Nodes\" style=\"fill:rgb(82.7%,82.7%,82.7%);fill-opacity:1.0;stroke:rgb(0%,0%,0%);stroke-opacity:1.0;stroke-width:0.75\"><g id=\"node-0\" transform=\"translate(415.482,338.376)\"><rect height=\"0.0\" width=\"0.0\" x=\"0.0\" y=\"0.0\"></rect></g><g id=\"node-1\" transform=\"translate(414.048,315.314)\"><rect height=\"0.0\" width=\"0.0\" x=\"0.0\" y=\"0.0\"></rect></g><g id=\"node-2\" transform=\"translate(399.360,292.251)\"><rect height=\"0.0\" width=\"0.0\" x=\"0.0\" y=\"0.0\"></rect></g><g id=\"node-3\" transform=\"translate(389.277,269.188)\"><rect height=\"0.0\" width=\"0.0\" x=\"0.0\" y=\"0.0\"></rect></g><g id=\"node-4\" transform=\"translate(388.775,246.125)\"><rect height=\"0.0\" width=\"0.0\" x=\"0.0\" y=\"0.0\"></rect></g><g id=\"node-5\" transform=\"translate(390.591,223.063)\"><rect height=\"0.0\" width=\"0.0\" x=\"0.0\" y=\"0.0\"></rect></g><g id=\"node-6\" transform=\"translate(369.505,200.000)\"><rect height=\"0.0\" width=\"0.0\" x=\"0.0\" y=\"0.0\"></rect></g><g id=\"node-7\" transform=\"translate(384.925,176.937)\"><rect height=\"0.0\" width=\"0.0\" x=\"0.0\" y=\"0.0\"></rect></g><g id=\"node-8\" transform=\"translate(385.322,153.875)\"><rect height=\"0.0\" width=\"0.0\" x=\"0.0\" y=\"0.0\"></rect></g><g id=\"node-9\" transform=\"translate(380.695,130.812)\"><rect height=\"0.0\" width=\"0.0\" x=\"0.0\" y=\"0.0\"></rect></g><g id=\"node-10\" transform=\"translate(376.758,107.749)\"><rect height=\"0.0\" width=\"0.0\" x=\"0.0\" y=\"0.0\"></rect></g><g id=\"node-11\" transform=\"translate(275.020,84.686)\"><rect height=\"0.0\" width=\"0.0\" x=\"0.0\" y=\"0.0\"></rect></g><g id=\"node-12\" transform=\"translate(276.364,61.624)\"><rect height=\"0.0\" width=\"0.0\" x=\"0.0\" y=\"0.0\"></rect></g><g id=\"node-13\" transform=\"translate(403.440,326.845)\"><rect height=\"15.0\" width=\"24.0\" x=\"-12.0\" y=\"-7.5\"></rect></g><g id=\"node-14\" transform=\"translate(335.353,309.548)\"><rect height=\"15.0\" width=\"24.0\" x=\"-12.0\" y=\"-7.5\"></rect></g><g id=\"node-15\" transform=\"translate(351.793,257.657)\"><rect height=\"15.0\" width=\"24.0\" x=\"-12.0\" y=\"-7.5\"></rect></g><g id=\"node-16\" transform=\"translate(327.206,283.602)\"><rect height=\"15.0\" width=\"24.0\" x=\"-12.0\" y=\"-7.5\"></rect></g><g id=\"node-17\" transform=\"translate(318.569,253.333)\"><rect height=\"15.0\" width=\"24.0\" x=\"-12.0\" y=\"-7.5\"></rect></g><g id=\"node-18\" transform=\"translate(384.342,165.406)\"><rect height=\"15.0\" width=\"24.0\" x=\"-12.0\" y=\"-7.5\"></rect></g><g id=\"node-19\" transform=\"translate(306.828,119.280)\"><rect height=\"15.0\" width=\"24.0\" x=\"-12.0\" y=\"-7.5\"></rect></g><g id=\"node-20\" transform=\"translate(307.170,226.666)\"><rect height=\"15.0\" width=\"24.0\" x=\"-12.0\" y=\"-7.5\"></rect></g><g id=\"node-21\" transform=\"translate(280.587,142.343)\"><rect height=\"15.0\" width=\"24.0\" x=\"-12.0\" y=\"-7.5\"></rect></g><g id=\"node-22\" transform=\"translate(247.771,184.505)\"><rect height=\"15.0\" width=\"24.0\" x=\"-12.0\" y=\"-7.5\"></rect></g><g id=\"node-23\" transform=\"translate(247.771,73.155)\"><rect height=\"15.0\" width=\"24.0\" x=\"-12.0\" y=\"-7.5\"></rect></g><g id=\"node-24\" transform=\"translate(50.000,128.830)\"><rect height=\"0.0\" width=\"0.0\" x=\"0.0\" y=\"0.0\"></rect></g></g><g class=\"toytree-NodeLabels\" style=\"fill:rgb(14.9%,14.9%,14.9%);fill-opacity:1.0;font-size:10px;stroke:none\"><g transform=\"translate(395.10,329.40)\"><text>100</text></g><g transform=\"translate(329.79,312.10)\"><text>96</text></g><g transform=\"translate(343.45,260.21)\"><text>100</text></g><g transform=\"translate(321.65,286.16)\"><text>99</text></g><g transform=\"translate(310.23,255.89)\"><text>100</text></g><g transform=\"translate(376.00,167.96)\"><text>100</text></g><g transform=\"translate(298.49,121.84)\"><text>100</text></g><g transform=\"translate(298.83,229.22)\"><text>100</text></g><g transform=\"translate(272.25,144.90)\"><text>100</text></g><g transform=\"translate(239.43,187.06)\"><text>100</text></g><g transform=\"translate(239.43,75.71)\"><text>100</text></g></g><g class=\"toytree-TipLabels\" style=\"fill:rgb(14.9%,14.9%,14.9%);fill-opacity:1.0;font-family:helvetica;font-size:11px;font-weight:normal;stroke:none;white-space:pre\"><g transform=\"translate(415.48,338.38)rotate(0)\"><text style=\"\" x=\"15.00\" y=\"2.81\">38362_rex</text></g><g transform=\"translate(414.05,315.31)rotate(0)\"><text style=\"\" x=\"15.00\" y=\"2.81\">39618_rex</text></g><g transform=\"translate(399.36,292.25)rotate(0)\"><text style=\"\" x=\"15.00\" y=\"2.81\">35236_rex</text></g><g transform=\"translate(389.28,269.19)rotate(0)\"><text style=\"\" x=\"15.00\" y=\"2.81\">35855_rex</text></g><g transform=\"translate(388.77,246.13)rotate(0)\"><text style=\"\" x=\"15.00\" y=\"2.81\">40578_rex</text></g><g transform=\"translate(390.59,223.06)rotate(0)\"><text style=\"\" x=\"15.00\" y=\"2.81\">30556_thamno</text></g><g transform=\"translate(369.51,200.00)rotate(0)\"><text style=\"\" x=\"15.00\" y=\"2.81\">33413_thamno</text></g><g transform=\"translate(384.92,176.94)rotate(0)\"><text style=\"\" x=\"15.00\" y=\"2.81\">41478_cyathophylloides</text></g><g transform=\"translate(385.32,153.87)rotate(0)\"><text style=\"\" x=\"15.00\" y=\"2.81\">41954_cyathophylloides</text></g><g transform=\"translate(380.69,130.81)rotate(0)\"><text style=\"\" x=\"15.00\" y=\"2.81\">30686_cyathophylla</text></g><g transform=\"translate(376.76,107.75)rotate(0)\"><text style=\"\" x=\"15.00\" y=\"2.81\">29154_superba</text></g><g transform=\"translate(275.02,84.69)rotate(0)\"><text style=\"\" x=\"15.00\" y=\"2.81\">33588_przewalskii</text></g><g transform=\"translate(276.36,61.62)rotate(0)\"><text style=\"\" x=\"15.00\" y=\"2.81\">32082_przewalskii</text></g></g></g></g></g></svg><div class=\"toyplot-behavior\"><script>(function()\n",
       "{\n",
       "var modules={};\n",
       "})();</script></div></div>"
      ]
     },
     "metadata": {},
     "output_type": "display_data"
    }
   ],
   "source": [
    "# the classic \"ape\" style tree plot look\n",
    "rtre.draw(\n",
    "    width=600,\n",
    "    height=400,\n",
    "    node_labels=\"support\",\n",
    "    node_labels_style={\"font-size\": \"10px\"},\n",
    "    node_markers=\"r2x1.25\",\n",
    "    node_sizes=12,\n",
    "    node_style={\n",
    "        \"fill\": \"lightgrey\", \n",
    "        \"stroke\": \"black\",\n",
    "        \"stroke-width\": 0.75,\n",
    "    }\n",
    ");"
   ]
  },
  {
   "cell_type": "markdown",
   "metadata": {},
   "source": [
    "#### node_hover\n",
    "\n",
    "Enables interactive hover over nodes so that you can see all features associated with each. "
   ]
  },
  {
   "cell_type": "code",
   "execution_count": null,
   "metadata": {},
   "outputs": [
    {
     "data": {
      "text/html": [
       "<div class=\"toyplot\" id=\"tf164e91ff2244f67bcc05b1dc2d9a225\" style=\"text-align:center\"><svg class=\"toyplot-canvas-Canvas\" height=\"275.0px\" id=\"t65648e7dfef740f18abb8e5c99a71263\" preserveAspectRatio=\"xMidYMid meet\" style=\"background-color:transparent;border-color:#292724;border-style:none;border-width:1.0;fill:rgb(16.1%,15.3%,14.1%);fill-opacity:1.0;font-family:Helvetica;font-size:12px;opacity:1.0;stroke:rgb(16.1%,15.3%,14.1%);stroke-opacity:1.0;stroke-width:1.0\" viewBox=\"0 0 360.0 275.0\" width=\"360.0px\" xmlns=\"http://www.w3.org/2000/svg\" xmlns:toyplot=\"http://www.sandia.gov/toyplot\" xmlns:xlink=\"http://www.w3.org/1999/xlink\"><g class=\"toyplot-coordinates-Cartesian\" id=\"tfaf5ad29f423489a9b9fb3d313b9458a\"><clipPath id=\"t458aafd16ad2494d9211fc34c1cfdaf8\"><rect height=\"215.0\" width=\"300.0\" x=\"30.0\" y=\"30.0\"></rect></clipPath><g clip-path=\"url(#t458aafd16ad2494d9211fc34c1cfdaf8)\"><g class=\"toytree-mark-Toytree\" id=\"t074faaa040c8432d9ed25c05e1dcc5b9\"><g class=\"toytree-Edges\" style=\"fill:none;stroke:rgb(14.9%,14.9%,14.9%);stroke-linecap:round;stroke-opacity:1;stroke-width:2\"><path d=\"M 58.1 99.1 L 58.1 69.0 L 134.5 69.0\" id=\"24,23\"></path><path d=\"M 58.1 99.1 L 58.1 129.1 L 134.5 129.1\" id=\"24,22\"></path><path d=\"M 134.5 129.1 L 134.5 106.4 L 147.2 106.4\" id=\"22,21\"></path><path d=\"M 134.5 129.1 L 134.5 151.9 L 157.5 151.9\" id=\"22,20\"></path><path d=\"M 147.2 106.4 L 147.2 93.9 L 157.4 93.9\" id=\"21,19\"></path><path d=\"M 147.2 106.4 L 147.2 118.8 L 187.3 118.8\" id=\"21,18\"></path><path d=\"M 157.5 151.9 L 157.5 166.3 L 161.9 166.3\" id=\"20,17\"></path><path d=\"M 161.9 166.3 L 161.9 182.6 L 165.2 182.6\" id=\"17,16\"></path><path d=\"M 165.2 182.6 L 165.2 168.6 L 174.7 168.6\" id=\"16,15\"></path><path d=\"M 165.2 182.6 L 165.2 196.6 L 168.4 196.6\" id=\"16,14\"></path><path d=\"M 168.4 196.6 L 168.4 206.0 L 194.7 206.0\" id=\"14,13\"></path><path d=\"M 134.5 69.0 L 134.5 62.8 L 145.6 62.8\" id=\"23,12\"></path><path d=\"M 134.5 69.0 L 134.5 75.3 L 145.1 75.3\" id=\"23,11\"></path><path d=\"M 157.4 93.9 L 157.4 87.7 L 184.4 87.7\" id=\"19,10\"></path><path d=\"M 157.4 93.9 L 157.4 100.2 L 185.9 100.2\" id=\"19,9\"></path><path d=\"M 187.3 118.8 L 187.3 112.6 L 187.7 112.6\" id=\"18,8\"></path><path d=\"M 187.3 118.8 L 187.3 125.1 L 187.5 125.1\" id=\"18,7\"></path><path d=\"M 157.5 151.9 L 157.5 137.5 L 181.6 137.5\" id=\"20,6\"></path><path d=\"M 161.9 166.3 L 161.9 149.9 L 189.7 149.9\" id=\"17,5\"></path><path d=\"M 174.7 168.6 L 174.7 162.4 L 189.0 162.4\" id=\"15,4\"></path><path d=\"M 174.7 168.6 L 174.7 174.8 L 189.2 174.8\" id=\"15,3\"></path><path d=\"M 168.4 196.6 L 168.4 187.3 L 193.1 187.3\" id=\"14,2\"></path><path d=\"M 194.7 206.0 L 194.7 199.7 L 198.8 199.7\" id=\"13,1\"></path><path d=\"M 194.7 206.0 L 194.7 212.2 L 199.3 212.2\" id=\"13,0\"></path></g><g class=\"toytree-Nodes\" style=\"fill:rgb(40%,76.1%,64.7%);fill-opacity:1.0;stroke:None;stroke-width:1\"><g id=\"node-0\" transform=\"translate(199.322,212.195)\"><circle r=\"7.5\"></circle></g><g id=\"node-1\" transform=\"translate(198.767,199.746)\"><circle r=\"7.5\"></circle></g><g id=\"node-2\" transform=\"translate(193.094,187.297)\"><circle r=\"7.5\"></circle></g><g id=\"node-3\" transform=\"translate(189.199,174.848)\"><circle r=\"7.5\"></circle></g><g id=\"node-4\" transform=\"translate(189.005,162.398)\"><circle r=\"7.5\"></circle></g><g id=\"node-5\" transform=\"translate(189.707,149.949)\"><circle r=\"7.5\"></circle></g><g id=\"node-6\" transform=\"translate(181.562,137.500)\"><circle r=\"7.5\"></circle></g><g id=\"node-7\" transform=\"translate(187.518,125.051)\"><circle r=\"7.5\"></circle></g><g id=\"node-8\" transform=\"translate(187.671,112.602)\"><circle r=\"7.5\"></circle></g><g id=\"node-9\" transform=\"translate(185.884,100.152)\"><circle r=\"7.5\"></circle></g><g id=\"node-10\" transform=\"translate(184.363,87.703)\"><circle r=\"7.5\"></circle></g><g id=\"node-11\" transform=\"translate(145.064,75.254)\"><circle r=\"7.5\"></circle></g><g id=\"node-12\" transform=\"translate(145.584,62.805)\"><circle r=\"7.5\"></circle></g><g id=\"node-13\" transform=\"translate(194.670,205.971)\"><circle r=\"7.5\"></circle></g><g id=\"node-14\" transform=\"translate(168.369,196.634)\"><circle r=\"7.5\"></circle></g><g id=\"node-15\" transform=\"translate(174.720,168.623)\"><circle r=\"7.5\"></circle></g><g id=\"node-16\" transform=\"translate(165.222,182.628)\"><circle r=\"7.5\"></circle></g><g id=\"node-17\" transform=\"translate(161.886,166.289)\"><circle r=\"7.5\"></circle></g><g id=\"node-18\" transform=\"translate(187.293,118.826)\"><circle r=\"7.5\"></circle></g><g id=\"node-19\" transform=\"translate(157.351,93.928)\"><circle r=\"7.5\"></circle></g><g id=\"node-20\" transform=\"translate(157.483,151.894)\"><circle r=\"7.5\"></circle></g><g id=\"node-21\" transform=\"translate(147.215,106.377)\"><circle r=\"7.5\"></circle></g><g id=\"node-22\" transform=\"translate(134.539,129.136)\"><circle r=\"7.5\"></circle></g><g id=\"node-23\" transform=\"translate(134.539,69.029)\"><circle r=\"7.5\"></circle></g><g id=\"node-24\" transform=\"translate(58.145,99.083)\"><circle r=\"7.5\"></circle></g></g><g class=\"toytree-NodeLabels\" style=\"fill:rgb(14.9%,14.9%,14.9%);fill-opacity:1.0;font-size:9px;stroke:none\"><g transform=\"translate(196.82,214.49)\"><title>idx: 0\n",
       "dist: 0.0011\n",
       "support: 0.0000\n",
       "height: 0.0000\n",
       "name: 38362_rex</title><text>0</text></g><g transform=\"translate(196.27,202.05)\"><title>idx: 1\n",
       "dist: 0.0010\n",
       "support: 0.0000\n",
       "height: 0.0001\n",
       "name: 39618_rex</title><text>1</text></g><g transform=\"translate(190.59,189.60)\"><title>idx: 2\n",
       "dist: 0.0058\n",
       "support: 0.0000\n",
       "height: 0.0015\n",
       "name: 35236_rex</title><text>2</text></g><g transform=\"translate(186.70,177.15)\"><title>idx: 3\n",
       "dist: 0.0034\n",
       "support: 0.0000\n",
       "height: 0.0024\n",
       "name: 35855_rex</title><text>3</text></g><g transform=\"translate(186.50,164.70)\"><title>idx: 4\n",
       "dist: 0.0034\n",
       "support: 0.0000\n",
       "height: 0.0024\n",
       "name: 40578_rex</title><text>4</text></g><g transform=\"translate(187.20,152.25)\"><title>idx: 5\n",
       "dist: 0.0065\n",
       "support: 0.0000\n",
       "height: 0.0023\n",
       "name: 30556_thamno</title><text>5</text></g><g transform=\"translate(179.06,139.80)\"><title>idx: 6\n",
       "dist: 0.0057\n",
       "support: 0.0000\n",
       "height: 0.0042\n",
       "name: 33413_thamno</title><text>6</text></g><g transform=\"translate(185.02,127.35)\"><title>idx: 7\n",
       "dist: 0.0001\n",
       "support: 0.0000\n",
       "height: 0.0028\n",
       "name: 41478_cyathophylloides</title><text>7</text></g><g transform=\"translate(185.17,114.90)\"><title>idx: 8\n",
       "dist: 0.0001\n",
       "support: 0.0000\n",
       "height: 0.0027\n",
       "name: 41954_cyathophylloides</title><text>8</text></g><g transform=\"translate(183.38,102.45)\"><title>idx: 9\n",
       "dist: 0.0067\n",
       "support: 0.0000\n",
       "height: 0.0032\n",
       "name: 30686_cyathophylla</title><text>9</text></g><g transform=\"translate(179.36,90.00)\"><title>idx: 10\n",
       "dist: 0.0063\n",
       "support: 0.0000\n",
       "height: 0.0035\n",
       "name: 29154_superba</title><text>10</text></g><g transform=\"translate(140.06,77.55)\"><title>idx: 11\n",
       "dist: 0.0025\n",
       "support: 0.0000\n",
       "height: 0.0127\n",
       "name: 33588_przewalskii</title><text>11</text></g><g transform=\"translate(140.58,65.10)\"><title>idx: 12\n",
       "dist: 0.0026\n",
       "support: 0.0000\n",
       "height: 0.0126\n",
       "name: 32082_przewalskii</title><text>12</text></g><g transform=\"translate(189.67,208.27)\"><title>idx: 13\n",
       "dist: 0.0062\n",
       "support: 100.0000\n",
       "height: 0.0011\n",
       "name: 13</title><text>13</text></g><g transform=\"translate(163.37,198.93)\"><title>idx: 14\n",
       "dist: 0.0007\n",
       "support: 96.0000\n",
       "height: 0.0073\n",
       "name: 14</title><text>14</text></g><g transform=\"translate(169.72,170.92)\"><title>idx: 15\n",
       "dist: 0.0022\n",
       "support: 100.0000\n",
       "height: 0.0058\n",
       "name: 15</title><text>15</text></g><g transform=\"translate(160.22,184.93)\"><title>idx: 16\n",
       "dist: 0.0008\n",
       "support: 99.0000\n",
       "height: 0.0080\n",
       "name: 16</title><text>16</text></g><g transform=\"translate(156.88,168.59)\"><title>idx: 17\n",
       "dist: 0.0010\n",
       "support: 100.0000\n",
       "height: 0.0088\n",
       "name: 17</title><text>17</text></g><g transform=\"translate(182.29,121.13)\"><title>idx: 18\n",
       "dist: 0.0094\n",
       "support: 100.0000\n",
       "height: 0.0028\n",
       "name: 23</title><text>18</text></g><g transform=\"translate(152.35,96.23)\"><title>idx: 19\n",
       "dist: 0.0024\n",
       "support: 100.0000\n",
       "height: 0.0099\n",
       "name: 21</title><text>19</text></g><g transform=\"translate(152.48,154.19)\"><title>idx: 20\n",
       "dist: 0.0054\n",
       "support: 100.0000\n",
       "height: 0.0098\n",
       "name: 18</title><text>20</text></g><g transform=\"translate(142.21,108.68)\"><title>idx: 21\n",
       "dist: 0.0030\n",
       "support: 100.0000\n",
       "height: 0.0122\n",
       "name: 22</title><text>21</text></g><g transform=\"translate(129.53,131.44)\"><title>idx: 22\n",
       "dist: 0.0179\n",
       "support: 100.0000\n",
       "height: 0.0152\n",
       "name: 20</title><text>22</text></g><g transform=\"translate(129.53,71.33)\"><title>idx: 23\n",
       "dist: 0.0179\n",
       "support: 100.0000\n",
       "height: 0.0152\n",
       "name: 19</title><text>23</text></g><g transform=\"translate(53.14,101.38)\"><title>idx: 24\n",
       "dist: 1.0000\n",
       "support: 100.0000\n",
       "height: 0.0331\n",
       "name: root</title><text>24</text></g></g><g class=\"toytree-TipLabels\" style=\"fill:rgb(14.9%,14.9%,14.9%);fill-opacity:1.0;font-family:helvetica;font-size:11px;font-weight:normal;stroke:none;white-space:pre\"><g transform=\"translate(199.32,212.20)rotate(0)\"><text style=\"\" x=\"15.00\" y=\"2.81\">38362_rex</text></g><g transform=\"translate(198.77,199.75)rotate(0)\"><text style=\"\" x=\"15.00\" y=\"2.81\">39618_rex</text></g><g transform=\"translate(193.09,187.30)rotate(0)\"><text style=\"\" x=\"15.00\" y=\"2.81\">35236_rex</text></g><g transform=\"translate(189.20,174.85)rotate(0)\"><text style=\"\" x=\"15.00\" y=\"2.81\">35855_rex</text></g><g transform=\"translate(189.00,162.40)rotate(0)\"><text style=\"\" x=\"15.00\" y=\"2.81\">40578_rex</text></g><g transform=\"translate(189.71,149.95)rotate(0)\"><text style=\"\" x=\"15.00\" y=\"2.81\">30556_thamno</text></g><g transform=\"translate(181.56,137.50)rotate(0)\"><text style=\"\" x=\"15.00\" y=\"2.81\">33413_thamno</text></g><g transform=\"translate(187.52,125.05)rotate(0)\"><text style=\"\" x=\"15.00\" y=\"2.81\">41478_cyathophylloides</text></g><g transform=\"translate(187.67,112.60)rotate(0)\"><text style=\"\" x=\"15.00\" y=\"2.81\">41954_cyathophylloides</text></g><g transform=\"translate(185.88,100.15)rotate(0)\"><text style=\"\" x=\"15.00\" y=\"2.81\">30686_cyathophylla</text></g><g transform=\"translate(184.36,87.70)rotate(0)\"><text style=\"\" x=\"15.00\" y=\"2.81\">29154_superba</text></g><g transform=\"translate(145.06,75.25)rotate(0)\"><text style=\"\" x=\"15.00\" y=\"2.81\">33588_przewalskii</text></g><g transform=\"translate(145.58,62.80)rotate(0)\"><text style=\"\" x=\"15.00\" y=\"2.81\">32082_przewalskii</text></g></g></g></g></g></svg><div class=\"toyplot-behavior\"><script>(function()\n",
       "{\n",
       "var modules={};\n",
       "})();</script></div></div>"
      ]
     },
     "metadata": {},
     "output_type": "display_data"
    }
   ],
   "source": [
    "rtre.draw(node_hover=True, node_labels=True, node_sizes=15);"
   ]
  },
  {
   "cell_type": "markdown",
   "metadata": {},
   "source": [
    "### Node Masking  \n",
    "\n",
    "Documentation on Node Masking can be found in [draw basics](/toytree/drawing-basics/)"
   ]
  },
  {
   "cell_type": "markdown",
   "metadata": {},
   "source": [
    "### Layout"
   ]
  },
  {
   "cell_type": "markdown",
   "metadata": {},
   "source": [
    "#### layout\n",
    "\n",
    "**Type:**  str  \n",
    "**Allowed:** 'circular', 'c', 'right', 'r', 'down', 'd', (coming: 'unrooted', 'up', 'left')  \n",
    "**Default:** 'r'  \n",
    "**Description:**  The layout orients the direction of tip labels. Options include linear trees facing right, left, up, down, as well as circular and unrooted trees. "
   ]
  },
  {
   "cell_type": "code",
   "execution_count": null,
   "metadata": {},
   "outputs": [
    {
     "data": {
      "text/html": [
       "<div class=\"toyplot\" id=\"t0f7e235c3d834df3905173e118af5a43\" style=\"text-align:center\"><svg class=\"toyplot-canvas-Canvas\" height=\"300.0px\" id=\"tb703e004910841db839897a570be7548\" preserveAspectRatio=\"xMidYMid meet\" style=\"background-color:transparent;border-color:#292724;border-style:none;border-width:1.0;fill:rgb(16.1%,15.3%,14.1%);fill-opacity:1.0;font-family:Helvetica;font-size:12px;opacity:1.0;stroke:rgb(16.1%,15.3%,14.1%);stroke-opacity:1.0;stroke-width:1.0\" viewBox=\"0 0 350.0 300.0\" width=\"350.0px\" xmlns=\"http://www.w3.org/2000/svg\" xmlns:toyplot=\"http://www.sandia.gov/toyplot\" xmlns:xlink=\"http://www.w3.org/1999/xlink\"><g class=\"toyplot-coordinates-Cartesian\" id=\"t346d5fc88ee3446eacb3d4553ef93f59\"><clipPath id=\"tcaa3d3d6317a4507a4e59209c711b94d\"><rect height=\"240.0\" width=\"290.0\" x=\"30.0\" y=\"30.0\"></rect></clipPath><g clip-path=\"url(#tcaa3d3d6317a4507a4e59209c711b94d)\"><g class=\"toytree-mark-Toytree\" id=\"taa14078707044f81b3a43589441ddf0a\"><g class=\"toytree-Edges\" style=\"fill:none;stroke:rgb(14.9%,14.9%,14.9%);stroke-linecap:round;stroke-opacity:1;stroke-width:2\"><path d=\"M 250.3 50.0 L 282.6 50.0 L 282.6 211.4\" id=\"38,37\"></path><path d=\"M 250.3 50.0 L 218.0 50.0 L 218.0 62.1\" id=\"38,36\"></path><path d=\"M 218.0 62.1 L 258.7 62.1 L 258.7 197.0\" id=\"36,35\"></path><path d=\"M 218.0 62.1 L 177.4 62.1 L 177.4 88.9\" id=\"36,34\"></path><path d=\"M 177.4 88.9 L 221.3 88.9 L 221.3 188.9\" id=\"34,33\"></path><path d=\"M 177.4 88.9 L 133.5 88.9 L 133.5 124.3\" id=\"34,32\"></path><path d=\"M 221.3 188.9 L 234.8 188.9 L 234.8 211.7\" id=\"33,31\"></path><path d=\"M 221.3 188.9 L 207.9 188.9 L 207.9 197.7\" id=\"33,30\"></path><path d=\"M 133.5 124.3 L 161.6 124.3 L 161.6 158.9\" id=\"32,29\"></path><path d=\"M 133.5 124.3 L 105.5 124.3 L 105.5 190.6\" id=\"32,28\"></path><path d=\"M 207.9 197.7 L 198.9 197.7 L 198.9 201.8\" id=\"30,27\"></path><path d=\"M 161.6 158.9 L 175.0 158.9 L 175.0 191.3\" id=\"29,26\"></path><path d=\"M 161.6 158.9 L 148.1 158.9 L 148.1 184.0\" id=\"29,25\"></path><path d=\"M 105.5 190.6 L 89.8 190.6 L 89.8 195.9\" id=\"28,24\"></path><path d=\"M 148.1 184.0 L 139.1 184.0 L 139.1 185.1\" id=\"25,23\"></path><path d=\"M 89.8 195.9 L 103.3 195.9 L 103.3 208.0\" id=\"24,22\"></path><path d=\"M 89.8 195.9 L 76.4 195.9 L 76.4 205.4\" id=\"24,21\"></path><path d=\"M 76.4 205.4 L 67.4 205.4 L 67.4 207.0\" id=\"21,20\"></path><path d=\"M 282.6 211.4 L 288.6 211.4 L 288.6 213.0\" id=\"37,19\"></path><path d=\"M 282.6 211.4 L 276.6 211.4 L 276.6 213.0\" id=\"37,18\"></path><path d=\"M 258.7 197.0 L 264.6 197.0 L 264.6 213.0\" id=\"35,17\"></path><path d=\"M 258.7 197.0 L 252.7 197.0 L 252.7 213.0\" id=\"35,16\"></path><path d=\"M 234.8 211.7 L 240.7 211.7 L 240.7 213.0\" id=\"31,15\"></path><path d=\"M 234.8 211.7 L 228.8 211.7 L 228.8 213.0\" id=\"31,14\"></path><path d=\"M 207.9 197.7 L 216.8 197.7 L 216.8 213.0\" id=\"30,13\"></path><path d=\"M 198.9 201.8 L 204.9 201.8 L 204.9 213.0\" id=\"27,12\"></path><path d=\"M 198.9 201.8 L 192.9 201.8 L 192.9 213.0\" id=\"27,11\"></path><path d=\"M 175.0 191.3 L 181.0 191.3 L 181.0 213.0\" id=\"26,10\"></path><path d=\"M 175.0 191.3 L 169.0 191.3 L 169.0 213.0\" id=\"26,9\"></path><path d=\"M 148.1 184.0 L 157.1 184.0 L 157.1 213.0\" id=\"25,8\"></path><path d=\"M 139.1 185.1 L 145.1 185.1 L 145.1 213.0\" id=\"23,7\"></path><path d=\"M 139.1 185.1 L 133.2 185.1 L 133.2 213.0\" id=\"23,6\"></path><path d=\"M 105.5 190.6 L 121.2 190.6 L 121.2 213.0\" id=\"28,5\"></path><path d=\"M 103.3 208.0 L 109.3 208.0 L 109.3 213.0\" id=\"22,4\"></path><path d=\"M 103.3 208.0 L 97.3 208.0 L 97.3 213.0\" id=\"22,3\"></path><path d=\"M 76.4 205.4 L 85.4 205.4 L 85.4 213.0\" id=\"21,2\"></path><path d=\"M 67.4 207.0 L 73.4 207.0 L 73.4 213.0\" id=\"20,1\"></path><path d=\"M 67.4 207.0 L 61.4 207.0 L 61.4 213.0\" id=\"20,0\"></path></g><g class=\"toytree-AlignEdges\" style=\"stroke:rgb(66.3%,66.3%,66.3%);stroke-dasharray:2, 4;stroke-linecap:round;stroke-opacity:1.0;stroke-width:2\"><path d=\"M 61.4 213.0 L 61.4 213.0\"></path><path d=\"M 73.4 213.0 L 73.4 213.0\"></path><path d=\"M 85.4 213.0 L 85.4 213.0\"></path><path d=\"M 97.3 213.0 L 97.3 213.0\"></path><path d=\"M 109.3 213.0 L 109.3 213.0\"></path><path d=\"M 121.2 213.0 L 121.2 213.0\"></path><path d=\"M 133.2 213.0 L 133.2 213.0\"></path><path d=\"M 145.1 213.0 L 145.1 213.0\"></path><path d=\"M 157.1 213.0 L 157.1 213.0\"></path><path d=\"M 169.0 213.0 L 169.0 213.0\"></path><path d=\"M 181.0 213.0 L 181.0 213.0\"></path><path d=\"M 192.9 213.0 L 192.9 213.0\"></path><path d=\"M 204.9 213.0 L 204.9 213.0\"></path><path d=\"M 216.8 213.0 L 216.8 213.0\"></path><path d=\"M 228.8 213.0 L 228.8 213.0\"></path><path d=\"M 240.7 213.0 L 240.7 213.0\"></path><path d=\"M 252.7 213.0 L 252.7 213.0\"></path><path d=\"M 264.6 213.0 L 264.6 213.0\"></path><path d=\"M 276.6 213.0 L 276.6 213.0\"></path><path d=\"M 288.6 213.0 L 288.6 213.0\"></path></g><g class=\"toytree-Nodes\" style=\"fill:rgb(40%,76.1%,64.7%);fill-opacity:1.0;stroke:rgb(0%,0%,0%);stroke-opacity:1.0;stroke-width:1\"><g id=\"node-0\" transform=\"translate(61.446,213.036)\"><circle r=\"0.0\"></circle></g><g id=\"node-1\" transform=\"translate(73.399,213.036)\"><circle r=\"0.0\"></circle></g><g id=\"node-2\" transform=\"translate(85.352,213.036)\"><circle r=\"0.0\"></circle></g><g id=\"node-3\" transform=\"translate(97.305,213.036)\"><circle r=\"0.0\"></circle></g><g id=\"node-4\" transform=\"translate(109.258,213.036)\"><circle r=\"0.0\"></circle></g><g id=\"node-5\" transform=\"translate(121.211,213.036)\"><circle r=\"0.0\"></circle></g><g id=\"node-6\" transform=\"translate(133.164,213.036)\"><circle r=\"0.0\"></circle></g><g id=\"node-7\" transform=\"translate(145.117,213.036)\"><circle r=\"0.0\"></circle></g><g id=\"node-8\" transform=\"translate(157.070,213.036)\"><circle r=\"0.0\"></circle></g><g id=\"node-9\" transform=\"translate(169.023,213.036)\"><circle r=\"0.0\"></circle></g><g id=\"node-10\" transform=\"translate(180.977,213.036)\"><circle r=\"0.0\"></circle></g><g id=\"node-11\" transform=\"translate(192.930,213.036)\"><circle r=\"0.0\"></circle></g><g id=\"node-12\" transform=\"translate(204.883,213.036)\"><circle r=\"0.0\"></circle></g><g id=\"node-13\" transform=\"translate(216.836,213.036)\"><circle r=\"0.0\"></circle></g><g id=\"node-14\" transform=\"translate(228.789,213.036)\"><circle r=\"0.0\"></circle></g><g id=\"node-15\" transform=\"translate(240.742,213.036)\"><circle r=\"0.0\"></circle></g><g id=\"node-16\" transform=\"translate(252.695,213.036)\"><circle r=\"0.0\"></circle></g><g id=\"node-17\" transform=\"translate(264.648,213.036)\"><circle r=\"0.0\"></circle></g><g id=\"node-18\" transform=\"translate(276.601,213.036)\"><circle r=\"0.0\"></circle></g><g id=\"node-19\" transform=\"translate(288.554,213.036)\"><circle r=\"0.0\"></circle></g><g id=\"node-20\" transform=\"translate(67.423,207.023)\"><circle r=\"4.0\"></circle></g><g id=\"node-21\" transform=\"translate(76.388,205.450)\"><circle r=\"4.0\"></circle></g><g id=\"node-22\" transform=\"translate(103.282,207.992)\"><circle r=\"4.0\"></circle></g><g id=\"node-23\" transform=\"translate(139.141,185.100)\"><circle r=\"4.0\"></circle></g><g id=\"node-24\" transform=\"translate(89.835,195.900)\"><circle r=\"4.0\"></circle></g><g id=\"node-25\" transform=\"translate(148.106,184.041)\"><circle r=\"4.0\"></circle></g><g id=\"node-26\" transform=\"translate(175.000,191.323)\"><circle r=\"4.0\"></circle></g><g id=\"node-27\" transform=\"translate(198.906,201.805)\"><circle r=\"4.0\"></circle></g><g id=\"node-28\" transform=\"translate(105.523,190.579)\"><circle r=\"4.0\"></circle></g><g id=\"node-29\" transform=\"translate(161.553,158.941)\"><circle r=\"4.0\"></circle></g><g id=\"node-30\" transform=\"translate(207.871,197.694)\"><circle r=\"4.0\"></circle></g><g id=\"node-31\" transform=\"translate(234.765,211.702)\"><circle r=\"4.0\"></circle></g><g id=\"node-32\" transform=\"translate(133.538,124.324)\"><circle r=\"4.0\"></circle></g><g id=\"node-33\" transform=\"translate(221.318,188.936)\"><circle r=\"4.0\"></circle></g><g id=\"node-34\" transform=\"translate(177.428,88.921)\"><circle r=\"4.0\"></circle></g><g id=\"node-35\" transform=\"translate(258.671,196.956)\"><circle r=\"4.0\"></circle></g><g id=\"node-36\" transform=\"translate(218.050,62.095)\"><circle r=\"4.0\"></circle></g><g id=\"node-37\" transform=\"translate(282.577,211.370)\"><circle r=\"4.0\"></circle></g><g id=\"node-38\" transform=\"translate(250.313,50.000)\"><circle r=\"0.0\"></circle></g></g><g class=\"toytree-TipLabels\" style=\"fill:rgb(14.9%,14.9%,14.9%);fill-opacity:1.0;font-family:helvetica;font-size:11px;font-weight:normal;stroke:none;white-space:pre\"><g transform=\"translate(61.45,213.04)rotate(-90)\"><text style=\"\" x=\"-24.78\" y=\"2.81\">r0</text></g><g transform=\"translate(73.40,213.04)rotate(-90)\"><text style=\"\" x=\"-24.78\" y=\"2.81\">r1</text></g><g transform=\"translate(85.35,213.04)rotate(-90)\"><text style=\"\" x=\"-24.78\" y=\"2.81\">r2</text></g><g transform=\"translate(97.31,213.04)rotate(-90)\"><text style=\"\" x=\"-24.78\" y=\"2.81\">r3</text></g><g transform=\"translate(109.26,213.04)rotate(-90)\"><text style=\"\" x=\"-24.78\" y=\"2.81\">r4</text></g><g transform=\"translate(121.21,213.04)rotate(-90)\"><text style=\"\" x=\"-24.78\" y=\"2.81\">r5</text></g><g transform=\"translate(133.16,213.04)rotate(-90)\"><text style=\"\" x=\"-24.78\" y=\"2.81\">r6</text></g><g transform=\"translate(145.12,213.04)rotate(-90)\"><text style=\"\" x=\"-24.78\" y=\"2.81\">r7</text></g><g transform=\"translate(157.07,213.04)rotate(-90)\"><text style=\"\" x=\"-24.78\" y=\"2.81\">r8</text></g><g transform=\"translate(169.02,213.04)rotate(-90)\"><text style=\"\" x=\"-24.78\" y=\"2.81\">r9</text></g><g transform=\"translate(180.98,213.04)rotate(-90)\"><text style=\"\" x=\"-30.90\" y=\"2.81\">r10</text></g><g transform=\"translate(192.93,213.04)rotate(-90)\"><text style=\"\" x=\"-30.90\" y=\"2.81\">r11</text></g><g transform=\"translate(204.88,213.04)rotate(-90)\"><text style=\"\" x=\"-30.90\" y=\"2.81\">r12</text></g><g transform=\"translate(216.84,213.04)rotate(-90)\"><text style=\"\" x=\"-30.90\" y=\"2.81\">r13</text></g><g transform=\"translate(228.79,213.04)rotate(-90)\"><text style=\"\" x=\"-30.90\" y=\"2.81\">r14</text></g><g transform=\"translate(240.74,213.04)rotate(-90)\"><text style=\"\" x=\"-30.90\" y=\"2.81\">r15</text></g><g transform=\"translate(252.69,213.04)rotate(-90)\"><text style=\"\" x=\"-30.90\" y=\"2.81\">r16</text></g><g transform=\"translate(264.65,213.04)rotate(-90)\"><text style=\"\" x=\"-30.90\" y=\"2.81\">r17</text></g><g transform=\"translate(276.60,213.04)rotate(-90)\"><text style=\"\" x=\"-30.90\" y=\"2.81\">r18</text></g><g transform=\"translate(288.55,213.04)rotate(-90)\"><text style=\"\" x=\"-30.90\" y=\"2.81\">r19</text></g></g></g></g></g></svg><div class=\"toyplot-behavior\"><script>(function()\n",
       "{\n",
       "var modules={};\n",
       "})();</script></div></div>"
      ]
     },
     "metadata": {},
     "output_type": "display_data"
    }
   ],
   "source": [
    "ttre = toytree.rtree.coaltree(20, seed=123)\n",
    "ttre.draw(\n",
    "    layout='d', \n",
    "    tip_labels_align=True,\n",
    "    node_sizes=[8 if i else 0 for i in ttre.get_node_values()],\n",
    "    node_style={\"stroke\": \"black\"},\n",
    "    width=350,\n",
    "    height=300,\n",
    ");"
   ]
  },
  {
   "cell_type": "code",
   "execution_count": null,
   "metadata": {},
   "outputs": [
    {
     "data": {
      "text/html": [
       "<div class=\"toyplot\" id=\"t9b7dff4199e445bfac91baa18db84586\" style=\"text-align:center\"><svg class=\"toyplot-canvas-Canvas\" height=\"400.0px\" id=\"tdefffc401b014269b2d26d1144dea907\" preserveAspectRatio=\"xMidYMid meet\" style=\"background-color:transparent;border-color:#292724;border-style:none;border-width:1.0;fill:rgb(16.1%,15.3%,14.1%);fill-opacity:1.0;font-family:Helvetica;font-size:12px;opacity:1.0;stroke:rgb(16.1%,15.3%,14.1%);stroke-opacity:1.0;stroke-width:1.0\" viewBox=\"0 0 400.0 400.0\" width=\"400.0px\" xmlns=\"http://www.w3.org/2000/svg\" xmlns:toyplot=\"http://www.sandia.gov/toyplot\" xmlns:xlink=\"http://www.w3.org/1999/xlink\"><g class=\"toyplot-coordinates-Cartesian\" id=\"t8e0dc8ad27d5453bb3ba9d6eb97a7e0a\"><clipPath id=\"t5b1bb933756a48509d3efa19024806c6\"><rect height=\"340.0\" width=\"340.0\" x=\"30.0\" y=\"30.0\"></rect></clipPath><g clip-path=\"url(#t5b1bb933756a48509d3efa19024806c6)\"><g class=\"toytree-mark-Toytree\" id=\"tf0593062625e4ba5b87a57dd832ca8e2\"><g class=\"toytree-Edges\" style=\"fill:none;stroke:rgb(14.9%,14.9%,14.9%);stroke-linecap:round;stroke-opacity:1;stroke-width:2\"><path d=\"M 200.0 200.0 L 206.3 208.6\" id=\"78,77\"></path><path d=\"M 200.0 200.0 L 192.5 192.4\" id=\"78,76\"></path><path d=\"M 206.3 208.6 L 219.6 208.6\" id=\"77,75\"></path><path d=\"M 206.3 208.6 L 202.4 221.2\" id=\"77,74\"></path><path d=\"M 192.5 192.4 L 178.7 198.3\" id=\"76,73\"></path><path d=\"M 192.5 192.4 L 198.6 178.7\" id=\"76,72\"></path><path d=\"M 219.6 208.6 L 231.2 207.5\" id=\"75,71\"></path><path d=\"M 219.6 208.6 L 226.7 217.8\" id=\"75,70\"></path><path d=\"M 202.4 221.2 L 215.7 228.0\" id=\"74,69\"></path><path d=\"M 202.4 221.2 L 190.8 230.7\" id=\"74,68\"></path><path d=\"M 178.7 198.3 L 168.0 202.5\" id=\"73,67\"></path><path d=\"M 178.7 198.3 L 168.8 192.5\" id=\"73,66\"></path><path d=\"M 198.6 178.7 L 176.4 178.3\" id=\"72,65\"></path><path d=\"M 198.6 178.7 L 220.5 175.3\" id=\"72,64\"></path><path d=\"M 226.7 217.8 L 232.5 227.8\" id=\"70,63\"></path><path d=\"M 215.7 228.0 L 216.4 239.5\" id=\"69,62\"></path><path d=\"M 190.8 230.7 L 203.4 242.6\" id=\"68,61\"></path><path d=\"M 190.8 230.7 L 173.9 233.8\" id=\"68,60\"></path><path d=\"M 176.4 178.3 L 163.5 177.7\" id=\"65,59\"></path><path d=\"M 176.4 178.3 L 174.8 165.5\" id=\"65,58\"></path><path d=\"M 220.5 175.3 L 216.4 160.5\" id=\"64,57\"></path><path d=\"M 220.5 175.3 L 235.8 176.6\" id=\"64,56\"></path><path d=\"M 173.9 233.8 L 184.5 251.1\" id=\"60,55\"></path><path d=\"M 173.9 233.8 L 154.4 227.9\" id=\"60,54\"></path><path d=\"M 174.8 165.5 L 175.5 152.5\" id=\"58,53\"></path><path d=\"M 235.8 176.6 L 236.3 160.8\" id=\"56,52\"></path><path d=\"M 235.8 176.6 L 250.5 182.5\" id=\"56,51\"></path><path d=\"M 184.5 251.1 L 173.2 258.2\" id=\"55,50\"></path><path d=\"M 154.4 227.9 L 151.2 241.6\" id=\"54,49\"></path><path d=\"M 154.4 227.9 L 140.8 224.5\" id=\"54,48\"></path><path d=\"M 175.5 152.5 L 179.6 139.2\" id=\"53,47\"></path><path d=\"M 236.3 160.8 L 248.8 158.4\" id=\"52,46\"></path><path d=\"M 250.5 182.5 L 262.9 187.5\" id=\"51,45\"></path><path d=\"M 173.2 258.2 L 160.9 263.8\" id=\"50,44\"></path><path d=\"M 179.6 139.2 L 186.8 126.3\" id=\"47,43\"></path><path d=\"M 262.9 187.5 L 274.6 194.1\" id=\"45,42\"></path><path d=\"M 186.8 126.3 L 196.6 114.6\" id=\"43,41\"></path><path d=\"M 196.6 114.6 L 207.5 104.1\" id=\"41,40\"></path><path d=\"M 231.2 207.5 L 305.6 216.7\" id=\"71,39\"></path><path d=\"M 231.2 207.5 L 301.6 233.0\" id=\"71,38\"></path><path d=\"M 226.7 217.8 L 295.2 248.5\" id=\"70,37\"></path><path d=\"M 232.5 227.8 L 286.5 262.8\" id=\"63,36\"></path><path d=\"M 232.5 227.8 L 275.6 275.6\" id=\"63,35\"></path><path d=\"M 215.7 228.0 L 262.8 286.5\" id=\"69,34\"></path><path d=\"M 216.4 239.5 L 248.5 295.2\" id=\"62,33\"></path><path d=\"M 216.4 239.5 L 233.0 301.6\" id=\"62,32\"></path><path d=\"M 203.4 242.6 L 216.7 305.6\" id=\"61,31\"></path><path d=\"M 203.4 242.6 L 200.0 306.9\" id=\"61,30\"></path><path d=\"M 184.5 251.1 L 183.3 305.6\" id=\"55,29\"></path><path d=\"M 173.2 258.2 L 167.0 301.6\" id=\"50,28\"></path><path d=\"M 160.9 263.8 L 151.5 295.2\" id=\"44,27\"></path><path d=\"M 160.9 263.8 L 137.2 286.5\" id=\"44,26\"></path><path d=\"M 151.2 241.6 L 124.4 275.6\" id=\"49,25\"></path><path d=\"M 151.2 241.6 L 113.5 262.8\" id=\"49,24\"></path><path d=\"M 140.8 224.5 L 104.8 248.5\" id=\"48,23\"></path><path d=\"M 140.8 224.5 L 98.4 233.0\" id=\"48,22\"></path><path d=\"M 168.0 202.5 L 94.4 216.7\" id=\"67,21\"></path><path d=\"M 168.0 202.5 L 93.1 200.0\" id=\"67,20\"></path><path d=\"M 168.8 192.5 L 94.4 183.3\" id=\"66,19\"></path><path d=\"M 168.8 192.5 L 98.4 167.0\" id=\"66,18\"></path><path d=\"M 163.5 177.7 L 104.8 151.5\" id=\"59,17\"></path><path d=\"M 163.5 177.7 L 113.5 137.2\" id=\"59,16\"></path><path d=\"M 174.8 165.5 L 124.4 124.4\" id=\"58,15\"></path><path d=\"M 175.5 152.5 L 137.2 113.5\" id=\"53,14\"></path><path d=\"M 179.6 139.2 L 151.5 104.8\" id=\"47,13\"></path><path d=\"M 186.8 126.3 L 167.0 98.4\" id=\"43,12\"></path><path d=\"M 196.6 114.6 L 183.3 94.4\" id=\"41,11\"></path><path d=\"M 207.5 104.1 L 200.0 93.1\" id=\"40,10\"></path><path d=\"M 207.5 104.1 L 216.7 94.4\" id=\"40,9\"></path><path d=\"M 216.4 160.5 L 233.0 98.4\" id=\"57,8\"></path><path d=\"M 216.4 160.5 L 248.5 104.8\" id=\"57,7\"></path><path d=\"M 236.3 160.8 L 262.8 113.5\" id=\"52,6\"></path><path d=\"M 248.8 158.4 L 275.6 124.4\" id=\"46,5\"></path><path d=\"M 248.8 158.4 L 286.5 137.2\" id=\"46,4\"></path><path d=\"M 250.5 182.5 L 295.2 151.5\" id=\"51,3\"></path><path d=\"M 262.9 187.5 L 301.6 167.0\" id=\"45,2\"></path><path d=\"M 274.6 194.1 L 305.6 183.3\" id=\"42,1\"></path><path d=\"M 274.6 194.1 L 306.9 200.0\" id=\"42,0\"></path></g><g class=\"toytree-Nodes\" style=\"fill:rgb(40%,76.1%,64.7%);fill-opacity:1.0;stroke:rgb(0%,0%,0%);stroke-opacity:1.0;stroke-width:1\"><g id=\"node-0\" transform=\"translate(306.879,200.000)\"><circle r=\"0.0\"></circle></g><g id=\"node-1\" transform=\"translate(305.564,183.280)\"><circle r=\"0.0\"></circle></g><g id=\"node-2\" transform=\"translate(301.648,166.972)\"><circle r=\"0.0\"></circle></g><g id=\"node-3\" transform=\"translate(295.230,151.478)\"><circle r=\"0.0\"></circle></g><g id=\"node-4\" transform=\"translate(286.467,137.178)\"><circle r=\"0.0\"></circle></g><g id=\"node-5\" transform=\"translate(275.575,124.425)\"><circle r=\"0.0\"></circle></g><g id=\"node-6\" transform=\"translate(262.822,113.533)\"><circle r=\"0.0\"></circle></g><g id=\"node-7\" transform=\"translate(248.522,104.770)\"><circle r=\"0.0\"></circle></g><g id=\"node-8\" transform=\"translate(233.028,98.352)\"><circle r=\"0.0\"></circle></g><g id=\"node-9\" transform=\"translate(216.720,94.436)\"><circle r=\"0.0\"></circle></g><g id=\"node-10\" transform=\"translate(200.000,93.121)\"><circle r=\"0.0\"></circle></g><g id=\"node-11\" transform=\"translate(183.280,94.436)\"><circle r=\"0.0\"></circle></g><g id=\"node-12\" transform=\"translate(166.972,98.352)\"><circle r=\"0.0\"></circle></g><g id=\"node-13\" transform=\"translate(151.478,104.770)\"><circle r=\"0.0\"></circle></g><g id=\"node-14\" transform=\"translate(137.178,113.533)\"><circle r=\"0.0\"></circle></g><g id=\"node-15\" transform=\"translate(124.425,124.425)\"><circle r=\"0.0\"></circle></g><g id=\"node-16\" transform=\"translate(113.533,137.178)\"><circle r=\"0.0\"></circle></g><g id=\"node-17\" transform=\"translate(104.770,151.478)\"><circle r=\"0.0\"></circle></g><g id=\"node-18\" transform=\"translate(98.352,166.972)\"><circle r=\"0.0\"></circle></g><g id=\"node-19\" transform=\"translate(94.436,183.280)\"><circle r=\"0.0\"></circle></g><g id=\"node-20\" transform=\"translate(93.121,200.000)\"><circle r=\"0.0\"></circle></g><g id=\"node-21\" transform=\"translate(94.436,216.720)\"><circle r=\"0.0\"></circle></g><g id=\"node-22\" transform=\"translate(98.352,233.028)\"><circle r=\"0.0\"></circle></g><g id=\"node-23\" transform=\"translate(104.770,248.522)\"><circle r=\"0.0\"></circle></g><g id=\"node-24\" transform=\"translate(113.533,262.822)\"><circle r=\"0.0\"></circle></g><g id=\"node-25\" transform=\"translate(124.425,275.575)\"><circle r=\"0.0\"></circle></g><g id=\"node-26\" transform=\"translate(137.178,286.467)\"><circle r=\"0.0\"></circle></g><g id=\"node-27\" transform=\"translate(151.478,295.230)\"><circle r=\"0.0\"></circle></g><g id=\"node-28\" transform=\"translate(166.972,301.648)\"><circle r=\"0.0\"></circle></g><g id=\"node-29\" transform=\"translate(183.280,305.564)\"><circle r=\"0.0\"></circle></g><g id=\"node-30\" transform=\"translate(200.000,306.879)\"><circle r=\"0.0\"></circle></g><g id=\"node-31\" transform=\"translate(216.720,305.564)\"><circle r=\"0.0\"></circle></g><g id=\"node-32\" transform=\"translate(233.028,301.648)\"><circle r=\"0.0\"></circle></g><g id=\"node-33\" transform=\"translate(248.522,295.230)\"><circle r=\"0.0\"></circle></g><g id=\"node-34\" transform=\"translate(262.822,286.467)\"><circle r=\"0.0\"></circle></g><g id=\"node-35\" transform=\"translate(275.575,275.575)\"><circle r=\"0.0\"></circle></g><g id=\"node-36\" transform=\"translate(286.467,262.822)\"><circle r=\"0.0\"></circle></g><g id=\"node-37\" transform=\"translate(295.230,248.522)\"><circle r=\"0.0\"></circle></g><g id=\"node-38\" transform=\"translate(301.648,233.028)\"><circle r=\"0.0\"></circle></g><g id=\"node-39\" transform=\"translate(305.564,216.720)\"><circle r=\"0.0\"></circle></g><g id=\"node-40\" transform=\"translate(207.547,104.105)\"><circle r=\"4.0\"></circle></g><g id=\"node-41\" transform=\"translate(196.643,114.562)\"><circle r=\"4.0\"></circle></g><g id=\"node-42\" transform=\"translate(274.585,194.130)\"><circle r=\"4.0\"></circle></g><g id=\"node-43\" transform=\"translate(186.848,126.350)\"><circle r=\"4.0\"></circle></g><g id=\"node-44\" transform=\"translate(160.909,263.791)\"><circle r=\"4.0\"></circle></g><g id=\"node-45\" transform=\"translate(262.895,187.489)\"><circle r=\"4.0\"></circle></g><g id=\"node-46\" transform=\"translate(248.763,158.352)\"><circle r=\"4.0\"></circle></g><g id=\"node-47\" transform=\"translate(179.586,139.208)\"><circle r=\"4.0\"></circle></g><g id=\"node-48\" transform=\"translate(140.754,224.541)\"><circle r=\"4.0\"></circle></g><g id=\"node-49\" transform=\"translate(151.237,241.648)\"><circle r=\"4.0\"></circle></g><g id=\"node-50\" transform=\"translate(173.152,258.237)\"><circle r=\"4.0\"></circle></g><g id=\"node-51\" transform=\"translate(250.490,182.492)\"><circle r=\"4.0\"></circle></g><g id=\"node-52\" transform=\"translate(236.275,160.758)\"><circle r=\"4.0\"></circle></g><g id=\"node-53\" transform=\"translate(175.505,152.505)\"><circle r=\"4.0\"></circle></g><g id=\"node-54\" transform=\"translate(154.435,227.922)\"><circle r=\"4.0\"></circle></g><g id=\"node-55\" transform=\"translate(184.487,251.139)\"><circle r=\"4.0\"></circle></g><g id=\"node-56\" transform=\"translate(235.778,176.598)\"><circle r=\"4.0\"></circle></g><g id=\"node-57\" transform=\"translate(216.360,160.502)\"><circle r=\"4.0\"></circle></g><g id=\"node-58\" transform=\"translate(174.786,165.475)\"><circle r=\"4.0\"></circle></g><g id=\"node-59\" transform=\"translate(163.548,177.662)\"><circle r=\"4.0\"></circle></g><g id=\"node-60\" transform=\"translate(173.864,233.832)\"><circle r=\"4.0\"></circle></g><g id=\"node-61\" transform=\"translate(203.354,242.620)\"><circle r=\"4.0\"></circle></g><g id=\"node-62\" transform=\"translate(216.360,239.498)\"><circle r=\"4.0\"></circle></g><g id=\"node-63\" transform=\"translate(232.509,227.765)\"><circle r=\"4.0\"></circle></g><g id=\"node-64\" transform=\"translate(220.463,175.314)\"><circle r=\"4.0\"></circle></g><g id=\"node-65\" transform=\"translate(176.428,178.264)\"><circle r=\"4.0\"></circle></g><g id=\"node-66\" transform=\"translate(168.822,192.515)\"><circle r=\"4.0\"></circle></g><g id=\"node-67\" transform=\"translate(168.035,202.516)\"><circle r=\"4.0\"></circle></g><g id=\"node-68\" transform=\"translate(190.843,230.729)\"><circle r=\"4.0\"></circle></g><g id=\"node-69\" transform=\"translate(215.667,227.976)\"><circle r=\"4.0\"></circle></g><g id=\"node-70\" transform=\"translate(226.660,217.814)\"><circle r=\"4.0\"></circle></g><g id=\"node-71\" transform=\"translate(231.178,207.485)\"><circle r=\"4.0\"></circle></g><g id=\"node-72\" transform=\"translate(198.571,178.672)\"><circle r=\"4.0\"></circle></g><g id=\"node-73\" transform=\"translate(178.690,198.323)\"><circle r=\"4.0\"></circle></g><g id=\"node-74\" transform=\"translate(202.356,221.246)\"><circle r=\"4.0\"></circle></g><g id=\"node-75\" transform=\"translate(219.584,208.566)\"><circle r=\"4.0\"></circle></g><g id=\"node-76\" transform=\"translate(192.487,192.399)\"><circle r=\"4.0\"></circle></g><g id=\"node-77\" transform=\"translate(206.335,208.608)\"><circle r=\"4.0\"></circle></g><g id=\"node-78\" transform=\"translate(200.000,200.000)\"><circle r=\"0.0\"></circle></g></g><g class=\"toytree-TipLabels\" style=\"fill:rgb(14.9%,14.9%,14.9%);fill-opacity:1.0;font-family:helvetica;font-size:11px;font-weight:normal;stroke:none;white-space:pre\"><g transform=\"translate(306.88,200.00)rotate(-0)\"><text style=\"\" x=\"15.00\" y=\"2.81\">r0</text></g><g transform=\"translate(305.56,183.28)rotate(-9)\"><text style=\"\" x=\"15.00\" y=\"2.81\">r1</text></g><g transform=\"translate(301.65,166.97)rotate(-18)\"><text style=\"\" x=\"15.00\" y=\"2.81\">r2</text></g><g transform=\"translate(295.23,151.48)rotate(-27)\"><text style=\"\" x=\"15.00\" y=\"2.81\">r3</text></g><g transform=\"translate(286.47,137.18)rotate(-36)\"><text style=\"\" x=\"15.00\" y=\"2.81\">r4</text></g><g transform=\"translate(275.58,124.42)rotate(-45)\"><text style=\"\" x=\"15.00\" y=\"2.81\">r5</text></g><g transform=\"translate(262.82,113.53)rotate(-54)\"><text style=\"\" x=\"15.00\" y=\"2.81\">r6</text></g><g transform=\"translate(248.52,104.77)rotate(-63)\"><text style=\"\" x=\"15.00\" y=\"2.81\">r7</text></g><g transform=\"translate(233.03,98.35)rotate(-72)\"><text style=\"\" x=\"15.00\" y=\"2.81\">r8</text></g><g transform=\"translate(216.72,94.44)rotate(-81)\"><text style=\"\" x=\"15.00\" y=\"2.81\">r9</text></g><g transform=\"translate(200.00,93.12)rotate(-90)\"><text style=\"\" x=\"15.00\" y=\"2.81\">r10</text></g><g transform=\"translate(183.28,94.44)rotate(81)\"><text style=\"\" x=\"-30.90\" y=\"2.81\">r11</text></g><g transform=\"translate(166.97,98.35)rotate(72)\"><text style=\"\" x=\"-30.90\" y=\"2.81\">r12</text></g><g transform=\"translate(151.48,104.77)rotate(63)\"><text style=\"\" x=\"-30.90\" y=\"2.81\">r13</text></g><g transform=\"translate(137.18,113.53)rotate(54)\"><text style=\"\" x=\"-30.90\" y=\"2.81\">r14</text></g><g transform=\"translate(124.42,124.42)rotate(45)\"><text style=\"\" x=\"-30.90\" y=\"2.81\">r15</text></g><g transform=\"translate(113.53,137.18)rotate(36)\"><text style=\"\" x=\"-30.90\" y=\"2.81\">r16</text></g><g transform=\"translate(104.77,151.48)rotate(27)\"><text style=\"\" x=\"-30.90\" y=\"2.81\">r17</text></g><g transform=\"translate(98.35,166.97)rotate(18)\"><text style=\"\" x=\"-30.90\" y=\"2.81\">r18</text></g><g transform=\"translate(94.44,183.28)rotate(9)\"><text style=\"\" x=\"-30.90\" y=\"2.81\">r19</text></g><g transform=\"translate(93.12,200.00)rotate(0)\"><text style=\"\" x=\"-30.90\" y=\"2.81\">r20</text></g><g transform=\"translate(94.44,216.72)rotate(-9)\"><text style=\"\" x=\"-30.90\" y=\"2.81\">r21</text></g><g transform=\"translate(98.35,233.03)rotate(-18)\"><text style=\"\" x=\"-30.90\" y=\"2.81\">r22</text></g><g transform=\"translate(104.77,248.52)rotate(-27)\"><text style=\"\" x=\"-30.90\" y=\"2.81\">r23</text></g><g transform=\"translate(113.53,262.82)rotate(-36)\"><text style=\"\" x=\"-30.90\" y=\"2.81\">r24</text></g><g transform=\"translate(124.42,275.58)rotate(-45)\"><text style=\"\" x=\"-30.90\" y=\"2.81\">r25</text></g><g transform=\"translate(137.18,286.47)rotate(-54)\"><text style=\"\" x=\"-30.90\" y=\"2.81\">r26</text></g><g transform=\"translate(151.48,295.23)rotate(-63)\"><text style=\"\" x=\"-30.90\" y=\"2.81\">r27</text></g><g transform=\"translate(166.97,301.65)rotate(-72)\"><text style=\"\" x=\"-30.90\" y=\"2.81\">r28</text></g><g transform=\"translate(183.28,305.56)rotate(-81)\"><text style=\"\" x=\"-30.90\" y=\"2.81\">r29</text></g><g transform=\"translate(200.00,306.88)rotate(-270)\"><text style=\"\" x=\"15.00\" y=\"2.81\">r30</text></g><g transform=\"translate(216.72,305.56)rotate(-279)\"><text style=\"\" x=\"15.00\" y=\"2.81\">r31</text></g><g transform=\"translate(233.03,301.65)rotate(-288)\"><text style=\"\" x=\"15.00\" y=\"2.81\">r32</text></g><g transform=\"translate(248.52,295.23)rotate(-297)\"><text style=\"\" x=\"15.00\" y=\"2.81\">r33</text></g><g transform=\"translate(262.82,286.47)rotate(-306)\"><text style=\"\" x=\"15.00\" y=\"2.81\">r34</text></g><g transform=\"translate(275.58,275.58)rotate(-315)\"><text style=\"\" x=\"15.00\" y=\"2.81\">r35</text></g><g transform=\"translate(286.47,262.82)rotate(-324)\"><text style=\"\" x=\"15.00\" y=\"2.81\">r36</text></g><g transform=\"translate(295.23,248.52)rotate(-333)\"><text style=\"\" x=\"15.00\" y=\"2.81\">r37</text></g><g transform=\"translate(301.65,233.03)rotate(-342)\"><text style=\"\" x=\"15.00\" y=\"2.81\">r38</text></g><g transform=\"translate(305.56,216.72)rotate(-351)\"><text style=\"\" x=\"15.00\" y=\"2.81\">r39</text></g></g></g></g></g></svg><div class=\"toyplot-behavior\"><script>(function()\n",
       "{\n",
       "var modules={};\n",
       "})();</script></div></div>"
      ]
     },
     "metadata": {},
     "output_type": "display_data"
    }
   ],
   "source": [
    "ttre = toytree.rtree.unittree(40, seed=123)\n",
    "ttre.draw(\n",
    "    layout='c', \n",
    "    edge_type='c',\n",
    "    node_sizes=[8 if i else 0 for i in ttre.get_node_values()],\n",
    "    node_style={\"stroke\": \"black\"},\n",
    "    width=400,\n",
    "    height=400,\n",
    ");"
   ]
  },
  {
   "cell_type": "code",
   "execution_count": null,
   "metadata": {},
   "outputs": [
    {
     "data": {
      "text/html": [
       "<div class=\"toyplot\" id=\"t04115b9ea2864eceaf393a3b268d0d9b\" style=\"text-align:center\"><svg class=\"toyplot-canvas-Canvas\" height=\"400.0px\" id=\"tffd5c3b76e7f4dfa9dc007c9058505d0\" preserveAspectRatio=\"xMidYMid meet\" style=\"background-color:transparent;border-color:#292724;border-style:none;border-width:1.0;fill:rgb(16.1%,15.3%,14.1%);fill-opacity:1.0;font-family:Helvetica;font-size:12px;opacity:1.0;stroke:rgb(16.1%,15.3%,14.1%);stroke-opacity:1.0;stroke-width:1.0\" viewBox=\"0 0 400.0 400.0\" width=\"400.0px\" xmlns=\"http://www.w3.org/2000/svg\" xmlns:toyplot=\"http://www.sandia.gov/toyplot\" xmlns:xlink=\"http://www.w3.org/1999/xlink\"><g class=\"toyplot-coordinates-Cartesian\" id=\"t583ab586f57b497aa617acbda54430a5\"><clipPath id=\"t82ec2edf4a7643c6a3490ba3b420f518\"><rect height=\"340.0\" width=\"340.0\" x=\"30.0\" y=\"30.0\"></rect></clipPath><g clip-path=\"url(#t82ec2edf4a7643c6a3490ba3b420f518)\"><g class=\"toytree-mark-Toytree\" id=\"tdf3d7ce8ca494904a500b31598bea106\"><g class=\"toytree-Edges\" style=\"fill:none;stroke:rgb(14.9%,14.9%,14.9%);stroke-linecap:round;stroke-opacity:1;stroke-width:2\"><path d=\"M 206.3 208.6 L 200.0 200.0 A -0.0 -0.0 0 0 0 200.0 200.0\" id=\"78,77\"></path><path d=\"M 192.5 192.4 L 200.0 200.0 A -0.0 -0.0 0 0 1 200.0 200.0\" id=\"78,76\"></path><path d=\"M 219.6 208.6 L 209.8 204.3 A 10.7 10.7 0 0 1 206.3 208.6\" id=\"77,75\"></path><path d=\"M 202.4 221.2 L 201.2 210.6 A 10.7 10.7 0 0 0 206.3 208.6\" id=\"77,74\"></path><path d=\"M 178.7 198.3 L 189.3 199.2 A 10.7 10.7 0 0 1 192.5 192.4\" id=\"76,73\"></path><path d=\"M 198.6 178.7 L 199.3 189.3 A 10.7 10.7 0 0 0 192.5 192.4\" id=\"76,72\"></path><path d=\"M 231.2 207.5 L 220.8 205.0 A 21.4 21.4 0 0 1 219.6 208.6\" id=\"75,71\"></path><path d=\"M 226.7 217.8 L 217.8 211.9 A 21.4 21.4 0 0 0 219.6 208.6\" id=\"75,70\"></path><path d=\"M 215.7 228.0 L 210.4 218.7 A 21.4 21.4 0 0 1 202.4 221.2\" id=\"74,69\"></path><path d=\"M 190.8 230.7 L 193.9 220.5 A 21.4 21.4 0 0 0 202.4 221.2\" id=\"74,68\"></path><path d=\"M 168.0 202.5 L 178.7 201.7 A 21.4 21.4 0 0 1 178.7 198.3\" id=\"73,67\"></path><path d=\"M 168.8 192.5 L 179.2 195.0 A 21.4 21.4 0 0 0 178.7 198.3\" id=\"73,66\"></path><path d=\"M 176.4 178.3 L 184.3 185.5 A 21.4 21.4 0 0 1 198.6 178.7\" id=\"72,65\"></path><path d=\"M 220.5 175.3 L 213.6 183.5 A 21.4 21.4 0 0 0 198.6 178.7\" id=\"72,64\"></path><path d=\"M 232.5 227.8 L 224.4 220.8 A 32.1 32.1 0 0 0 226.7 217.8\" id=\"70,63\"></path><path d=\"M 216.4 239.5 L 212.3 229.6 A 32.1 32.1 0 0 0 215.7 228.0\" id=\"69,62\"></path><path d=\"M 203.4 242.6 L 202.5 232.0 A 32.1 32.1 0 0 1 190.8 230.7\" id=\"68,61\"></path><path d=\"M 173.9 233.8 L 180.4 225.4 A 32.1 32.1 0 0 0 190.8 230.7\" id=\"68,60\"></path><path d=\"M 163.5 177.7 L 172.7 183.2 A 32.1 32.1 0 0 1 176.4 178.3\" id=\"65,59\"></path><path d=\"M 174.8 165.5 L 181.1 174.1 A 32.1 32.1 0 0 0 176.4 178.3\" id=\"65,58\"></path><path d=\"M 216.4 160.5 L 212.3 170.4 A 32.1 32.1 0 0 1 220.5 175.3\" id=\"64,57\"></path><path d=\"M 235.8 176.6 L 226.8 182.4 A 32.1 32.1 0 0 0 220.5 175.3\" id=\"64,56\"></path><path d=\"M 184.5 251.1 L 187.6 240.9 A 42.8 42.8 0 0 1 173.9 233.8\" id=\"60,55\"></path><path d=\"M 154.4 227.9 L 163.5 222.3 A 42.8 42.8 0 0 0 173.9 233.8\" id=\"60,54\"></path><path d=\"M 175.5 152.5 L 180.4 162.0 A 42.8 42.8 0 0 0 174.8 165.5\" id=\"58,53\"></path><path d=\"M 236.3 160.8 L 229.0 168.6 A 42.8 42.8 0 0 1 235.8 176.6\" id=\"56,52\"></path><path d=\"M 250.5 182.5 L 240.4 186.0 A 42.8 42.8 0 0 0 235.8 176.6\" id=\"56,51\"></path><path d=\"M 173.2 258.2 L 177.6 248.5 A 53.4 53.4 0 0 0 184.5 251.1\" id=\"55,50\"></path><path d=\"M 151.2 241.6 L 159.4 234.7 A 53.4 53.4 0 0 1 154.4 227.9\" id=\"54,49\"></path><path d=\"M 140.8 224.5 L 150.6 220.5 A 53.4 53.4 0 0 0 154.4 227.9\" id=\"54,48\"></path><path d=\"M 179.6 139.2 L 183.0 149.3 A 53.4 53.4 0 0 0 175.5 152.5\" id=\"53,47\"></path><path d=\"M 248.8 158.4 L 240.6 165.3 A 53.4 53.4 0 0 0 236.3 160.8\" id=\"52,46\"></path><path d=\"M 262.9 187.5 L 252.4 189.6 A 53.4 53.4 0 0 0 250.5 182.5\" id=\"51,45\"></path><path d=\"M 160.9 263.8 L 166.5 254.7 A 64.1 64.1 0 0 0 173.2 258.2\" id=\"50,44\"></path><path d=\"M 186.8 126.3 L 188.7 136.9 A 64.1 64.1 0 0 0 179.6 139.2\" id=\"47,43\"></path><path d=\"M 274.6 194.1 L 263.9 195.0 A 64.1 64.1 0 0 0 262.9 187.5\" id=\"45,42\"></path><path d=\"M 196.6 114.6 L 197.1 125.2 A 74.8 74.8 0 0 0 186.8 126.3\" id=\"43,41\"></path><path d=\"M 207.5 104.1 L 206.7 114.8 A 85.5 85.5 0 0 0 196.6 114.6\" id=\"41,40\"></path><path d=\"M 305.6 216.7 L 231.7 205.0 A 32.1 32.1 0 0 1 231.2 207.5\" id=\"71,39\"></path><path d=\"M 301.6 233.0 L 230.5 209.9 A 32.1 32.1 0 0 0 231.2 207.5\" id=\"71,38\"></path><path d=\"M 295.2 248.5 L 228.6 214.6 A 32.1 32.1 0 0 1 226.7 217.8\" id=\"70,37\"></path><path d=\"M 286.5 262.8 L 234.6 225.1 A 42.8 42.8 0 0 1 232.5 227.8\" id=\"63,36\"></path><path d=\"M 275.6 275.6 L 230.2 230.2 A 42.8 42.8 0 0 0 232.5 227.8\" id=\"63,35\"></path><path d=\"M 262.8 286.5 L 218.8 225.9 A 32.1 32.1 0 0 1 215.7 228.0\" id=\"69,34\"></path><path d=\"M 248.5 295.2 L 219.4 238.1 A 42.8 42.8 0 0 1 216.4 239.5\" id=\"62,33\"></path><path d=\"M 233.0 301.6 L 213.2 240.7 A 42.8 42.8 0 0 0 216.4 239.5\" id=\"62,32\"></path><path d=\"M 216.7 305.6 L 206.7 242.2 A 42.8 42.8 0 0 1 203.4 242.6\" id=\"61,31\"></path><path d=\"M 200.0 306.9 L 200.0 242.8 A 42.8 42.8 0 0 0 203.4 242.6\" id=\"61,30\"></path><path d=\"M 183.3 305.6 L 191.6 252.8 A 53.4 53.4 0 0 1 184.5 251.1\" id=\"55,29\"></path><path d=\"M 167.0 301.6 L 180.2 261.0 A 64.1 64.1 0 0 1 173.2 258.2\" id=\"50,28\"></path><path d=\"M 151.5 295.2 L 166.0 266.7 A 74.8 74.8 0 0 1 160.9 263.8\" id=\"44,27\"></path><path d=\"M 137.2 286.5 L 156.0 260.5 A 74.8 74.8 0 0 0 160.9 263.8\" id=\"44,26\"></path><path d=\"M 124.4 275.6 L 154.7 245.3 A 64.1 64.1 0 0 1 151.2 241.6\" id=\"49,25\"></path><path d=\"M 113.5 262.8 L 148.1 237.7 A 64.1 64.1 0 0 0 151.2 241.6\" id=\"49,24\"></path><path d=\"M 104.8 248.5 L 142.9 229.1 A 64.1 64.1 0 0 1 140.8 224.5\" id=\"48,23\"></path><path d=\"M 98.4 233.0 L 139.0 219.8 A 64.1 64.1 0 0 0 140.8 224.5\" id=\"48,22\"></path><path d=\"M 94.4 216.7 L 168.3 205.0 A 32.1 32.1 0 0 1 168.0 202.5\" id=\"67,21\"></path><path d=\"M 93.1 200.0 L 167.9 200.0 A 32.1 32.1 0 0 0 168.0 202.5\" id=\"67,20\"></path><path d=\"M 94.4 183.3 L 168.3 195.0 A 32.1 32.1 0 0 1 168.8 192.5\" id=\"66,19\"></path><path d=\"M 98.4 167.0 L 169.5 190.1 A 32.1 32.1 0 0 0 168.8 192.5\" id=\"66,18\"></path><path d=\"M 104.8 151.5 L 161.9 180.6 A 42.8 42.8 0 0 1 163.5 177.7\" id=\"59,17\"></path><path d=\"M 113.5 137.2 L 165.4 174.9 A 42.8 42.8 0 0 0 163.5 177.7\" id=\"59,16\"></path><path d=\"M 124.4 124.4 L 169.8 169.8 A 42.8 42.8 0 0 1 174.8 165.5\" id=\"58,15\"></path><path d=\"M 137.2 113.5 L 168.6 156.8 A 53.4 53.4 0 0 1 175.5 152.5\" id=\"53,14\"></path><path d=\"M 151.5 104.8 L 170.9 142.9 A 64.1 64.1 0 0 1 179.6 139.2\" id=\"47,13\"></path><path d=\"M 167.0 98.4 L 176.9 128.8 A 74.8 74.8 0 0 1 186.8 126.3\" id=\"43,12\"></path><path d=\"M 183.3 94.4 L 186.6 115.5 A 85.5 85.5 0 0 1 196.6 114.6\" id=\"41,11\"></path><path d=\"M 200.0 93.1 L 200.0 103.8 A 96.2 96.2 0 0 1 207.5 104.1\" id=\"40,10\"></path><path d=\"M 216.7 94.4 L 215.0 105.0 A 96.2 96.2 0 0 0 207.5 104.1\" id=\"40,9\"></path><path d=\"M 233.0 98.4 L 213.2 159.3 A 42.8 42.8 0 0 1 216.4 160.5\" id=\"57,8\"></path><path d=\"M 248.5 104.8 L 219.4 161.9 A 42.8 42.8 0 0 0 216.4 160.5\" id=\"57,7\"></path><path d=\"M 262.8 113.5 L 231.4 156.8 A 53.4 53.4 0 0 1 236.3 160.8\" id=\"52,6\"></path><path d=\"M 275.6 124.4 L 245.3 154.7 A 64.1 64.1 0 0 1 248.8 158.4\" id=\"46,5\"></path><path d=\"M 286.5 137.2 L 251.9 162.3 A 64.1 64.1 0 0 0 248.8 158.4\" id=\"46,4\"></path><path d=\"M 295.2 151.5 L 247.6 175.7 A 53.4 53.4 0 0 1 250.5 182.5\" id=\"51,3\"></path><path d=\"M 301.6 167.0 L 261.0 180.2 A 64.1 64.1 0 0 1 262.9 187.5\" id=\"45,2\"></path><path d=\"M 305.6 183.3 L 273.9 188.3 A 74.8 74.8 0 0 1 274.6 194.1\" id=\"42,1\"></path><path d=\"M 306.9 200.0 L 274.8 200.0 A 74.8 74.8 0 0 0 274.6 194.1\" id=\"42,0\"></path></g><g class=\"toytree-TipLabels\" style=\"fill:rgb(14.9%,14.9%,14.9%);fill-opacity:1.0;font-family:helvetica;font-size:11px;font-weight:normal;stroke:none;white-space:pre\"><g transform=\"translate(306.88,200.00)rotate(-0)\"><text style=\"\" x=\"15.00\" y=\"2.81\">r0</text></g><g transform=\"translate(305.56,183.28)rotate(-9)\"><text style=\"\" x=\"15.00\" y=\"2.81\">r1</text></g><g transform=\"translate(301.65,166.97)rotate(-18)\"><text style=\"\" x=\"15.00\" y=\"2.81\">r2</text></g><g transform=\"translate(295.23,151.48)rotate(-27)\"><text style=\"\" x=\"15.00\" y=\"2.81\">r3</text></g><g transform=\"translate(286.47,137.18)rotate(-36)\"><text style=\"\" x=\"15.00\" y=\"2.81\">r4</text></g><g transform=\"translate(275.58,124.42)rotate(-45)\"><text style=\"\" x=\"15.00\" y=\"2.81\">r5</text></g><g transform=\"translate(262.82,113.53)rotate(-54)\"><text style=\"\" x=\"15.00\" y=\"2.81\">r6</text></g><g transform=\"translate(248.52,104.77)rotate(-63)\"><text style=\"\" x=\"15.00\" y=\"2.81\">r7</text></g><g transform=\"translate(233.03,98.35)rotate(-72)\"><text style=\"\" x=\"15.00\" y=\"2.81\">r8</text></g><g transform=\"translate(216.72,94.44)rotate(-81)\"><text style=\"\" x=\"15.00\" y=\"2.81\">r9</text></g><g transform=\"translate(200.00,93.12)rotate(-90)\"><text style=\"\" x=\"15.00\" y=\"2.81\">r10</text></g><g transform=\"translate(183.28,94.44)rotate(81)\"><text style=\"\" x=\"-30.90\" y=\"2.81\">r11</text></g><g transform=\"translate(166.97,98.35)rotate(72)\"><text style=\"\" x=\"-30.90\" y=\"2.81\">r12</text></g><g transform=\"translate(151.48,104.77)rotate(63)\"><text style=\"\" x=\"-30.90\" y=\"2.81\">r13</text></g><g transform=\"translate(137.18,113.53)rotate(54)\"><text style=\"\" x=\"-30.90\" y=\"2.81\">r14</text></g><g transform=\"translate(124.42,124.42)rotate(45)\"><text style=\"\" x=\"-30.90\" y=\"2.81\">r15</text></g><g transform=\"translate(113.53,137.18)rotate(36)\"><text style=\"\" x=\"-30.90\" y=\"2.81\">r16</text></g><g transform=\"translate(104.77,151.48)rotate(27)\"><text style=\"\" x=\"-30.90\" y=\"2.81\">r17</text></g><g transform=\"translate(98.35,166.97)rotate(18)\"><text style=\"\" x=\"-30.90\" y=\"2.81\">r18</text></g><g transform=\"translate(94.44,183.28)rotate(9)\"><text style=\"\" x=\"-30.90\" y=\"2.81\">r19</text></g><g transform=\"translate(93.12,200.00)rotate(0)\"><text style=\"\" x=\"-30.90\" y=\"2.81\">r20</text></g><g transform=\"translate(94.44,216.72)rotate(-9)\"><text style=\"\" x=\"-30.90\" y=\"2.81\">r21</text></g><g transform=\"translate(98.35,233.03)rotate(-18)\"><text style=\"\" x=\"-30.90\" y=\"2.81\">r22</text></g><g transform=\"translate(104.77,248.52)rotate(-27)\"><text style=\"\" x=\"-30.90\" y=\"2.81\">r23</text></g><g transform=\"translate(113.53,262.82)rotate(-36)\"><text style=\"\" x=\"-30.90\" y=\"2.81\">r24</text></g><g transform=\"translate(124.42,275.58)rotate(-45)\"><text style=\"\" x=\"-30.90\" y=\"2.81\">r25</text></g><g transform=\"translate(137.18,286.47)rotate(-54)\"><text style=\"\" x=\"-30.90\" y=\"2.81\">r26</text></g><g transform=\"translate(151.48,295.23)rotate(-63)\"><text style=\"\" x=\"-30.90\" y=\"2.81\">r27</text></g><g transform=\"translate(166.97,301.65)rotate(-72)\"><text style=\"\" x=\"-30.90\" y=\"2.81\">r28</text></g><g transform=\"translate(183.28,305.56)rotate(-81)\"><text style=\"\" x=\"-30.90\" y=\"2.81\">r29</text></g><g transform=\"translate(200.00,306.88)rotate(-270)\"><text style=\"\" x=\"15.00\" y=\"2.81\">r30</text></g><g transform=\"translate(216.72,305.56)rotate(-279)\"><text style=\"\" x=\"15.00\" y=\"2.81\">r31</text></g><g transform=\"translate(233.03,301.65)rotate(-288)\"><text style=\"\" x=\"15.00\" y=\"2.81\">r32</text></g><g transform=\"translate(248.52,295.23)rotate(-297)\"><text style=\"\" x=\"15.00\" y=\"2.81\">r33</text></g><g transform=\"translate(262.82,286.47)rotate(-306)\"><text style=\"\" x=\"15.00\" y=\"2.81\">r34</text></g><g transform=\"translate(275.58,275.58)rotate(-315)\"><text style=\"\" x=\"15.00\" y=\"2.81\">r35</text></g><g transform=\"translate(286.47,262.82)rotate(-324)\"><text style=\"\" x=\"15.00\" y=\"2.81\">r36</text></g><g transform=\"translate(295.23,248.52)rotate(-333)\"><text style=\"\" x=\"15.00\" y=\"2.81\">r37</text></g><g transform=\"translate(301.65,233.03)rotate(-342)\"><text style=\"\" x=\"15.00\" y=\"2.81\">r38</text></g><g transform=\"translate(305.56,216.72)rotate(-351)\"><text style=\"\" x=\"15.00\" y=\"2.81\">r39</text></g></g></g></g></g></svg><div class=\"toyplot-behavior\"><script>(function()\n",
       "{\n",
       "var modules={};\n",
       "})();</script></div></div>"
      ]
     },
     "metadata": {},
     "output_type": "display_data"
    }
   ],
   "source": [
    "ttre = toytree.rtree.unittree(40, seed=123)\n",
    "ttre.draw(\n",
    "    layout='c', \n",
    "    edge_type='p',\n",
    "    width=400,\n",
    "    height=400,\n",
    ");"
   ]
  },
  {
   "cell_type": "markdown",
   "metadata": {},
   "source": [
    "### Aligned Edge Styling"
   ]
  },
  {
   "cell_type": "markdown",
   "metadata": {},
   "source": [
    "#### edge_align_style\n",
    "\n",
    "**Type:**  \n",
    "**Allowed:**  \n",
    "**Default:**  \n",
    "**Description:**  \n",
    "\n"
   ]
  },
  {
   "cell_type": "code",
   "execution_count": null,
   "metadata": {},
   "outputs": [
    {
     "data": {
      "text/html": [
       "<div class=\"toyplot\" id=\"t6e518779c40349649d2a05f8d064f1e2\" style=\"text-align:center\"><svg class=\"toyplot-canvas-Canvas\" height=\"275.0px\" id=\"te0e7f9e8978340b8b05b57c0bc152674\" preserveAspectRatio=\"xMidYMid meet\" style=\"background-color:transparent;border-color:#292724;border-style:none;border-width:1.0;fill:rgb(16.1%,15.3%,14.1%);fill-opacity:1.0;font-family:Helvetica;font-size:12px;opacity:1.0;stroke:rgb(16.1%,15.3%,14.1%);stroke-opacity:1.0;stroke-width:1.0\" viewBox=\"0 0 360.0 275.0\" width=\"360.0px\" xmlns=\"http://www.w3.org/2000/svg\" xmlns:toyplot=\"http://www.sandia.gov/toyplot\" xmlns:xlink=\"http://www.w3.org/1999/xlink\"><g class=\"toyplot-coordinates-Cartesian\" id=\"t9bc3d089dfed490995df16974bbc3655\"><clipPath id=\"t1ed77c2390404952bd1e8e9405e0c0a3\"><rect height=\"215.0\" width=\"300.0\" x=\"30.0\" y=\"30.0\"></rect></clipPath><g clip-path=\"url(#t1ed77c2390404952bd1e8e9405e0c0a3)\"><g class=\"toytree-mark-Toytree\" id=\"t27a377b82c7544aa9f603e9cdaee1e02\"><g class=\"toytree-Edges\" style=\"fill:none;stroke:rgb(14.9%,14.9%,14.9%);stroke-linecap:round;stroke-opacity:1;stroke-width:2\"><path d=\"M 51.1 98.2 L 51.1 67.4 L 129.6 67.4\" id=\"24,23\"></path><path d=\"M 51.1 98.2 L 51.1 128.9 L 129.6 128.9\" id=\"24,22\"></path><path d=\"M 129.6 128.9 L 129.6 105.6 L 142.7 105.6\" id=\"22,21\"></path><path d=\"M 129.6 128.9 L 129.6 152.2 L 153.2 152.2\" id=\"22,20\"></path><path d=\"M 142.7 105.6 L 142.7 92.9 L 153.1 92.9\" id=\"21,19\"></path><path d=\"M 142.7 105.6 L 142.7 118.4 L 183.9 118.4\" id=\"21,18\"></path><path d=\"M 153.2 152.2 L 153.2 167.0 L 157.8 167.0\" id=\"20,17\"></path><path d=\"M 157.8 167.0 L 157.8 183.7 L 161.2 183.7\" id=\"17,16\"></path><path d=\"M 161.2 183.7 L 161.2 169.4 L 170.9 169.4\" id=\"16,15\"></path><path d=\"M 161.2 183.7 L 161.2 198.1 L 164.4 198.1\" id=\"16,14\"></path><path d=\"M 164.4 198.1 L 164.4 207.6 L 191.5 207.6\" id=\"14,13\"></path><path d=\"M 129.6 67.4 L 129.6 61.0 L 141.0 61.0\" id=\"23,12\"></path><path d=\"M 129.6 67.4 L 129.6 73.8 L 140.5 73.8\" id=\"23,11\"></path><path d=\"M 153.1 92.9 L 153.1 86.5 L 180.9 86.5\" id=\"19,10\"></path><path d=\"M 153.1 92.9 L 153.1 99.3 L 182.4 99.3\" id=\"19,9\"></path><path d=\"M 183.9 118.4 L 183.9 112.0 L 184.3 112.0\" id=\"18,8\"></path><path d=\"M 183.9 118.4 L 183.9 124.8 L 184.1 124.8\" id=\"18,7\"></path><path d=\"M 153.2 152.2 L 153.2 137.5 L 178.0 137.5\" id=\"20,6\"></path><path d=\"M 157.8 167.0 L 157.8 150.2 L 186.3 150.2\" id=\"17,5\"></path><path d=\"M 170.9 169.4 L 170.9 163.0 L 185.6 163.0\" id=\"15,4\"></path><path d=\"M 170.9 169.4 L 170.9 175.7 L 185.8 175.7\" id=\"15,3\"></path><path d=\"M 164.4 198.1 L 164.4 188.5 L 189.8 188.5\" id=\"14,2\"></path><path d=\"M 191.5 207.6 L 191.5 201.2 L 195.7 201.2\" id=\"13,1\"></path><path d=\"M 191.5 207.6 L 191.5 214.0 L 196.2 214.0\" id=\"13,0\"></path></g><g class=\"toytree-AlignEdges\" style=\"stroke:rgb(93.3%,51%,93.3%);stroke-dasharray:2,5;stroke-linecap:round;stroke-opacity:1.0;stroke-width:1.5\"><path d=\"M 196.2 214.0 L 196.2 214.0\"></path><path d=\"M 196.2 201.2 L 195.7 201.2\"></path><path d=\"M 196.2 188.5 L 189.8 188.5\"></path><path d=\"M 196.2 175.7 L 185.8 175.7\"></path><path d=\"M 196.2 163.0 L 185.6 163.0\"></path><path d=\"M 196.2 150.2 L 186.3 150.2\"></path><path d=\"M 196.2 137.5 L 178.0 137.5\"></path><path d=\"M 196.2 124.8 L 184.1 124.8\"></path><path d=\"M 196.2 112.0 L 184.3 112.0\"></path><path d=\"M 196.2 99.3 L 182.4 99.3\"></path><path d=\"M 196.2 86.5 L 180.9 86.5\"></path><path d=\"M 196.2 73.8 L 140.5 73.8\"></path><path d=\"M 196.2 61.0 L 141.0 61.0\"></path></g><g class=\"toytree-TipLabels\" style=\"fill:rgb(14.9%,14.9%,14.9%);fill-opacity:1.0;font-family:helvetica;font-size:11px;font-weight:normal;stroke:none;white-space:pre\"><g transform=\"translate(196.23,213.99)rotate(0)\"><text style=\"\" x=\"15.00\" y=\"2.81\">38362_rex</text></g><g transform=\"translate(196.23,201.24)rotate(0)\"><text style=\"\" x=\"15.00\" y=\"2.81\">39618_rex</text></g><g transform=\"translate(196.23,188.49)rotate(0)\"><text style=\"\" x=\"15.00\" y=\"2.81\">35236_rex</text></g><g transform=\"translate(196.23,175.74)rotate(0)\"><text style=\"\" x=\"15.00\" y=\"2.81\">35855_rex</text></g><g transform=\"translate(196.23,163.00)rotate(0)\"><text style=\"\" x=\"15.00\" y=\"2.81\">40578_rex</text></g><g transform=\"translate(196.23,150.25)rotate(0)\"><text style=\"\" x=\"15.00\" y=\"2.81\">30556_thamno</text></g><g transform=\"translate(196.23,137.50)rotate(0)\"><text style=\"\" x=\"15.00\" y=\"2.81\">33413_thamno</text></g><g transform=\"translate(196.23,124.75)rotate(0)\"><text style=\"\" x=\"15.00\" y=\"2.81\">41478_cyathophylloides</text></g><g transform=\"translate(196.23,112.00)rotate(0)\"><text style=\"\" x=\"15.00\" y=\"2.81\">41954_cyathophylloides</text></g><g transform=\"translate(196.23,99.26)rotate(0)\"><text style=\"\" x=\"15.00\" y=\"2.81\">30686_cyathophylla</text></g><g transform=\"translate(196.23,86.51)rotate(0)\"><text style=\"\" x=\"15.00\" y=\"2.81\">29154_superba</text></g><g transform=\"translate(196.23,73.76)rotate(0)\"><text style=\"\" x=\"15.00\" y=\"2.81\">33588_przewalskii</text></g><g transform=\"translate(196.23,61.01)rotate(0)\"><text style=\"\" x=\"15.00\" y=\"2.81\">32082_przewalskii</text></g></g></g></g></g></svg><div class=\"toyplot-behavior\"><script>(function()\n",
       "{\n",
       "var modules={};\n",
       "})();</script></div></div>"
      ]
     },
     "metadata": {},
     "output_type": "display_data"
    }
   ],
   "source": [
    "rtre.draw(\n",
    "    tip_labels_align=True, \n",
    "    edge_align_style={\n",
    "        \"stroke\": \"violet\",\n",
    "        \"stroke-width\": 1.5,\n",
    "        \"stroke-dasharray\": \"2,5\"    # size of dash, spacing of dashes\n",
    "    });"
   ]
  },
  {
   "cell_type": "markdown",
   "metadata": {},
   "source": [
    "### Styles"
   ]
  },
  {
   "cell_type": "code",
   "execution_count": null,
   "metadata": {},
   "outputs": [
    {
     "data": {
      "text/html": [
       "<div class=\"toyplot\" id=\"t23c0f63c22c649c5be07062606ce835f\" style=\"text-align:center\"><svg class=\"toyplot-canvas-Canvas\" height=\"275.0px\" id=\"t82eb31d9def648a19579c4edbad3d7c8\" preserveAspectRatio=\"xMidYMid meet\" style=\"background-color:transparent;border-color:#292724;border-style:none;border-width:1.0;fill:rgb(16.1%,15.3%,14.1%);fill-opacity:1.0;font-family:Helvetica;font-size:12px;opacity:1.0;stroke:rgb(16.1%,15.3%,14.1%);stroke-opacity:1.0;stroke-width:1.0\" viewBox=\"0 0 360.0 275.0\" width=\"360.0px\" xmlns=\"http://www.w3.org/2000/svg\" xmlns:toyplot=\"http://www.sandia.gov/toyplot\" xmlns:xlink=\"http://www.w3.org/1999/xlink\"><g class=\"toyplot-coordinates-Cartesian\" id=\"t73dcfbe264254587ab2337c0be1bcb9f\"><clipPath id=\"t36b73b87d8cf435587b050f97a81eb41\"><rect height=\"215.0\" width=\"300.0\" x=\"30.0\" y=\"30.0\"></rect></clipPath><g clip-path=\"url(#t36b73b87d8cf435587b050f97a81eb41)\"><g class=\"toytree-mark-Toytree\" id=\"t55bda909fc274c4d9d522850cffa9c93\"><g class=\"toytree-Edges\" style=\"fill:none;stroke:rgb(14.9%,14.9%,14.9%);stroke-linecap:round;stroke-opacity:1;stroke-width:2\"><path d=\"M 51.1 98.2 L 51.1 67.4 L 129.6 67.4\" id=\"24,23\"></path><path d=\"M 51.1 98.2 L 51.1 128.9 L 129.6 128.9\" id=\"24,22\"></path><path d=\"M 129.6 128.9 L 129.6 105.6 L 142.7 105.6\" id=\"22,21\"></path><path d=\"M 129.6 128.9 L 129.6 152.2 L 153.2 152.2\" id=\"22,20\"></path><path d=\"M 142.7 105.6 L 142.7 92.9 L 153.1 92.9\" id=\"21,19\"></path><path d=\"M 142.7 105.6 L 142.7 118.4 L 183.9 118.4\" id=\"21,18\"></path><path d=\"M 153.2 152.2 L 153.2 167.0 L 157.8 167.0\" id=\"20,17\"></path><path d=\"M 157.8 167.0 L 157.8 183.7 L 161.2 183.7\" id=\"17,16\"></path><path d=\"M 161.2 183.7 L 161.2 169.4 L 170.9 169.4\" id=\"16,15\"></path><path d=\"M 161.2 183.7 L 161.2 198.1 L 164.4 198.1\" id=\"16,14\"></path><path d=\"M 164.4 198.1 L 164.4 207.6 L 191.5 207.6\" id=\"14,13\"></path><path d=\"M 129.6 67.4 L 129.6 61.0 L 141.0 61.0\" id=\"23,12\"></path><path d=\"M 129.6 67.4 L 129.6 73.8 L 140.5 73.8\" id=\"23,11\"></path><path d=\"M 153.1 92.9 L 153.1 86.5 L 180.9 86.5\" id=\"19,10\"></path><path d=\"M 153.1 92.9 L 153.1 99.3 L 182.4 99.3\" id=\"19,9\"></path><path d=\"M 183.9 118.4 L 183.9 112.0 L 184.3 112.0\" id=\"18,8\"></path><path d=\"M 183.9 118.4 L 183.9 124.8 L 184.1 124.8\" id=\"18,7\"></path><path d=\"M 153.2 152.2 L 153.2 137.5 L 178.0 137.5\" id=\"20,6\"></path><path d=\"M 157.8 167.0 L 157.8 150.2 L 186.3 150.2\" id=\"17,5\"></path><path d=\"M 170.9 169.4 L 170.9 163.0 L 185.6 163.0\" id=\"15,4\"></path><path d=\"M 170.9 169.4 L 170.9 175.7 L 185.8 175.7\" id=\"15,3\"></path><path d=\"M 164.4 198.1 L 164.4 188.5 L 189.8 188.5\" id=\"14,2\"></path><path d=\"M 191.5 207.6 L 191.5 201.2 L 195.7 201.2\" id=\"13,1\"></path><path d=\"M 191.5 207.6 L 191.5 214.0 L 196.2 214.0\" id=\"13,0\"></path></g><g class=\"toytree-TipLabels\" style=\"fill:rgb(14.9%,14.9%,14.9%);fill-opacity:1.0;font-family:helvetica;font-size:11px;font-weight:normal;stroke:none;white-space:pre\"><g transform=\"translate(196.23,213.99)rotate(0)\"><text style=\"\" x=\"15.00\" y=\"2.81\">38362_rex</text></g><g transform=\"translate(195.66,201.24)rotate(0)\"><text style=\"\" x=\"15.00\" y=\"2.81\">39618_rex</text></g><g transform=\"translate(189.83,188.49)rotate(0)\"><text style=\"\" x=\"15.00\" y=\"2.81\">35236_rex</text></g><g transform=\"translate(185.83,175.74)rotate(0)\"><text style=\"\" x=\"15.00\" y=\"2.81\">35855_rex</text></g><g transform=\"translate(185.63,163.00)rotate(0)\"><text style=\"\" x=\"15.00\" y=\"2.81\">40578_rex</text></g><g transform=\"translate(186.35,150.25)rotate(0)\"><text style=\"\" x=\"15.00\" y=\"2.81\">30556_thamno</text></g><g transform=\"translate(177.98,137.50)rotate(0)\"><text style=\"\" x=\"15.00\" y=\"2.81\">33413_thamno</text></g><g transform=\"translate(184.10,124.75)rotate(0)\"><text style=\"\" x=\"15.00\" y=\"2.81\">41478_cyathophylloides</text></g><g transform=\"translate(184.26,112.00)rotate(0)\"><text style=\"\" x=\"15.00\" y=\"2.81\">41954_cyathophylloides</text></g><g transform=\"translate(182.42,99.26)rotate(0)\"><text style=\"\" x=\"15.00\" y=\"2.81\">30686_cyathophylla</text></g><g transform=\"translate(180.86,86.51)rotate(0)\"><text style=\"\" x=\"15.00\" y=\"2.81\">29154_superba</text></g><g transform=\"translate(140.46,73.76)rotate(0)\"><text style=\"\" x=\"15.00\" y=\"2.81\">33588_przewalskii</text></g><g transform=\"translate(141.00,61.01)rotate(0)\"><text style=\"\" x=\"15.00\" y=\"2.81\">32082_przewalskii</text></g></g></g></g></g></svg><div class=\"toyplot-behavior\"><script>(function()\n",
       "{\n",
       "var modules={};\n",
       "})();</script></div></div>"
      ]
     },
     "metadata": {},
     "output_type": "display_data"
    }
   ],
   "source": [
    "rtre.draw(tree_style='n');"
   ]
  },
  {
   "cell_type": "code",
   "execution_count": null,
   "metadata": {},
   "outputs": [
    {
     "data": {
      "text/html": [
       "<div class=\"toyplot\" id=\"t3363dc0b2d9a43b183715bc792f123b5\" style=\"text-align:center\"><svg class=\"toyplot-canvas-Canvas\" height=\"250.0px\" id=\"t5d95d1cd2ec340a69deae346f6a89cf1\" preserveAspectRatio=\"xMidYMid meet\" style=\"background-color:transparent;border-color:#292724;border-style:none;border-width:1.0;fill:rgb(16.1%,15.3%,14.1%);fill-opacity:1.0;font-family:Helvetica;font-size:12px;opacity:1.0;stroke:rgb(16.1%,15.3%,14.1%);stroke-opacity:1.0;stroke-width:1.0\" viewBox=\"0 0 350.0 250.0\" width=\"350.0px\" xmlns=\"http://www.w3.org/2000/svg\" xmlns:toyplot=\"http://www.sandia.gov/toyplot\" xmlns:xlink=\"http://www.w3.org/1999/xlink\"><g class=\"toyplot-coordinates-Cartesian\" id=\"t50f65158818641e8a7993a75c339d183\"><clipPath id=\"t31ec756b36a24040914e7220d0a0cfb0\"><rect height=\"190.0\" width=\"290.0\" x=\"30.0\" y=\"30.0\"></rect></clipPath><g clip-path=\"url(#t31ec756b36a24040914e7220d0a0cfb0)\"><g class=\"toytree-mark-Toytree\" id=\"t031f88d6c5a644ef8580f611f6df5382\"><g class=\"toytree-Edges\" style=\"fill:none;stroke:rgb(14.9%,14.9%,14.9%);stroke-linecap:round;stroke-opacity:1;stroke-width:2\"><path d=\"M 235.0 57.2 L 279.4 168.2\" id=\"18,17\"></path><path d=\"M 235.0 57.2 L 190.5 90.5\" id=\"18,16\"></path><path d=\"M 190.5 90.5 L 227.2 192.4\" id=\"16,15\"></path><path d=\"M 190.5 90.5 L 153.8 109.1\" id=\"16,14\"></path><path d=\"M 153.8 109.1 L 119.5 117.3\" id=\"14,13\"></path><path d=\"M 119.5 117.3 L 148.9 165.6\" id=\"13,12\"></path><path d=\"M 119.5 117.3 L 90.2 176.7\" id=\"13,11\"></path><path d=\"M 90.2 176.7 L 70.6 188.7\" id=\"11,10\"></path><path d=\"M 279.4 168.2 L 292.5 192.8\" id=\"17,9\"></path><path d=\"M 279.4 168.2 L 266.4 192.8\" id=\"17,8\"></path><path d=\"M 227.2 192.4 L 240.3 192.8\" id=\"15,7\"></path><path d=\"M 227.2 192.4 L 214.2 192.8\" id=\"15,6\"></path><path d=\"M 153.8 109.1 L 188.1 192.8\" id=\"14,5\"></path><path d=\"M 148.9 165.6 L 161.9 192.8\" id=\"12,4\"></path><path d=\"M 148.9 165.6 L 135.8 192.8\" id=\"12,3\"></path><path d=\"M 90.2 176.7 L 109.7 192.8\" id=\"11,2\"></path><path d=\"M 70.6 188.7 L 83.6 192.8\" id=\"10,1\"></path><path d=\"M 70.6 188.7 L 57.5 192.8\" id=\"10,0\"></path></g><g class=\"toytree-Nodes\" style=\"fill:rgb(40%,76.1%,64.7%);fill-opacity:1.0;stroke:rgb(14.9%,14.9%,14.9%);stroke-opacity:1.0;stroke-width:1.5\"><g id=\"node-0\" transform=\"translate(57.519,192.771)\"><circle r=\"4.0\"></circle></g><g id=\"node-1\" transform=\"translate(83.626,192.771)\"><circle r=\"4.0\"></circle></g><g id=\"node-2\" transform=\"translate(109.733,192.771)\"><circle r=\"4.0\"></circle></g><g id=\"node-3\" transform=\"translate(135.840,192.771)\"><circle r=\"4.0\"></circle></g><g id=\"node-4\" transform=\"translate(161.947,192.771)\"><circle r=\"4.0\"></circle></g><g id=\"node-5\" transform=\"translate(188.053,192.771)\"><circle r=\"4.0\"></circle></g><g id=\"node-6\" transform=\"translate(214.160,192.771)\"><circle r=\"4.0\"></circle></g><g id=\"node-7\" transform=\"translate(240.267,192.771)\"><circle r=\"4.0\"></circle></g><g id=\"node-8\" transform=\"translate(266.374,192.771)\"><circle r=\"4.0\"></circle></g><g id=\"node-9\" transform=\"translate(292.481,192.771)\"><circle r=\"4.0\"></circle></g><g id=\"node-10\" transform=\"translate(70.572,188.684)\"><circle r=\"4.0\"></circle></g><g id=\"node-11\" transform=\"translate(90.152,176.722)\"><circle r=\"4.0\"></circle></g><g id=\"node-12\" transform=\"translate(148.893,165.598)\"><circle r=\"4.0\"></circle></g><g id=\"node-13\" transform=\"translate(119.523,117.323)\"><circle r=\"4.0\"></circle></g><g id=\"node-14\" transform=\"translate(153.788,109.116)\"><circle r=\"4.0\"></circle></g><g id=\"node-15\" transform=\"translate(227.214,192.409)\"><circle r=\"4.0\"></circle></g><g id=\"node-16\" transform=\"translate(190.501,90.489)\"><circle r=\"4.0\"></circle></g><g id=\"node-17\" transform=\"translate(279.428,168.206)\"><circle r=\"4.0\"></circle></g><g id=\"node-18\" transform=\"translate(234.964,57.229)\"><circle r=\"4.0\"></circle></g></g></g></g><g class=\"toyplot-coordinates-Axis\" id=\"t26ea05e8c4e64815b0aeea4b5fca25c3\" transform=\"translate(50.0,200.0)rotate(-90.0)translate(0,-20.0)\"><line style=\"\" x1=\"7.228915662650603\" x2=\"142.7710843373494\" y1=\"0\" y2=\"0\"></line><g><line style=\"\" x1=\"7.228915662650603\" x2=\"7.228915662650603\" y1=\"0\" y2=\"5\"></line><line style=\"\" x1=\"75.0\" x2=\"75.0\" y1=\"0\" y2=\"5\"></line><line style=\"\" x1=\"142.77108433734938\" x2=\"142.77108433734938\" y1=\"0\" y2=\"5\"></line></g><g><g transform=\"translate(7.228915662650603,-6)\"><text style=\"fill:rgb(16.1%,15.3%,14.1%);fill-opacity:1.0;font-family:helvetica;font-size:10.0px;font-weight:normal;stroke:none;vertical-align:baseline;white-space:pre\" x=\"-6.95\" y=\"-4.440892098500626e-16\">0.0</text></g><g transform=\"translate(75.0,-6)\"><text style=\"fill:rgb(16.1%,15.3%,14.1%);fill-opacity:1.0;font-family:helvetica;font-size:10.0px;font-weight:normal;stroke:none;vertical-align:baseline;white-space:pre\" x=\"-6.95\" y=\"-4.440892098500626e-16\">0.2</text></g><g transform=\"translate(142.77108433734938,-6)\"><text style=\"fill:rgb(16.1%,15.3%,14.1%);fill-opacity:1.0;font-family:helvetica;font-size:10.0px;font-weight:normal;stroke:none;vertical-align:baseline;white-space:pre\" x=\"-6.95\" y=\"-4.440892098500626e-16\">0.4</text></g></g><g class=\"toyplot-coordinates-Axis-coordinates\" style=\"visibility:hidden\" transform=\"\"><line style=\"stroke:rgb(43.9%,50.2%,56.5%);stroke-opacity:1.0;stroke-width:1.0\" x1=\"0\" x2=\"0\" y1=\"3.0\" y2=\"-4.5\"></line><text style=\"alignment-baseline:hanging;fill:rgb(43.9%,50.2%,56.5%);fill-opacity:1.0;font-size:10px;font-weight:normal;stroke:none;text-anchor:middle\" x=\"0\" y=\"6\"></text></g></g></g></svg><div class=\"toyplot-behavior\"><script>(function()\n",
       "{\n",
       "var modules={};\n",
       "modules[\"toyplot/canvas/id\"] = \"t5d95d1cd2ec340a69deae346f6a89cf1\";\n",
       "modules[\"toyplot/canvas\"] = (function(canvas_id)\n",
       "    {\n",
       "        return document.querySelector(\"#\" + canvas_id);\n",
       "    })(modules[\"toyplot/canvas/id\"]);\n",
       "modules[\"toyplot.coordinates.Axis\"] = (\n",
       "        function(canvas)\n",
       "        {\n",
       "            function sign(x)\n",
       "            {\n",
       "                return x < 0 ? -1 : x > 0 ? 1 : 0;\n",
       "            }\n",
       "\n",
       "            function mix(a, b, amount)\n",
       "            {\n",
       "                return ((1.0 - amount) * a) + (amount * b);\n",
       "            }\n",
       "\n",
       "            function log(x, base)\n",
       "            {\n",
       "                return Math.log(Math.abs(x)) / Math.log(base);\n",
       "            }\n",
       "\n",
       "            function in_range(a, x, b)\n",
       "            {\n",
       "                var left = Math.min(a, b);\n",
       "                var right = Math.max(a, b);\n",
       "                return left <= x && x <= right;\n",
       "            }\n",
       "\n",
       "            function inside(range, projection)\n",
       "            {\n",
       "                for(var i = 0; i != projection.length; ++i)\n",
       "                {\n",
       "                    var segment = projection[i];\n",
       "                    if(in_range(segment.range.min, range, segment.range.max))\n",
       "                        return true;\n",
       "                }\n",
       "                return false;\n",
       "            }\n",
       "\n",
       "            function to_domain(range, projection)\n",
       "            {\n",
       "                for(var i = 0; i != projection.length; ++i)\n",
       "                {\n",
       "                    var segment = projection[i];\n",
       "                    if(in_range(segment.range.bounds.min, range, segment.range.bounds.max))\n",
       "                    {\n",
       "                        if(segment.scale == \"linear\")\n",
       "                        {\n",
       "                            var amount = (range - segment.range.min) / (segment.range.max - segment.range.min);\n",
       "                            return mix(segment.domain.min, segment.domain.max, amount)\n",
       "                        }\n",
       "                        else if(segment.scale[0] == \"log\")\n",
       "                        {\n",
       "                            var amount = (range - segment.range.min) / (segment.range.max - segment.range.min);\n",
       "                            var base = segment.scale[1];\n",
       "                            return sign(segment.domain.min) * Math.pow(base, mix(log(segment.domain.min, base), log(segment.domain.max, base), amount));\n",
       "                        }\n",
       "                    }\n",
       "                }\n",
       "            }\n",
       "\n",
       "            var axes = {};\n",
       "\n",
       "            function display_coordinates(e)\n",
       "            {\n",
       "                var current = canvas.createSVGPoint();\n",
       "                current.x = e.clientX;\n",
       "                current.y = e.clientY;\n",
       "\n",
       "                for(var axis_id in axes)\n",
       "                {\n",
       "                    var axis = document.querySelector(\"#\" + axis_id);\n",
       "                    var coordinates = axis.querySelector(\".toyplot-coordinates-Axis-coordinates\");\n",
       "                    if(coordinates)\n",
       "                    {\n",
       "                        var projection = axes[axis_id];\n",
       "                        var local = current.matrixTransform(axis.getScreenCTM().inverse());\n",
       "                        if(inside(local.x, projection))\n",
       "                        {\n",
       "                            var domain = to_domain(local.x, projection);\n",
       "                            coordinates.style.visibility = \"visible\";\n",
       "                            coordinates.setAttribute(\"transform\", \"translate(\" + local.x + \")\");\n",
       "                            var text = coordinates.querySelector(\"text\");\n",
       "                            text.textContent = domain.toFixed(2);\n",
       "                        }\n",
       "                        else\n",
       "                        {\n",
       "                            coordinates.style.visibility= \"hidden\";\n",
       "                        }\n",
       "                    }\n",
       "                }\n",
       "            }\n",
       "\n",
       "            canvas.addEventListener(\"click\", display_coordinates);\n",
       "\n",
       "            var module = {};\n",
       "            module.show_coordinates = function(axis_id, projection)\n",
       "            {\n",
       "                axes[axis_id] = projection;\n",
       "            }\n",
       "\n",
       "            return module;\n",
       "        })(modules[\"toyplot/canvas\"]);\n",
       "(function(axis, axis_id, projection)\n",
       "        {\n",
       "            axis.show_coordinates(axis_id, projection);\n",
       "        })(modules[\"toyplot.coordinates.Axis\"],\"t26ea05e8c4e64815b0aeea4b5fca25c3\",[{\"domain\": {\"bounds\": {\"max\": Infinity, \"min\": -Infinity}, \"max\": 0.4423768266666668, \"min\": -0.022398826666666673}, \"range\": {\"bounds\": {\"max\": Infinity, \"min\": -Infinity}, \"max\": 150.0, \"min\": 0.0}, \"scale\": \"linear\"}]);\n",
       "})();</script></div></div>"
      ]
     },
     "metadata": {},
     "output_type": "display_data"
    }
   ],
   "source": [
    "# generate a random coalescent tree and draw in 'coalescent' style\n",
    "randomtre = toytree.rtree.coaltree(ntips=10, seed=666)\n",
    "randomtre.draw(tree_style='c');"
   ]
  },
  {
   "cell_type": "markdown",
   "metadata": {},
   "source": [
    "### Scalebar\n",
    "\n",
    "You can add a scalebar to any tree plot by simply adding `scalebar=True`. Alternatively, you can add or customize axes by saving the returned variables from the `.draw()` function and modifying the axes. "
   ]
  },
  {
   "cell_type": "code",
   "execution_count": null,
   "metadata": {},
   "outputs": [
    {
     "data": {
      "text/html": [
       "<div class=\"toyplot\" id=\"tfd2c86c71e054529a30b22adeba8276e\" style=\"text-align:center\"><svg class=\"toyplot-canvas-Canvas\" height=\"275.0px\" id=\"t6a55feb933d9456ba89204efa853fd2b\" preserveAspectRatio=\"xMidYMid meet\" style=\"background-color:transparent;border-color:#292724;border-style:none;border-width:1.0;fill:rgb(16.1%,15.3%,14.1%);fill-opacity:1.0;font-family:Helvetica;font-size:12px;opacity:1.0;stroke:rgb(16.1%,15.3%,14.1%);stroke-opacity:1.0;stroke-width:1.0\" viewBox=\"0 0 360.0 275.0\" width=\"360.0px\" xmlns=\"http://www.w3.org/2000/svg\" xmlns:toyplot=\"http://www.sandia.gov/toyplot\" xmlns:xlink=\"http://www.w3.org/1999/xlink\"><g class=\"toyplot-coordinates-Cartesian\" id=\"teec64bcbb5fd42f2b02b43b28f335860\"><clipPath id=\"t190ac3888cbb48fbb4a0a222cdd6d1fd\"><rect height=\"215.0\" width=\"300.0\" x=\"30.0\" y=\"30.0\"></rect></clipPath><g clip-path=\"url(#t190ac3888cbb48fbb4a0a222cdd6d1fd)\"><g class=\"toytree-mark-Toytree\" id=\"t29d4d7d6c3c147c48e0d19f0fa101328\"><g class=\"toytree-Edges\" style=\"fill:none;stroke:rgb(14.9%,14.9%,14.9%);stroke-linecap:round;stroke-opacity:1;stroke-width:2\"><path d=\"M 51.1 98.2 L 51.1 67.4 L 129.6 67.4\" id=\"24,23\"></path><path d=\"M 51.1 98.2 L 51.1 128.9 L 129.6 128.9\" id=\"24,22\"></path><path d=\"M 129.6 128.9 L 129.6 105.6 L 142.7 105.6\" id=\"22,21\"></path><path d=\"M 129.6 128.9 L 129.6 152.2 L 153.2 152.2\" id=\"22,20\"></path><path d=\"M 142.7 105.6 L 142.7 92.9 L 153.1 92.9\" id=\"21,19\"></path><path d=\"M 142.7 105.6 L 142.7 118.4 L 183.9 118.4\" id=\"21,18\"></path><path d=\"M 153.2 152.2 L 153.2 167.0 L 157.8 167.0\" id=\"20,17\"></path><path d=\"M 157.8 167.0 L 157.8 183.7 L 161.2 183.7\" id=\"17,16\"></path><path d=\"M 161.2 183.7 L 161.2 169.4 L 170.9 169.4\" id=\"16,15\"></path><path d=\"M 161.2 183.7 L 161.2 198.1 L 164.4 198.1\" id=\"16,14\"></path><path d=\"M 164.4 198.1 L 164.4 207.6 L 191.5 207.6\" id=\"14,13\"></path><path d=\"M 129.6 67.4 L 129.6 61.0 L 141.0 61.0\" id=\"23,12\"></path><path d=\"M 129.6 67.4 L 129.6 73.8 L 140.5 73.8\" id=\"23,11\"></path><path d=\"M 153.1 92.9 L 153.1 86.5 L 180.9 86.5\" id=\"19,10\"></path><path d=\"M 153.1 92.9 L 153.1 99.3 L 182.4 99.3\" id=\"19,9\"></path><path d=\"M 183.9 118.4 L 183.9 112.0 L 184.3 112.0\" id=\"18,8\"></path><path d=\"M 183.9 118.4 L 183.9 124.8 L 184.1 124.8\" id=\"18,7\"></path><path d=\"M 153.2 152.2 L 153.2 137.5 L 178.0 137.5\" id=\"20,6\"></path><path d=\"M 157.8 167.0 L 157.8 150.2 L 186.3 150.2\" id=\"17,5\"></path><path d=\"M 170.9 169.4 L 170.9 163.0 L 185.6 163.0\" id=\"15,4\"></path><path d=\"M 170.9 169.4 L 170.9 175.7 L 185.8 175.7\" id=\"15,3\"></path><path d=\"M 164.4 198.1 L 164.4 188.5 L 189.8 188.5\" id=\"14,2\"></path><path d=\"M 191.5 207.6 L 191.5 201.2 L 195.7 201.2\" id=\"13,1\"></path><path d=\"M 191.5 207.6 L 191.5 214.0 L 196.2 214.0\" id=\"13,0\"></path></g><g class=\"toytree-TipLabels\" style=\"fill:rgb(14.9%,14.9%,14.9%);fill-opacity:1.0;font-family:helvetica;font-size:11px;font-weight:normal;stroke:none;white-space:pre\"><g transform=\"translate(196.23,213.99)rotate(0)\"><text style=\"\" x=\"15.00\" y=\"2.81\">38362_rex</text></g><g transform=\"translate(195.66,201.24)rotate(0)\"><text style=\"\" x=\"15.00\" y=\"2.81\">39618_rex</text></g><g transform=\"translate(189.83,188.49)rotate(0)\"><text style=\"\" x=\"15.00\" y=\"2.81\">35236_rex</text></g><g transform=\"translate(185.83,175.74)rotate(0)\"><text style=\"\" x=\"15.00\" y=\"2.81\">35855_rex</text></g><g transform=\"translate(185.63,163.00)rotate(0)\"><text style=\"\" x=\"15.00\" y=\"2.81\">40578_rex</text></g><g transform=\"translate(186.35,150.25)rotate(0)\"><text style=\"\" x=\"15.00\" y=\"2.81\">30556_thamno</text></g><g transform=\"translate(177.98,137.50)rotate(0)\"><text style=\"\" x=\"15.00\" y=\"2.81\">33413_thamno</text></g><g transform=\"translate(184.10,124.75)rotate(0)\"><text style=\"\" x=\"15.00\" y=\"2.81\">41478_cyathophylloides</text></g><g transform=\"translate(184.26,112.00)rotate(0)\"><text style=\"\" x=\"15.00\" y=\"2.81\">41954_cyathophylloides</text></g><g transform=\"translate(182.42,99.26)rotate(0)\"><text style=\"\" x=\"15.00\" y=\"2.81\">30686_cyathophylla</text></g><g transform=\"translate(180.86,86.51)rotate(0)\"><text style=\"\" x=\"15.00\" y=\"2.81\">29154_superba</text></g><g transform=\"translate(140.46,73.76)rotate(0)\"><text style=\"\" x=\"15.00\" y=\"2.81\">33588_przewalskii</text></g><g transform=\"translate(141.00,61.01)rotate(0)\"><text style=\"\" x=\"15.00\" y=\"2.81\">32082_przewalskii</text></g></g></g></g><g class=\"toyplot-coordinates-Axis\" id=\"t42e2e956bbce41bc87d60f21c2acab60\" transform=\"translate(50.0,225.0)translate(0,20.0)\"><line style=\"\" x1=\"1.1162810820288174\" x2=\"146.23282174577528\" y1=\"0\" y2=\"0\"></line><g><line style=\"\" x1=\"146.23282174577528\" x2=\"146.23282174577528\" y1=\"0\" y2=\"-5\"></line><line style=\"\" x1=\"73.67455141390202\" x2=\"73.67455141390202\" y1=\"0\" y2=\"-5\"></line><line style=\"\" x1=\"1.116281082028787\" x2=\"1.116281082028787\" y1=\"0\" y2=\"-5\"></line></g><g><g transform=\"translate(146.23282174577528,6)\"><text style=\"fill:rgb(16.1%,15.3%,14.1%);fill-opacity:1.0;font-family:helvetica;font-size:10.0px;font-weight:normal;stroke:none;vertical-align:baseline;white-space:pre\" x=\"-9.729999999999999\" y=\"8.555\">0.00</text></g><g transform=\"translate(73.67455141390202,6)\"><text style=\"fill:rgb(16.1%,15.3%,14.1%);fill-opacity:1.0;font-family:helvetica;font-size:10.0px;font-weight:normal;stroke:none;vertical-align:baseline;white-space:pre\" x=\"-9.729999999999999\" y=\"8.555\">0.02</text></g><g transform=\"translate(1.116281082028787,6)\"><text style=\"fill:rgb(16.1%,15.3%,14.1%);fill-opacity:1.0;font-family:helvetica;font-size:10.0px;font-weight:normal;stroke:none;vertical-align:baseline;white-space:pre\" x=\"-9.729999999999999\" y=\"8.555\">0.03</text></g></g><g class=\"toyplot-coordinates-Axis-coordinates\" style=\"visibility:hidden\" transform=\"\"><line style=\"stroke:rgb(43.9%,50.2%,56.5%);stroke-opacity:1.0;stroke-width:1.0\" x1=\"0\" x2=\"0\" y1=\"-3.0\" y2=\"4.5\"></line><text style=\"alignment-baseline:alphabetic;fill:rgb(43.9%,50.2%,56.5%);fill-opacity:1.0;font-size:10px;font-weight:normal;stroke:none;text-anchor:middle\" x=\"0\" y=\"-6\"></text></g></g></g></svg><div class=\"toyplot-behavior\"><script>(function()\n",
       "{\n",
       "var modules={};\n",
       "modules[\"toyplot/canvas/id\"] = \"t6a55feb933d9456ba89204efa853fd2b\";\n",
       "modules[\"toyplot/canvas\"] = (function(canvas_id)\n",
       "    {\n",
       "        return document.querySelector(\"#\" + canvas_id);\n",
       "    })(modules[\"toyplot/canvas/id\"]);\n",
       "modules[\"toyplot.coordinates.Axis\"] = (\n",
       "        function(canvas)\n",
       "        {\n",
       "            function sign(x)\n",
       "            {\n",
       "                return x < 0 ? -1 : x > 0 ? 1 : 0;\n",
       "            }\n",
       "\n",
       "            function mix(a, b, amount)\n",
       "            {\n",
       "                return ((1.0 - amount) * a) + (amount * b);\n",
       "            }\n",
       "\n",
       "            function log(x, base)\n",
       "            {\n",
       "                return Math.log(Math.abs(x)) / Math.log(base);\n",
       "            }\n",
       "\n",
       "            function in_range(a, x, b)\n",
       "            {\n",
       "                var left = Math.min(a, b);\n",
       "                var right = Math.max(a, b);\n",
       "                return left <= x && x <= right;\n",
       "            }\n",
       "\n",
       "            function inside(range, projection)\n",
       "            {\n",
       "                for(var i = 0; i != projection.length; ++i)\n",
       "                {\n",
       "                    var segment = projection[i];\n",
       "                    if(in_range(segment.range.min, range, segment.range.max))\n",
       "                        return true;\n",
       "                }\n",
       "                return false;\n",
       "            }\n",
       "\n",
       "            function to_domain(range, projection)\n",
       "            {\n",
       "                for(var i = 0; i != projection.length; ++i)\n",
       "                {\n",
       "                    var segment = projection[i];\n",
       "                    if(in_range(segment.range.bounds.min, range, segment.range.bounds.max))\n",
       "                    {\n",
       "                        if(segment.scale == \"linear\")\n",
       "                        {\n",
       "                            var amount = (range - segment.range.min) / (segment.range.max - segment.range.min);\n",
       "                            return mix(segment.domain.min, segment.domain.max, amount)\n",
       "                        }\n",
       "                        else if(segment.scale[0] == \"log\")\n",
       "                        {\n",
       "                            var amount = (range - segment.range.min) / (segment.range.max - segment.range.min);\n",
       "                            var base = segment.scale[1];\n",
       "                            return sign(segment.domain.min) * Math.pow(base, mix(log(segment.domain.min, base), log(segment.domain.max, base), amount));\n",
       "                        }\n",
       "                    }\n",
       "                }\n",
       "            }\n",
       "\n",
       "            var axes = {};\n",
       "\n",
       "            function display_coordinates(e)\n",
       "            {\n",
       "                var current = canvas.createSVGPoint();\n",
       "                current.x = e.clientX;\n",
       "                current.y = e.clientY;\n",
       "\n",
       "                for(var axis_id in axes)\n",
       "                {\n",
       "                    var axis = document.querySelector(\"#\" + axis_id);\n",
       "                    var coordinates = axis.querySelector(\".toyplot-coordinates-Axis-coordinates\");\n",
       "                    if(coordinates)\n",
       "                    {\n",
       "                        var projection = axes[axis_id];\n",
       "                        var local = current.matrixTransform(axis.getScreenCTM().inverse());\n",
       "                        if(inside(local.x, projection))\n",
       "                        {\n",
       "                            var domain = to_domain(local.x, projection);\n",
       "                            coordinates.style.visibility = \"visible\";\n",
       "                            coordinates.setAttribute(\"transform\", \"translate(\" + local.x + \")\");\n",
       "                            var text = coordinates.querySelector(\"text\");\n",
       "                            text.textContent = domain.toFixed(2);\n",
       "                        }\n",
       "                        else\n",
       "                        {\n",
       "                            coordinates.style.visibility= \"hidden\";\n",
       "                        }\n",
       "                    }\n",
       "                }\n",
       "            }\n",
       "\n",
       "            canvas.addEventListener(\"click\", display_coordinates);\n",
       "\n",
       "            var module = {};\n",
       "            module.show_coordinates = function(axis_id, projection)\n",
       "            {\n",
       "                axes[axis_id] = projection;\n",
       "            }\n",
       "\n",
       "            return module;\n",
       "        })(modules[\"toyplot/canvas\"]);\n",
       "(function(axis, axis_id, projection)\n",
       "        {\n",
       "            axis.show_coordinates(axis_id, projection);\n",
       "        })(modules[\"toyplot.coordinates.Axis\"],\"t42e2e956bbce41bc87d60f21c2acab60\",[{\"domain\": {\"bounds\": {\"max\": Infinity, \"min\": -Infinity}, \"max\": 0.025986968742242773, \"min\": -0.03340284804555486}, \"range\": {\"bounds\": {\"max\": Infinity, \"min\": -Infinity}, \"max\": 260.0, \"min\": 0.0}, \"scale\": \"linear\"}]);\n",
       "})();</script></div></div>"
      ]
     },
     "metadata": {},
     "output_type": "display_data"
    }
   ],
   "source": [
    "rtre.draw(scalebar=True);"
   ]
  }
 ],
 "metadata": {
  "kernelspec": {
   "display_name": "toytree_practice",
   "language": "python",
   "name": "toytree_practice"
  },
  "language_info": {
   "codemirror_mode": {
    "name": "ipython",
    "version": 3
   },
   "file_extension": ".py",
   "mimetype": "text/x-python",
   "name": "python",
   "nbconvert_exporter": "python",
   "pygments_lexer": "ipython3",
   "version": "3.12.4"
  }
 },
 "nbformat": 4,
 "nbformat_minor": 2
}
